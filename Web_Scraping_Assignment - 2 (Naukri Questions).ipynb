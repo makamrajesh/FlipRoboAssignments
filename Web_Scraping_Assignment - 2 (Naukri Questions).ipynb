{
 "cells": [
  {
   "cell_type": "code",
   "execution_count": 1,
   "metadata": {},
   "outputs": [],
   "source": [
    "import pandas as pd\n",
    "\n",
    "from selenium import webdriver\n",
    "\n",
    "from selenium.common.exceptions import NoSuchElementException\n",
    "\n",
    "import time"
   ]
  },
  {
   "cell_type": "code",
   "execution_count": 2,
   "metadata": {},
   "outputs": [],
   "source": [
    "driver = webdriver.Chrome(\"chromedriver.exe\")"
   ]
  },
  {
   "cell_type": "code",
   "execution_count": 3,
   "metadata": {},
   "outputs": [],
   "source": [
    "driver.get('https://www.naukri.com/')"
   ]
  },
  {
   "cell_type": "code",
   "execution_count": 4,
   "metadata": {},
   "outputs": [],
   "source": [
    "#finding element for job search bar\n",
    "\n",
    "search_job = driver.find_element_by_id('qsb-keyword-sugg')\n",
    "search_job.send_keys('Data Scientist')"
   ]
  },
  {
   "cell_type": "code",
   "execution_count": 5,
   "metadata": {},
   "outputs": [],
   "source": [
    "#finding element for location bar\n",
    "\n",
    "search_loc = driver.find_element_by_id('qsb-location-sugg')\n",
    "search_loc.send_keys('Bangalore')"
   ]
  },
  {
   "cell_type": "code",
   "execution_count": 6,
   "metadata": {},
   "outputs": [],
   "source": [
    "#do click using class_name function\n",
    "\n",
    "search_btn = driver.find_element_by_class_name('btn')\n",
    "search_btn.click()"
   ]
  },
  {
   "cell_type": "code",
   "execution_count": 7,
   "metadata": {},
   "outputs": [
    {
     "data": {
      "text/plain": [
       "<selenium.webdriver.remote.webelement.WebElement (session=\"fda52e26c7522a95ff35e43db5fc5c0a\", element=\"4dbb1c40-624d-42fd-ab8b-3548ad7591e8\")>"
      ]
     },
     "execution_count": 7,
     "metadata": {},
     "output_type": "execute_result"
    }
   ],
   "source": [
    "#so lets extract all the tags having the job-titles\n",
    "\n",
    "title_tag = driver.find_element_by_xpath(\"//a[@class='title fw500 ellipsis']\")\n",
    "\n",
    "title_tag"
   ]
  },
  {
   "cell_type": "code",
   "execution_count": 8,
   "metadata": {},
   "outputs": [
    {
     "data": {
      "text/plain": [
       "[<selenium.webdriver.remote.webelement.WebElement (session=\"fda52e26c7522a95ff35e43db5fc5c0a\", element=\"4dbb1c40-624d-42fd-ab8b-3548ad7591e8\")>,\n",
       " <selenium.webdriver.remote.webelement.WebElement (session=\"fda52e26c7522a95ff35e43db5fc5c0a\", element=\"5efd9093-521a-428f-81f3-59340b6b9c53\")>,\n",
       " <selenium.webdriver.remote.webelement.WebElement (session=\"fda52e26c7522a95ff35e43db5fc5c0a\", element=\"825669bc-fc08-4fc6-9bd7-ef2b3ba0bef1\")>,\n",
       " <selenium.webdriver.remote.webelement.WebElement (session=\"fda52e26c7522a95ff35e43db5fc5c0a\", element=\"ae49cb02-077c-4274-bff5-6520e5bf5df5\")>,\n",
       " <selenium.webdriver.remote.webelement.WebElement (session=\"fda52e26c7522a95ff35e43db5fc5c0a\", element=\"554273b4-eeba-4a5a-a6ce-021ba51ee8a5\")>,\n",
       " <selenium.webdriver.remote.webelement.WebElement (session=\"fda52e26c7522a95ff35e43db5fc5c0a\", element=\"5a45af56-f1b3-4213-9bc8-7e9e5d2c2e5c\")>,\n",
       " <selenium.webdriver.remote.webelement.WebElement (session=\"fda52e26c7522a95ff35e43db5fc5c0a\", element=\"b0e214f4-d78c-4c3a-9838-892e58bfc28d\")>,\n",
       " <selenium.webdriver.remote.webelement.WebElement (session=\"fda52e26c7522a95ff35e43db5fc5c0a\", element=\"f926908b-e4b4-4fa4-9e48-556f6bbb9ac9\")>,\n",
       " <selenium.webdriver.remote.webelement.WebElement (session=\"fda52e26c7522a95ff35e43db5fc5c0a\", element=\"a8d7ef85-8385-4716-b3af-e48941791a07\")>,\n",
       " <selenium.webdriver.remote.webelement.WebElement (session=\"fda52e26c7522a95ff35e43db5fc5c0a\", element=\"4b99e576-5000-4ff1-9f7c-3c26a6d940c1\")>,\n",
       " <selenium.webdriver.remote.webelement.WebElement (session=\"fda52e26c7522a95ff35e43db5fc5c0a\", element=\"12c82708-100f-4d75-9fae-73ab03825932\")>,\n",
       " <selenium.webdriver.remote.webelement.WebElement (session=\"fda52e26c7522a95ff35e43db5fc5c0a\", element=\"aa023996-584b-4e0f-ab65-486235217487\")>,\n",
       " <selenium.webdriver.remote.webelement.WebElement (session=\"fda52e26c7522a95ff35e43db5fc5c0a\", element=\"306b13ec-a558-4132-99d7-b556d628f2e0\")>,\n",
       " <selenium.webdriver.remote.webelement.WebElement (session=\"fda52e26c7522a95ff35e43db5fc5c0a\", element=\"c5bc0428-5195-4b13-b05e-d344f5f5f176\")>,\n",
       " <selenium.webdriver.remote.webelement.WebElement (session=\"fda52e26c7522a95ff35e43db5fc5c0a\", element=\"752d9056-5d32-4603-bd90-8c5b036c3286\")>,\n",
       " <selenium.webdriver.remote.webelement.WebElement (session=\"fda52e26c7522a95ff35e43db5fc5c0a\", element=\"0dcd3b7e-a70f-4c8c-bc6a-ffc6dd9b6e3e\")>,\n",
       " <selenium.webdriver.remote.webelement.WebElement (session=\"fda52e26c7522a95ff35e43db5fc5c0a\", element=\"8857fc3a-d9de-43a0-a4cf-24bdceed5cdd\")>,\n",
       " <selenium.webdriver.remote.webelement.WebElement (session=\"fda52e26c7522a95ff35e43db5fc5c0a\", element=\"28a4ce10-55a7-4cb4-80d2-3d4b37a37bae\")>,\n",
       " <selenium.webdriver.remote.webelement.WebElement (session=\"fda52e26c7522a95ff35e43db5fc5c0a\", element=\"3f1b7d26-d132-44f4-81a2-99bcf33b4ebb\")>,\n",
       " <selenium.webdriver.remote.webelement.WebElement (session=\"fda52e26c7522a95ff35e43db5fc5c0a\", element=\"41cc3763-8213-41e0-b103-96f0f61517bc\")>]"
      ]
     },
     "execution_count": 8,
     "metadata": {},
     "output_type": "execute_result"
    }
   ],
   "source": [
    "#Finding all job titles\n",
    "\n",
    "titles_tag = driver.find_elements_by_xpath(\"//a[@class='title fw500 ellipsis']\")\n",
    "\n",
    "titles_tag"
   ]
  },
  {
   "cell_type": "code",
   "execution_count": 9,
   "metadata": {},
   "outputs": [
    {
     "data": {
      "text/plain": [
       "['Senior Data Scientist',\n",
       " 'Senior Data Scientist',\n",
       " 'Data Scientist',\n",
       " 'Data Scientist - Machine Learning',\n",
       " 'Big Data - Data Scientist',\n",
       " 'Data Scientist',\n",
       " 'SDE Lead Data Scientist-L3',\n",
       " 'Computational Design Lead Data Scientist-L3',\n",
       " 'Hiring For DATA Scientist - ON Contract Basis (3-6 Months)',\n",
       " 'Lead Data Scientist']"
      ]
     },
     "execution_count": 9,
     "metadata": {},
     "output_type": "execute_result"
    }
   ],
   "source": [
    "titles = []\n",
    "\n",
    "for i in titles_tag[:10]:\n",
    "    titles.append(i.text)\n",
    "    \n",
    "titles"
   ]
  },
  {
   "cell_type": "code",
   "execution_count": 10,
   "metadata": {},
   "outputs": [
    {
     "data": {
      "text/plain": [
       "[<selenium.webdriver.remote.webelement.WebElement (session=\"fda52e26c7522a95ff35e43db5fc5c0a\", element=\"a112b0c9-1bef-4f08-996a-074b6349ded1\")>,\n",
       " <selenium.webdriver.remote.webelement.WebElement (session=\"fda52e26c7522a95ff35e43db5fc5c0a\", element=\"d3095033-d203-493a-99bc-7d9a81a4cf0e\")>,\n",
       " <selenium.webdriver.remote.webelement.WebElement (session=\"fda52e26c7522a95ff35e43db5fc5c0a\", element=\"697eee06-9e99-44dd-9912-22913e92059f\")>,\n",
       " <selenium.webdriver.remote.webelement.WebElement (session=\"fda52e26c7522a95ff35e43db5fc5c0a\", element=\"c8f09b9a-0ac4-4bbd-8685-515c76134c0b\")>,\n",
       " <selenium.webdriver.remote.webelement.WebElement (session=\"fda52e26c7522a95ff35e43db5fc5c0a\", element=\"ee7688ec-25df-446d-a164-6949fcccf7e9\")>,\n",
       " <selenium.webdriver.remote.webelement.WebElement (session=\"fda52e26c7522a95ff35e43db5fc5c0a\", element=\"520c6138-061d-4627-a915-fc68c8e667fc\")>,\n",
       " <selenium.webdriver.remote.webelement.WebElement (session=\"fda52e26c7522a95ff35e43db5fc5c0a\", element=\"77034226-f5f3-4cf5-9ea0-c77a3413b9f4\")>,\n",
       " <selenium.webdriver.remote.webelement.WebElement (session=\"fda52e26c7522a95ff35e43db5fc5c0a\", element=\"b85c1528-c616-45b3-8649-d490887c8b3c\")>,\n",
       " <selenium.webdriver.remote.webelement.WebElement (session=\"fda52e26c7522a95ff35e43db5fc5c0a\", element=\"b4ff3133-457f-4752-b6a2-5c1669d7c9a4\")>,\n",
       " <selenium.webdriver.remote.webelement.WebElement (session=\"fda52e26c7522a95ff35e43db5fc5c0a\", element=\"7e39db01-265f-489c-829b-124ae5503e3c\")>,\n",
       " <selenium.webdriver.remote.webelement.WebElement (session=\"fda52e26c7522a95ff35e43db5fc5c0a\", element=\"3c217043-ef4d-4496-9863-7b9a30026c81\")>,\n",
       " <selenium.webdriver.remote.webelement.WebElement (session=\"fda52e26c7522a95ff35e43db5fc5c0a\", element=\"3cff00ae-eda2-4736-b815-4ec5118003a4\")>,\n",
       " <selenium.webdriver.remote.webelement.WebElement (session=\"fda52e26c7522a95ff35e43db5fc5c0a\", element=\"1a27358b-55e1-4d2e-9497-86fb8eec3571\")>,\n",
       " <selenium.webdriver.remote.webelement.WebElement (session=\"fda52e26c7522a95ff35e43db5fc5c0a\", element=\"488433b8-9eaf-4023-a79b-c45942c2a8cf\")>,\n",
       " <selenium.webdriver.remote.webelement.WebElement (session=\"fda52e26c7522a95ff35e43db5fc5c0a\", element=\"89d14e5d-f95d-47a6-8f9b-833e8f3e7079\")>,\n",
       " <selenium.webdriver.remote.webelement.WebElement (session=\"fda52e26c7522a95ff35e43db5fc5c0a\", element=\"1804ee97-9e28-4dfc-b9cc-b3001b5d0dc8\")>,\n",
       " <selenium.webdriver.remote.webelement.WebElement (session=\"fda52e26c7522a95ff35e43db5fc5c0a\", element=\"c7dd7e69-96e3-4398-bfd2-5862c09b6a9d\")>,\n",
       " <selenium.webdriver.remote.webelement.WebElement (session=\"fda52e26c7522a95ff35e43db5fc5c0a\", element=\"678f260e-6d24-4e74-b594-51821cbf1bb5\")>,\n",
       " <selenium.webdriver.remote.webelement.WebElement (session=\"fda52e26c7522a95ff35e43db5fc5c0a\", element=\"bb5f5f94-f3d9-4f7e-9ab0-1fa710978246\")>,\n",
       " <selenium.webdriver.remote.webelement.WebElement (session=\"fda52e26c7522a95ff35e43db5fc5c0a\", element=\"74d08e78-087d-4c7c-b5af-5c8c9f9b883a\")>]"
      ]
     },
     "execution_count": 10,
     "metadata": {},
     "output_type": "execute_result"
    }
   ],
   "source": [
    "companies_tag = driver.find_elements_by_xpath(\"//a[@class='subTitle ellipsis fleft']\")\n",
    "\n",
    "companies_tag"
   ]
  },
  {
   "cell_type": "code",
   "execution_count": 11,
   "metadata": {},
   "outputs": [
    {
     "data": {
      "text/plain": [
       "['Fractal Analytics',\n",
       " 'Fractal Analytics',\n",
       " 'Wipro Limited',\n",
       " 'AugmatrixGo',\n",
       " 'Xoriant Solutions Pvt Ltd',\n",
       " 'Oracle India Pvt. Ltd.',\n",
       " 'Huawei Technologies India Pvt Ltd',\n",
       " 'Huawei Technologies India Pvt Ltd',\n",
       " 'GlobalEdx Learning and Technology Solution Pvt Ltd',\n",
       " 'PROFITWHEEL DATA TECHNOLOGIES PRIVATE LIMITED']"
      ]
     },
     "execution_count": 11,
     "metadata": {},
     "output_type": "execute_result"
    }
   ],
   "source": [
    "company_name = []\n",
    "\n",
    "for i in companies_tag[:10]:\n",
    "    company_name.append(i.text)\n",
    "    \n",
    "company_name"
   ]
  },
  {
   "cell_type": "code",
   "execution_count": 12,
   "metadata": {},
   "outputs": [
    {
     "data": {
      "text/plain": [
       "[<selenium.webdriver.remote.webelement.WebElement (session=\"fda52e26c7522a95ff35e43db5fc5c0a\", element=\"efbc9ee8-eff4-45cb-9042-1a1fde911120\")>,\n",
       " <selenium.webdriver.remote.webelement.WebElement (session=\"fda52e26c7522a95ff35e43db5fc5c0a\", element=\"c47cbaf3-b7f9-4e47-8025-0a3764464a0b\")>,\n",
       " <selenium.webdriver.remote.webelement.WebElement (session=\"fda52e26c7522a95ff35e43db5fc5c0a\", element=\"b0bfbb94-cc0d-4d79-8ccf-e20f9dc49d3e\")>,\n",
       " <selenium.webdriver.remote.webelement.WebElement (session=\"fda52e26c7522a95ff35e43db5fc5c0a\", element=\"c8e32667-645a-4fd8-8368-9973d6600b07\")>,\n",
       " <selenium.webdriver.remote.webelement.WebElement (session=\"fda52e26c7522a95ff35e43db5fc5c0a\", element=\"238a29f9-f4ba-448e-91ea-d7fa2572d0cc\")>,\n",
       " <selenium.webdriver.remote.webelement.WebElement (session=\"fda52e26c7522a95ff35e43db5fc5c0a\", element=\"86cd4ada-0082-4bc3-9edc-7f898bc1722c\")>,\n",
       " <selenium.webdriver.remote.webelement.WebElement (session=\"fda52e26c7522a95ff35e43db5fc5c0a\", element=\"b34a1692-7d7c-4f9b-992b-b0202f0376f4\")>,\n",
       " <selenium.webdriver.remote.webelement.WebElement (session=\"fda52e26c7522a95ff35e43db5fc5c0a\", element=\"7d8ea5fa-ad0c-4020-851a-5b09ed4030a2\")>,\n",
       " <selenium.webdriver.remote.webelement.WebElement (session=\"fda52e26c7522a95ff35e43db5fc5c0a\", element=\"18e185a3-f6c6-40e5-b76d-2a16cab7adbf\")>,\n",
       " <selenium.webdriver.remote.webelement.WebElement (session=\"fda52e26c7522a95ff35e43db5fc5c0a\", element=\"59e44427-8111-4136-8e85-d9d5c92e2790\")>,\n",
       " <selenium.webdriver.remote.webelement.WebElement (session=\"fda52e26c7522a95ff35e43db5fc5c0a\", element=\"bf1b5ad6-fc78-4628-a09f-b9cdb4fc88f6\")>,\n",
       " <selenium.webdriver.remote.webelement.WebElement (session=\"fda52e26c7522a95ff35e43db5fc5c0a\", element=\"56628d9a-429c-4a25-a821-408b2f2f9e0b\")>,\n",
       " <selenium.webdriver.remote.webelement.WebElement (session=\"fda52e26c7522a95ff35e43db5fc5c0a\", element=\"c2618381-d62d-4379-8f04-f12a207f998c\")>,\n",
       " <selenium.webdriver.remote.webelement.WebElement (session=\"fda52e26c7522a95ff35e43db5fc5c0a\", element=\"83e1cf14-8ba8-4865-b401-0ee569a171f1\")>,\n",
       " <selenium.webdriver.remote.webelement.WebElement (session=\"fda52e26c7522a95ff35e43db5fc5c0a\", element=\"00845b3a-3d1b-4279-afe8-4e0280a619df\")>,\n",
       " <selenium.webdriver.remote.webelement.WebElement (session=\"fda52e26c7522a95ff35e43db5fc5c0a\", element=\"c5e109c1-ccbe-4382-8e90-d45aea63cc16\")>,\n",
       " <selenium.webdriver.remote.webelement.WebElement (session=\"fda52e26c7522a95ff35e43db5fc5c0a\", element=\"db5874a1-ac6e-43e2-8a07-3f8c7b5f53a2\")>,\n",
       " <selenium.webdriver.remote.webelement.WebElement (session=\"fda52e26c7522a95ff35e43db5fc5c0a\", element=\"2e7f8bde-9944-4626-8f72-a12e764a4c2e\")>,\n",
       " <selenium.webdriver.remote.webelement.WebElement (session=\"fda52e26c7522a95ff35e43db5fc5c0a\", element=\"98cdc199-80f8-40f2-8b9f-60dca8b37680\")>,\n",
       " <selenium.webdriver.remote.webelement.WebElement (session=\"fda52e26c7522a95ff35e43db5fc5c0a\", element=\"ad7d07d9-340c-431d-a352-5a82572efc42\")>]"
      ]
     },
     "execution_count": 12,
     "metadata": {},
     "output_type": "execute_result"
    }
   ],
   "source": [
    "experience_tags = driver.find_elements_by_xpath(\"//li[@class='fleft grey-text br2 placeHolderLi experience']/span\")\n",
    "\n",
    "experience_tags"
   ]
  },
  {
   "cell_type": "code",
   "execution_count": 13,
   "metadata": {},
   "outputs": [
    {
     "data": {
      "text/plain": [
       "['4-8 Yrs',\n",
       " '5-10 Yrs',\n",
       " '4-9 Yrs',\n",
       " '2-5 Yrs',\n",
       " '1-3 Yrs',\n",
       " '6-10 Yrs',\n",
       " '5-8 Yrs',\n",
       " '5-8 Yrs',\n",
       " '3-8 Yrs',\n",
       " '2-4 Yrs']"
      ]
     },
     "execution_count": 13,
     "metadata": {},
     "output_type": "execute_result"
    }
   ],
   "source": [
    "experience = []\n",
    "\n",
    "for i in experience_tags[:10]:\n",
    "    experience.append(i.text)\n",
    "\n",
    "experience"
   ]
  },
  {
   "cell_type": "code",
   "execution_count": 14,
   "metadata": {},
   "outputs": [
    {
     "data": {
      "text/plain": [
       "[<selenium.webdriver.remote.webelement.WebElement (session=\"fda52e26c7522a95ff35e43db5fc5c0a\", element=\"522c80d1-5595-45a7-9236-2a6c1fb1b3e9\")>,\n",
       " <selenium.webdriver.remote.webelement.WebElement (session=\"fda52e26c7522a95ff35e43db5fc5c0a\", element=\"6bbf722b-0ef7-4e1a-8d9a-6f339d790327\")>,\n",
       " <selenium.webdriver.remote.webelement.WebElement (session=\"fda52e26c7522a95ff35e43db5fc5c0a\", element=\"8993a261-eb76-4dcb-bfd2-2727cc82a990\")>,\n",
       " <selenium.webdriver.remote.webelement.WebElement (session=\"fda52e26c7522a95ff35e43db5fc5c0a\", element=\"7001391f-fed8-4f69-8840-f11e046715c6\")>,\n",
       " <selenium.webdriver.remote.webelement.WebElement (session=\"fda52e26c7522a95ff35e43db5fc5c0a\", element=\"338fc320-eb2c-4ee2-a54c-84455bd26494\")>,\n",
       " <selenium.webdriver.remote.webelement.WebElement (session=\"fda52e26c7522a95ff35e43db5fc5c0a\", element=\"45ed86ec-678d-406d-b557-54a2ac498ab8\")>,\n",
       " <selenium.webdriver.remote.webelement.WebElement (session=\"fda52e26c7522a95ff35e43db5fc5c0a\", element=\"05caf476-f384-47cd-a02d-2739655290c0\")>,\n",
       " <selenium.webdriver.remote.webelement.WebElement (session=\"fda52e26c7522a95ff35e43db5fc5c0a\", element=\"bc34bc2f-f535-4242-8b66-4a195f77e815\")>,\n",
       " <selenium.webdriver.remote.webelement.WebElement (session=\"fda52e26c7522a95ff35e43db5fc5c0a\", element=\"7bf4be36-5c08-47d6-8f2e-36378d37989b\")>,\n",
       " <selenium.webdriver.remote.webelement.WebElement (session=\"fda52e26c7522a95ff35e43db5fc5c0a\", element=\"dee2e0d4-8827-4e4a-9d34-0ac206fe0d1a\")>,\n",
       " <selenium.webdriver.remote.webelement.WebElement (session=\"fda52e26c7522a95ff35e43db5fc5c0a\", element=\"9243f8aa-fcad-4dbb-b744-65da7589a870\")>,\n",
       " <selenium.webdriver.remote.webelement.WebElement (session=\"fda52e26c7522a95ff35e43db5fc5c0a\", element=\"47780aea-7981-4205-b6a0-fc095df17d31\")>,\n",
       " <selenium.webdriver.remote.webelement.WebElement (session=\"fda52e26c7522a95ff35e43db5fc5c0a\", element=\"bd7d8e9e-7fb2-4f50-9c08-23eb5db62d78\")>,\n",
       " <selenium.webdriver.remote.webelement.WebElement (session=\"fda52e26c7522a95ff35e43db5fc5c0a\", element=\"11c51cbf-c164-40b6-aa7e-4f7ccf0c2d79\")>,\n",
       " <selenium.webdriver.remote.webelement.WebElement (session=\"fda52e26c7522a95ff35e43db5fc5c0a\", element=\"3d0fd72a-5b0f-4b6c-a9bf-f215ff6d1aee\")>,\n",
       " <selenium.webdriver.remote.webelement.WebElement (session=\"fda52e26c7522a95ff35e43db5fc5c0a\", element=\"7a6f514f-57ed-4376-b464-45315f1c6522\")>,\n",
       " <selenium.webdriver.remote.webelement.WebElement (session=\"fda52e26c7522a95ff35e43db5fc5c0a\", element=\"108bf7fb-df7f-4654-a8a1-0178e589aa21\")>,\n",
       " <selenium.webdriver.remote.webelement.WebElement (session=\"fda52e26c7522a95ff35e43db5fc5c0a\", element=\"f23bfa3c-2b25-4586-99fa-b9cad579014a\")>,\n",
       " <selenium.webdriver.remote.webelement.WebElement (session=\"fda52e26c7522a95ff35e43db5fc5c0a\", element=\"1d2fefda-cbdd-4e90-b2f9-6fb670dc793b\")>,\n",
       " <selenium.webdriver.remote.webelement.WebElement (session=\"fda52e26c7522a95ff35e43db5fc5c0a\", element=\"234bc1f0-063a-480b-b7eb-25c246d4544b\")>]"
      ]
     },
     "execution_count": 14,
     "metadata": {},
     "output_type": "execute_result"
    }
   ],
   "source": [
    "location_tag = driver.find_elements_by_xpath(\"//li[@class='fleft grey-text br2 placeHolderLi location']/span\")\n",
    "\n",
    "location_tag"
   ]
  },
  {
   "cell_type": "code",
   "execution_count": 15,
   "metadata": {},
   "outputs": [
    {
     "data": {
      "text/plain": [
       "['Mumbai, Gurgaon/Gurugram, Bangalore/Bengaluru',\n",
       " 'Gurgaon/Gurugram, Bangalore/Bengaluru, Mumbai (All Areas)',\n",
       " 'Kolkata, Hyderabad/Secunderabad, Chennai, Bangalore/Bengaluru',\n",
       " 'Bangalore/Bengaluru',\n",
       " 'Kochi/Cochin, Indore, Hyderabad/Secunderabad, Pune, Ahmedabad, Bangalore/Bengaluru, Mumbai (All Areas)',\n",
       " 'Bangalore/Bengaluru',\n",
       " 'Bangalore/Bengaluru',\n",
       " 'Bangalore/Bengaluru',\n",
       " 'Hyderabad/Secunderabad, Bangalore/Bengaluru, Mumbai (All Areas)',\n",
       " 'Hyderabad/Secunderabad, Bangalore/Bengaluru, Mumbai (All Areas)']"
      ]
     },
     "execution_count": 15,
     "metadata": {},
     "output_type": "execute_result"
    }
   ],
   "source": [
    "locations = []\n",
    "\n",
    "for i in location_tag[:10]:\n",
    "    locations.append(i.text)\n",
    "    \n",
    "locations"
   ]
  },
  {
   "cell_type": "code",
   "execution_count": 16,
   "metadata": {},
   "outputs": [
    {
     "name": "stdout",
     "output_type": "stream",
     "text": [
      "10 10 10 10\n"
     ]
    }
   ],
   "source": [
    "print(len(titles),len(company_name),len(locations),len(experience))"
   ]
  },
  {
   "cell_type": "code",
   "execution_count": 17,
   "metadata": {},
   "outputs": [
    {
     "data": {
      "text/html": [
       "<div>\n",
       "<style scoped>\n",
       "    .dataframe tbody tr th:only-of-type {\n",
       "        vertical-align: middle;\n",
       "    }\n",
       "\n",
       "    .dataframe tbody tr th {\n",
       "        vertical-align: top;\n",
       "    }\n",
       "\n",
       "    .dataframe thead th {\n",
       "        text-align: right;\n",
       "    }\n",
       "</style>\n",
       "<table border=\"1\" class=\"dataframe\">\n",
       "  <thead>\n",
       "    <tr style=\"text-align: right;\">\n",
       "      <th></th>\n",
       "      <th>Jobs</th>\n",
       "      <th>Company</th>\n",
       "      <th>Experience</th>\n",
       "      <th>Location</th>\n",
       "    </tr>\n",
       "  </thead>\n",
       "  <tbody>\n",
       "    <tr>\n",
       "      <th>0</th>\n",
       "      <td>Senior Data Scientist</td>\n",
       "      <td>Fractal Analytics</td>\n",
       "      <td>4-8 Yrs</td>\n",
       "      <td>Mumbai, Gurgaon/Gurugram, Bangalore/Bengaluru</td>\n",
       "    </tr>\n",
       "    <tr>\n",
       "      <th>1</th>\n",
       "      <td>Senior Data Scientist</td>\n",
       "      <td>Fractal Analytics</td>\n",
       "      <td>5-10 Yrs</td>\n",
       "      <td>Gurgaon/Gurugram, Bangalore/Bengaluru, Mumbai ...</td>\n",
       "    </tr>\n",
       "    <tr>\n",
       "      <th>2</th>\n",
       "      <td>Data Scientist</td>\n",
       "      <td>Wipro Limited</td>\n",
       "      <td>4-9 Yrs</td>\n",
       "      <td>Kolkata, Hyderabad/Secunderabad, Chennai, Bang...</td>\n",
       "    </tr>\n",
       "    <tr>\n",
       "      <th>3</th>\n",
       "      <td>Data Scientist - Machine Learning</td>\n",
       "      <td>AugmatrixGo</td>\n",
       "      <td>2-5 Yrs</td>\n",
       "      <td>Bangalore/Bengaluru</td>\n",
       "    </tr>\n",
       "    <tr>\n",
       "      <th>4</th>\n",
       "      <td>Big Data - Data Scientist</td>\n",
       "      <td>Xoriant Solutions Pvt Ltd</td>\n",
       "      <td>1-3 Yrs</td>\n",
       "      <td>Kochi/Cochin, Indore, Hyderabad/Secunderabad, ...</td>\n",
       "    </tr>\n",
       "    <tr>\n",
       "      <th>5</th>\n",
       "      <td>Data Scientist</td>\n",
       "      <td>Oracle India Pvt. Ltd.</td>\n",
       "      <td>6-10 Yrs</td>\n",
       "      <td>Bangalore/Bengaluru</td>\n",
       "    </tr>\n",
       "    <tr>\n",
       "      <th>6</th>\n",
       "      <td>SDE Lead Data Scientist-L3</td>\n",
       "      <td>Huawei Technologies India Pvt Ltd</td>\n",
       "      <td>5-8 Yrs</td>\n",
       "      <td>Bangalore/Bengaluru</td>\n",
       "    </tr>\n",
       "    <tr>\n",
       "      <th>7</th>\n",
       "      <td>Computational Design Lead Data Scientist-L3</td>\n",
       "      <td>Huawei Technologies India Pvt Ltd</td>\n",
       "      <td>5-8 Yrs</td>\n",
       "      <td>Bangalore/Bengaluru</td>\n",
       "    </tr>\n",
       "    <tr>\n",
       "      <th>8</th>\n",
       "      <td>Hiring For DATA Scientist - ON Contract Basis ...</td>\n",
       "      <td>GlobalEdx Learning and Technology Solution Pvt...</td>\n",
       "      <td>3-8 Yrs</td>\n",
       "      <td>Hyderabad/Secunderabad, Bangalore/Bengaluru, M...</td>\n",
       "    </tr>\n",
       "    <tr>\n",
       "      <th>9</th>\n",
       "      <td>Lead Data Scientist</td>\n",
       "      <td>PROFITWHEEL DATA TECHNOLOGIES PRIVATE LIMITED</td>\n",
       "      <td>2-4 Yrs</td>\n",
       "      <td>Hyderabad/Secunderabad, Bangalore/Bengaluru, M...</td>\n",
       "    </tr>\n",
       "  </tbody>\n",
       "</table>\n",
       "</div>"
      ],
      "text/plain": [
       "                                                Jobs  \\\n",
       "0                              Senior Data Scientist   \n",
       "1                              Senior Data Scientist   \n",
       "2                                     Data Scientist   \n",
       "3                  Data Scientist - Machine Learning   \n",
       "4                          Big Data - Data Scientist   \n",
       "5                                     Data Scientist   \n",
       "6                         SDE Lead Data Scientist-L3   \n",
       "7        Computational Design Lead Data Scientist-L3   \n",
       "8  Hiring For DATA Scientist - ON Contract Basis ...   \n",
       "9                                Lead Data Scientist   \n",
       "\n",
       "                                             Company Experience  \\\n",
       "0                                  Fractal Analytics    4-8 Yrs   \n",
       "1                                  Fractal Analytics   5-10 Yrs   \n",
       "2                                      Wipro Limited    4-9 Yrs   \n",
       "3                                        AugmatrixGo    2-5 Yrs   \n",
       "4                          Xoriant Solutions Pvt Ltd    1-3 Yrs   \n",
       "5                             Oracle India Pvt. Ltd.   6-10 Yrs   \n",
       "6                  Huawei Technologies India Pvt Ltd    5-8 Yrs   \n",
       "7                  Huawei Technologies India Pvt Ltd    5-8 Yrs   \n",
       "8  GlobalEdx Learning and Technology Solution Pvt...    3-8 Yrs   \n",
       "9      PROFITWHEEL DATA TECHNOLOGIES PRIVATE LIMITED    2-4 Yrs   \n",
       "\n",
       "                                            Location  \n",
       "0      Mumbai, Gurgaon/Gurugram, Bangalore/Bengaluru  \n",
       "1  Gurgaon/Gurugram, Bangalore/Bengaluru, Mumbai ...  \n",
       "2  Kolkata, Hyderabad/Secunderabad, Chennai, Bang...  \n",
       "3                                Bangalore/Bengaluru  \n",
       "4  Kochi/Cochin, Indore, Hyderabad/Secunderabad, ...  \n",
       "5                                Bangalore/Bengaluru  \n",
       "6                                Bangalore/Bengaluru  \n",
       "7                                Bangalore/Bengaluru  \n",
       "8  Hyderabad/Secunderabad, Bangalore/Bengaluru, M...  \n",
       "9  Hyderabad/Secunderabad, Bangalore/Bengaluru, M...  "
      ]
     },
     "execution_count": 17,
     "metadata": {},
     "output_type": "execute_result"
    }
   ],
   "source": [
    "Data_Scientist = pd.DataFrame({})\n",
    "\n",
    "Data_Scientist['Jobs'] = titles\n",
    "Data_Scientist['Company'] = company_name\n",
    "Data_Scientist['Experience'] = experience\n",
    "Data_Scientist['Location'] = locations\n",
    "\n",
    "Data_Scientist"
   ]
  },
  {
   "cell_type": "markdown",
   "metadata": {},
   "source": [
    "# Question - 2"
   ]
  },
  {
   "cell_type": "code",
   "execution_count": 18,
   "metadata": {},
   "outputs": [
    {
     "data": {
      "text/plain": [
       "['Senior Data Scientist',\n",
       " 'Senior Data Scientist',\n",
       " 'Data Scientist',\n",
       " 'Data Scientist - Machine Learning',\n",
       " 'Big Data - Data Scientist',\n",
       " 'Data Scientist',\n",
       " 'SDE Lead Data Scientist-L3',\n",
       " 'Computational Design Lead Data Scientist-L3',\n",
       " 'Hiring For DATA Scientist - ON Contract Basis (3-6 Months)',\n",
       " 'Lead Data Scientist']"
      ]
     },
     "execution_count": 18,
     "metadata": {},
     "output_type": "execute_result"
    }
   ],
   "source": [
    "titles"
   ]
  },
  {
   "cell_type": "code",
   "execution_count": 19,
   "metadata": {},
   "outputs": [
    {
     "data": {
      "text/plain": [
       "['Mumbai, Gurgaon/Gurugram, Bangalore/Bengaluru',\n",
       " 'Gurgaon/Gurugram, Bangalore/Bengaluru, Mumbai (All Areas)',\n",
       " 'Kolkata, Hyderabad/Secunderabad, Chennai, Bangalore/Bengaluru',\n",
       " 'Bangalore/Bengaluru',\n",
       " 'Kochi/Cochin, Indore, Hyderabad/Secunderabad, Pune, Ahmedabad, Bangalore/Bengaluru, Mumbai (All Areas)',\n",
       " 'Bangalore/Bengaluru',\n",
       " 'Bangalore/Bengaluru',\n",
       " 'Bangalore/Bengaluru',\n",
       " 'Hyderabad/Secunderabad, Bangalore/Bengaluru, Mumbai (All Areas)',\n",
       " 'Hyderabad/Secunderabad, Bangalore/Bengaluru, Mumbai (All Areas)']"
      ]
     },
     "execution_count": 19,
     "metadata": {},
     "output_type": "execute_result"
    }
   ],
   "source": [
    "locations"
   ]
  },
  {
   "cell_type": "code",
   "execution_count": 20,
   "metadata": {},
   "outputs": [
    {
     "data": {
      "text/plain": [
       "['Fractal Analytics',\n",
       " 'Fractal Analytics',\n",
       " 'Wipro Limited',\n",
       " 'AugmatrixGo',\n",
       " 'Xoriant Solutions Pvt Ltd',\n",
       " 'Oracle India Pvt. Ltd.',\n",
       " 'Huawei Technologies India Pvt Ltd',\n",
       " 'Huawei Technologies India Pvt Ltd',\n",
       " 'GlobalEdx Learning and Technology Solution Pvt Ltd',\n",
       " 'PROFITWHEEL DATA TECHNOLOGIES PRIVATE LIMITED']"
      ]
     },
     "execution_count": 20,
     "metadata": {},
     "output_type": "execute_result"
    }
   ],
   "source": [
    "company_name"
   ]
  },
  {
   "cell_type": "code",
   "execution_count": 21,
   "metadata": {},
   "outputs": [
    {
     "data": {
      "text/plain": [
       "['https://www.naukri.com/job-listings-senior-data-scientist-fractal-analytics-ltd-mumbai-gurgaon-gurugram-bangalore-bengaluru-4-to-8-years-240521501478?src=jobsearchDesk&sid=16221298317681180&xp=1&px=1',\n",
       " 'https://www.naukri.com/job-listings-senior-data-scientist-fractal-analytics-pvt-ltd-gurgaon-gurugram-bangalore-bengaluru-mumbai-all-areas-5-to-10-years-240521007717?src=jobsearchDesk&sid=16221298317681180&xp=2&px=1',\n",
       " 'https://www.naukri.com/job-listings-data-scientist-wipro-limited-kolkata-hyderabad-secunderabad-chennai-bangalore-bengaluru-4-to-9-years-210521000038?src=jobsearchDesk&sid=16221298317681180&xp=3&px=1',\n",
       " 'https://www.naukri.com/job-listings-data-scientist-machine-learning-augmatrixgo-bangalore-bengaluru-2-to-5-years-140121905423?src=jobsearchDesk&sid=16221298317681180&xp=4&px=1',\n",
       " 'https://www.naukri.com/job-listings-big-data-data-scientist-xoriant-solutions-pvt-ltd-kochi-cochin-indore-hyderabad-secunderabad-pune-ahmedabad-bangalore-bengaluru-mumbai-all-areas-1-to-3-years-130521005018?src=jobsearchDesk&sid=16221298317681180&xp=5&px=1',\n",
       " 'https://www.naukri.com/job-listings-data-scientist-oracle-india-pvt-ltd-bangalore-bengaluru-6-to-10-years-190521008276?src=jobsearchDesk&sid=16221298317681180&xp=6&px=1',\n",
       " 'https://www.naukri.com/job-listings-sde-lead-data-scientist-l3-huawei-technologies-india-pvt-ltd-bangalore-bengaluru-5-to-8-years-120521901434?src=jobsearchDesk&sid=16221298317681180&xp=7&px=1',\n",
       " 'https://www.naukri.com/job-listings-computational-design-lead-data-scientist-l3-huawei-technologies-india-pvt-ltd-bangalore-bengaluru-5-to-8-years-120521901329?src=jobsearchDesk&sid=16221298317681180&xp=8&px=1',\n",
       " 'https://www.naukri.com/job-listings-hiring-for-data-scientist-on-contract-basis-3-6-months-globaledx-learning-and-technology-solution-pvt-ltd-hyderabad-secunderabad-bangalore-bengaluru-mumbai-all-areas-3-to-8-years-170521003581?src=jobsearchDesk&sid=16221298317681180&xp=9&px=1',\n",
       " 'https://www.naukri.com/job-listings-lead-data-scientist-profitwheel-data-technologies-private-limited-hyderabad-secunderabad-bangalore-bengaluru-mumbai-all-areas-2-to-4-years-240521006055?src=jobsearchDesk&sid=16221298317681180&xp=10&px=1']"
      ]
     },
     "execution_count": 21,
     "metadata": {},
     "output_type": "execute_result"
    }
   ],
   "source": [
    "job_url = []\n",
    "\n",
    "job1 = driver.find_elements_by_xpath(\"//div[@class='info fleft']/a\")\n",
    "\n",
    "for i in job1[:10]:\n",
    "    job_url.append(i.get_attribute('href'))\n",
    "\n",
    "job_url"
   ]
  },
  {
   "cell_type": "code",
   "execution_count": 22,
   "metadata": {},
   "outputs": [],
   "source": [
    "job_desc = []\n",
    "\n",
    "for i in job_url:\n",
    "    driver.get(i)\n",
    "    time.sleep(3)\n",
    "    try:\n",
    "        job_des = driver.find_element_by_xpath(\"//section[@class='job-desc']\")\n",
    "        job_desc.append(job_des.text.replace('\\n',' '))\n",
    "    except NoSuchElementException:\n",
    "        job_desc.append('-')"
   ]
  },
  {
   "cell_type": "code",
   "execution_count": 23,
   "metadata": {},
   "outputs": [
    {
     "data": {
      "text/plain": [
       "['Job description Job Responsibilities: Work with product managers and clients to better understand the business problem Think through a business problem and come up with a set of hypotheses Create a list of potentially relevant supporting data elements Work with data engineers and/or data analysts to procure data and test it for problems Collaborate with other Data Scientists Propose modeling approaches Mine the data to check completeness, value distributions, etc. Data imputation and feature engineering Test data for signal Run feature selection Tune the model Set up tests for the model health Collaborate with product managers to find the best way to present the results Work with developers on productionizing models Must Have A minimum of 6 years of post-academic experience developing advanced analytics and applying data science in a business environment Experience in data mining techniques and methodologies (data prep/modeling, classification, regression, clustering, causal modeling, AI, machine learning, ensemble approaches) Experience developing in Python within a production environment Advanced experience in data visualization tools with a strong grasp of effective data modeling and visualization practices The ability to rapidly develop proof of concepts and test new ideas, as well as the ability to scale these ideas into production ready models that can be deployed within our organization Examples of how your passion for data driven decision making and intellectual curiosity translated in to value for your organization Nice to Have An advanced Degree (Masters or PhD) in engineering, mathematics, physics, economics, computer science, statistics, or business analytics or Experience leveraging cloud platforms such as Amazon Web Services (AWS) and Google Cloud Platform (GCP) Strong research skills and the ability to put emerging ideas into practice RoleTechnical Architect Industry TypeManagement Consulting Functional AreaIT Software - Application Programming, Maintenance Employment TypeFull Time, Permanent Role CategoryProgramming & Design Education UG :Any Graduate in Any Specialization PG :Post Graduation Not Required Key Skills Computer scienceGCPData modelingArtificial IntelligenceBusiness analyticsMachine learningData miningAWSPythonTesting',\n",
       " 'Job description Position Description:  The Artificial Intelligence and Machine Learning (AIML) group at Fractal Analytics is actively involved in helping Fortune 500 companies by enabling them to discover how they can leverage their data using advanced and sophisticated AI/ML algorithms for which we are looking for Data Scientists with the capability to work on independent statistical and machine learning research/ projects. If you are a problem solver with a curiosity for exploring new techniques and technologies in AIML space, then we would like to talk with you.  Job Responsibilities:  Ability to understand a problem statement and implement analytical solutions & techniques independently with independently/proactively/thought-leadership Work with stakeholders throughout the organization to identify opportunities for leveraging company/client data to drive business solutions Fast learner: ability to learn and pick up a new language/tool/ platform quickly Conceptualize, design, and deliver high-quality solutions and insightful analysis Conduct research and prototyping innovations; data and requirements gathering; solution scoping and architecture; consulting clients and client facing teams on advanced statistical and machine learning problems Collaborate and coordinate with different functional teams (engineering and product development) to implement models and monitor outcomes Ability to deliver AIML based solutions around a host of domains and problems, with some of them being: Customer Segmentation & Targeting, Propensity Modeling, Churn Modeling, Lifetime Value Estimation, Forecasting, Recommender Systems, Modeling Response to Incentives, Marketing Mix Optimization, Price Optimization  Experience Required:  Minimum 3+ years of experience in Machine Learning domain Expert level proficiency in at least one of R and Python Ability to create efficient solutions to complex problems. Strong skills in data-structures and ML algorithms Experience of working on end-to-end data science pipeline: problem scoping, data gathering, EDA, modelling, insights, visualizations, monitoring and maintenance Problem-solving: Ability to break the problem into small parts and applying relevant techniques to drive required outcomes Intermediate to advanced knowledge of machine learning, probability theory, statistics, and algorithms. You will be required to discuss and use various algorithms and approaches on a daily basis We use regression, Bayesian methods, tree-based learners, SVM, RF, XGBOOST, time series modeling, dimensionality reduction, SEM, GLM, GLMM, clustering, Deep learning etc. on a regulabasis. If you know few of them you are good to go  Good to Have: Experience in one of the upcoming technologies like deep learning, NLP, image processing, recommender systems Experience of working in on one or more domains: CPG: pricing and promotion analytics, marketing analytics, trade promotions, supply chain management BFSI: cross-sell, up-sell, campaign analytics, treasury analytics, fraud detection Healthcare: medical adherence, medical risk profiling, EHR data, fraud-waste-abuse Experience in working with Linux computing environment and use of command line tools like sed/awk Good grasp on databases including RDBMS, NoSQL, MongoDB etc.  Education Qualification:  B.Tech / M.Tech in Computer Science / Mathematics / Signal Processing or related fields from one of the premier Institutes (IITs/NITs/BITS) Do write back if you would be interested in the same.  RoleTeam Lead/Technical Lead Industry TypeMiscellaneous Functional AreaIT Software - Application Programming, Maintenance Employment TypeFull Time, Permanent Role CategoryProgramming & Design Education UG :B.Tech/B.E. in Any Specialization Key Skills SASMachine LearningPython RNoSQLArtificial IntelligenceData StructuresGoSupply Chain ManagementData AnalyticsAWSDeep Learning Skills highlighted with ‘‘ are preferred keyskills',\n",
       " 'Job description Role: Data Scientist  Roles and Responsibilities Suitable candidates will be part of Wipro Digital-Intelligent Enterprise practice. The role entails leveraging Data Science and Machine Learning to solve typical problems within an organization and create IP that could be deployed in a productized mode. This will entail significant hands-on work on multiple Big Data Technologies, Data Analysis, Identifying data patterns, ML models, Insights generation. The role entails deployment in a customer context and managing customer expectations.  Technical Skills Required: Hands on with Python or R Analytics using industry leading BI tools and technologies Implementation knowledge of supervised\\\\un-supervised machine learning algorithms Good statistical analysis skills for data pre-processing and data wrangling Experienced in using big data frameworks like Hadoop Knowledge of business intelligence tools or reporting tools  Data Preparation for Modeling Missing Data Imputation,Outlier Treatment Scaling, Normalization, Standardization Encoding for Categorical Variables Oversampling\\\\Undersampling for reducing class imbalance  Experience in building solutions using Model Library Feature Selection Tree-based Ensemble Models Gradient\\\\Adaptive Boosted Trees Hyper-parameter tuning Building Prediction mechanisms using methods like Logistic regression, voting classifier stacking etc    RoleSoftware Developer Industry TypeIT Services & Consulting Functional AreaIT Software - Application Programming, Maintenance Employment TypeFull Time, Permanent Role CategoryProgramming & Design Education UG :B.Tech/B.E. in Any Specialization Key Skills Data ScienceMachine LearningPython Logistic RegressionData WranglingHadoopData AnalysisBig DataStatistical Analysis Skills highlighted with ‘‘ are preferred keyskills',\n",
       " 'Job description Roles and Responsibilities   - Selecting features, building and optimizing classifiers using machine learning techniques  - Data mining using state-of-the-art methods  - Enhancing data collection procedures to include information that is relevant for building analytic systems  - Processing, cleansing, and verifying the integrity of data used for analysis  - Doing ad-hoc analysis and presenting results in a clear manner  - Creating automated anomaly detection systems and constant tracking of its performance  Skills Required :  - Excellent understanding of machine learning techniques and algorithms, such as k-NN, Naive Bayes, SVM, Decision Forests, etc.  - Experiences with one or more of the following is highly desirable: HPC/Parallelization, operationalizing ML models; cloud computing (e.g. Google Cloud, AWS, etc.); familiarity with ML frameworks such as Tensorflow, Theano, MXNet, etc  - Good experience in a few of the following areas: deep neural networks, reinforcement learning, Markov Random Fields, Bayesian networks, semi-supervised learning, computer vision, image processing, signal processing, distributed computing, and/or numerical optimization  - 2+ years of experience with computer vision and deep learning solutions, including image classification, object detection, segmentation, and equivalent computer vision-based vision tasks  - Experience with common data science toolkits, such as R, Weka, NumPy, etc . Excellence in at least one of these is highly desirable  - Proficiency in using query languages such as SQL, Hive, Pig  - Good applied statistics skills, such as distributions, statistical testing, regression, etc.  - Good scripting and programming skills  - Data-oriented personality  - B.Tech/M.Tech degree in from reputed institutes like IIT / NIT / BITS RoleData Analyst Industry TypeIT Services & Consulting Functional AreaAnalytics & Business Intelligence Employment TypeFull Time, Permanent Role CategoryAnalytics & BI Education UG :B.Tech/B.E. in Any Specialization PG :M.Tech in Any Specialization Doctorate :Doctorate Not Required Key Skills HiveRCloud ComputingData ScientistComputer VisionMachine LearningDeep LearningSQLPig',\n",
       " '-',\n",
       " '-',\n",
       " 'Job description Business & Team overview: Founded in 1987, Huawei is a leading global provider of ICT (information and communications technology) infrastructure and smart devices. We are committed to bringing digital to every person, home and organization for a fully connected, intelligent world. We have nearly 194,000 employees, and we operate in more than 170 countries and regions, serving more than 3 billion people around the world.  Huawei Technologies has three business directions: Carrier Business Group, which provides innovative and secure network equipment to telecom carriers, including the leading 5G mobile network. Enterprise Business Group, which provides facilities and solutions to big and small companies, including IT facilities. Consumer Business Groups, which provides devices to the customer, including mobile phones, PC, tablet, TV, audio, glasses, watches, locomotives, and headphones. And also provide solutions on mobile offices, smart homes, sports and health, audio-visual entertainment, and smart travel products.  This opportunity is belong to Huawei Consumer Business Group.  Driven by the coordinated development of \"Chip-Device-Cloud\", consumer products such as smartphones are becoming increasingly intelligent and pervasive. The era of smart services is the future.  Huawei Ads Services is dedicated to provide Huawei end-users with high-quality digital experiences, to build a business closed-loop system for Developers and Improve the ROI for the Advertisers . In 2020 Q1, along with more than 650 million users and 1,400,000 registered developers worldwide, we have the following unique advantages: 1. With All-scenario intelligent solution, the Huawei devices become super entrance of traffic, including mobile phones, PC, tablet, TV, audio, glasses, watches, locomotives, and head phones 2. This team will be responsible for building a new Ad Serving Platform and have the opportunity to define the product for our Huawei end-users. 3. AI-Driven is the direction of Ads, Huawei is going to build a strong team in India to Innovate and deliver AI-driven Smart Ad Serving Platforms  Job Title: Lead Data Scientist We are looking for a Lead data scientist who will help us discover the information hidden in vast amounts of Ad Campaign data, and help us to optimize the campaign to improve the advertiser ROI and improve the overall consumer experience. Your primary focus will be in applying data mining techniques, doing statistical analysis, and building high quality prediction systems using Deep learning algorithms integrated with our products. Some the key area you will be working on spend recommendation, floor price prediction, CTR/CVR prediction, market funnel analysis and perdition of lead to conversion, etc.  Responsibility: Analyze the data, develop insights and identify the opportunity to utilize the data to predict various Advertisement key indicators like CTR, CVR, Inventory and Develop prediction and optimization algorithms for campaign, look alike modeling, etc for Huawei Ads. Takeup key challenges in AI-driven Smart Ad Serving Platform and focus on research and developing leading AI algorithms and productionize for Huawei Ads. Takeup initiative in identifying the SOTA and finding key gaps in AI algorithms and develop a world leading AI algorithms for optimizing real-time Ad Serving engine. Identify and optimize the core modules such as Traffic Prediction, Optimization, Ad Targeting/Re-targeting, Ad Performance Optimization, Audience insights, Attribution, Bidding, re-ranking, and Diagnostics. Support hundreds of billions of ad requests per day, with efficiently cache technology. To build and enhance Ad platform features and Prediction capabilities in Huawei Ads Platform Optimized Cost Per Mille; Optimized Cost Per Action; Optimized Cost Per Click and Cost per Click. OCPM, OCPA, OCPC.  Requirements: - Strong hands-on experience in implementing and validating big data algorithms and models including Deep Learning models like Seq2Seq/ GRU/RNN/LSTM , Knowledge Graph, Massive Graph algorithms, etc. - Programming experience with Python - Able to validate existing models including Deep Learning models with large scale dataset and able to make changes to the models to achieve better performance - AdServing domain Experience is an added advantage RoleAnalytics Manager Industry TypeTelecom / ISP Functional AreaAnalytics & Business Intelligence Employment TypeFull Time, Permanent Role CategoryAnalytics & BI Education UG :Any Graduate in Any Specialization PG :Any Postgraduate in Any Specialization Key Skills RnnAlgorithmsLstmArtificial IntelligenceData ScientistBig DataData MiningStatistical AnalysisDeep LearningPython',\n",
       " 'Job description Business & Team overview: Founded in 1987, Huawei is a leading global provider of ICT (information and communications technology) infrastructure and smart devices. We are committed to bringing digital to every person, home and organization for a fully connected, intelligent world. We have nearly 194,000 employees, and we operate in more than 170 countries and regions, serving more than 3 billion people around the world.  Huawei Technologies has three business directions: Carrier Business Group, which provides innovative and secure network equipment to telecom carriers, including the leading 5G mobile network. Enterprise Business Group, which provides facilities and solutions to big and small companies, including IT facilities. Consumer Business Groups, which provides devices to the customer, including mobile phones, PC, tablet, TV, audio, glasses, watches, locomotives, and headphones. And also provide solutions on mobile offices, smart homes, sports and health, audio-visual entertainment, and smart travel products.  This opportunity is belong to Huawei Consumer Business Group.  Driven by the coordinated development of \"Chip-Device-Cloud\", consumer products such as smartphones are becoming increasingly intelligent and pervasive. The era of smart services is the future. Huawei Ads Services is dedicated to provide Huawei end-users with high-quality digital experiences, to build a business closed-loop system for Developers and Improve the ROI for the Advertisers . In 2020 Q1, along with more than 650 million users and 1,400,000 registered developers worldwide, we have the following unique advantages: 1. With All-scenario intelligent solution, the Huawei devices become super entrance of traffic, including mobile phones, PC, tablet, TV, audio, glasses, watches, locomotives, and head phones 2. This team will be responsible for building a new Ad Serving Platform and have the opportunity to define the product for our Huawei end-users. 3. AI-Driven is the direction of Ads, Huawei is going to build a strong team in India to Innovate and deliver AI-driven Smart Ad Serving Platforms  1. Job Title: Computational Design Lead Data Scientist  Responsibility: Take-up Key creative tools of the creative platform for Advertisers, research and develop breakthrough CNN based deep learning algorithms to solve the problem unique in the industry and productionize the algorithms, measure the ad creative performance and enhance the algorithm to ease the Ad Designer job. Develop the common AI platforms and frameworks to ease the experimentation of the Algorithms for creative Design. To build ability to understand the advertisers intent and provide creative assistance every step of creating all types of adverts Responsible for intelligent identification of advertising creatives (pictures, videos) and related algorithms of content understanding. Responsible for Image Synthesis, Intelligent Layout, Style Transfer, and other image processing, computing and visual processing, to improve the aesthetic level of advertising creativity. Responsible for designing algorithms for suggesting how to intelligently crop and position an image for maximum effect, identify the optimal placement of text and copywriting. Responsible for the algorithm and model of dynamic matching of advertising program creativity and dynamic creation of advertising content  Requirements: Deep knowledge of Computational Design Experience on Intelligent composition, including image cropping, smart layout, the Gold Ratio composition, visual extension. Experience computer vision models, including image/video recognition and content understanding. Experience in algorithms such as image and video segmentation, separation, synthesis, and intelligent layout with engineering platform implementation capability. Strong Knowledge Algorithms such as Image segmentation, object detection, Image processing (filtering, noise removal, histogram thresholding, etc.), object tracking, image transformation (affine transform, dewarping), keypoint detection/description, etc (and experience in using Computer vision Libraries) Strong Knowledge in CNN, R-CNN, GAN, LSTM, GRU, Multimodal feature Learning, ASR, NLU, NLG, Copywriting and KG will be an added advantage Strong logic/probability thinking ability and be good at analyzing, summarizing, describing, communicating, and solving problems Working experience in related online advertising products/creative platform is preferred Working experience in Computer Vision (CV) to enhance user artistic creativity while creating creatives/adverts is preferred Ability to identify trends of advertising creative platform.   RoleData Analyst Industry TypeTelecom / ISP Functional AreaAnalytics & Business Intelligence Employment TypeFull Time, Permanent Role CategoryAnalytics & BI Education UG :Any Graduate in Any Specialization PG :Any Postgraduate in Any Specialization Key Skills Object DetectionR-CNNCnnAlgorithmsLstmGANArtificial IntelligenceImage ProcessingData ScientistComputer VisionComputational DesignDeep Learning',\n",
       " 'Job description Dear Aspirant,  Greetings from Globaledx  Roles and Responsibilities  Experience : 3+ Years CTC : Best in Market Location : Pan India Contract Period : 3-6 Months Skill : Python, NLP, Machine Learning Models, Data Scientist  Interested, please share your updated resume to hr@globaledx.com Or Call /Whatsapp at Sowjanya : 9505072408  Please share with your friends for more reach! RoleIT/Technical Content Developer Industry TypeIT Services & Consulting Functional AreaIT Software - Application Programming, Maintenance Employment TypeFull Time, Permanent Role CategoryOther Education UG :Any Graduate in Any Specialization Key Skills PostgresqlDATA SCIENTISTMachine LearningScikit-LearnsqlpandasNLPoptimal codingRundeckmachine learning modelslogging frameworkshtmlNUMPYPython',\n",
       " 'Job description ROLE & RESPONSIBILITIES  A sole contributor in his/her capacity, would be responsible for the following job roles:  Formulates and leads guided, multifaceted analytic studies against large volumes of data. Interprets and analyzes data using exploratory mathematic and statistical techniques based on the scientific method. Implement new statistical or other mathematical methodologies as needed for specific models or analysis Optimize joint development efforts through appropriate database use and project design Coordinates research and analytic activities utilizing various data points (unstructured and structured) and employ programming to clean, massage, and organize the data. Experiments against data points, provide information based on experiment results and provide previously undiscovered solutions to command data challenges. Leads all data experiments tasked to the Data Science Team. Coordinates with Data Engineers to build data environments providing data identified by Data Analysts, Data Integrators, Knowledge Managers, and Intel Analysts. Develops methodology and processes for prioritization and scheduling of projects. Analyzes problems and determines root causes. Defines company data assets (data models), spark, sparkSQL, and hiveSQL jobs to populate data models. Works closely with all business units and engineering teams to develop strategy for long term data platform architecture.  Desired Candidate Profile  Skills  Implement new statistical or other mathematical methodologies as needed for specific models or analysis Optimize joint development efforts through appropriate database use and project design Excellent understanding of machine learning techniques and algorithms, such AS K-nn, naive bayes, SVM, decision forests, etc. Experience with common data science toolkits, such as R, Weka, NUMPY, MATLAB, etc excellence in at least one of these is highly desirable Great COMMUNICATION SKILLS Experience with data visualisation tools, such as d3.JS, GGPLOT, ETC. Proficiency in using query languages such as SQL, HIVE, PIG Experience with NoSQL databases, such as MONGODB, Cassandra, HBASE   Qualification Criteria BSc-IT, BE Graduate/MSC-IT/MCA/BCA/MCM Well-versed in software engineering principles, frameworks and technologies Strong oral and written communication skills Strong visual and logical reasoning and ability to work on complex projects Versatility, flexibility and willingness to work with changing priorities  Must have Skills 3 Years of experience with Data Science as a profession 2 years of experience in Data Analytics and building inhouse tools for Data Storage / Analysis / ETL / ALGORITHM Matching / Statistical Modelling Should have at least 2 years of experience working with Python/ PERL/ C++/ Machine Language. Should have experience on working on AdTech/Mar-tech solutions Should have at least 2 years of experience with SQL, Reporting Systems, Analytics Engine Must have worked with R Studio  Preferred Skills Good knowledge of Core PYTHON Knowledge and experience with Go Lang is an added advantage Knowledge and experience of HTML5, CCS and Javascript Knowledge of JAVA and Docker will be an added advantage.   Perks and Benefits  Salary no bar for the right candidate Great culture to work with Interaction with Industry Leaders as Stakeholders Pilot Team benefits - Long term fitment for the right personnel RoleSystem Analyst Industry TypeAdvertising & Marketing Functional AreaIT Software - Application Programming, Maintenance Employment TypeFull Time, Permanent Role CategoryProgramming & Design Education UG :BCA in Computers, B.Tech/B.E. in Computers, B.Sc in Computers, Statistics PG :M.A in Statistics, M.Tech in Computers, MS/M.Sc(Science) in Computers, MCA in Computers Key Skills Predictive ModelingData ScienceStatistical Modeling Multivariate AnalysisLogistic RegressionSASCouchbaseBig DataNeural NetworksRedisMachine LearningGoogle BigqueryRabbitmqRData AnalyticsStatistical AnalysisElastic SearchPythonCluster Analysis Skills highlighted with ‘‘ are preferred keyskills']"
      ]
     },
     "execution_count": 23,
     "metadata": {},
     "output_type": "execute_result"
    }
   ],
   "source": [
    "job_desc"
   ]
  },
  {
   "cell_type": "code",
   "execution_count": 24,
   "metadata": {},
   "outputs": [
    {
     "name": "stdout",
     "output_type": "stream",
     "text": [
      "10 10 10 10\n"
     ]
    }
   ],
   "source": [
    "print(len(titles),len(company_name),len(locations),len(job_desc))"
   ]
  },
  {
   "cell_type": "code",
   "execution_count": 25,
   "metadata": {},
   "outputs": [
    {
     "data": {
      "text/html": [
       "<div>\n",
       "<style scoped>\n",
       "    .dataframe tbody tr th:only-of-type {\n",
       "        vertical-align: middle;\n",
       "    }\n",
       "\n",
       "    .dataframe tbody tr th {\n",
       "        vertical-align: top;\n",
       "    }\n",
       "\n",
       "    .dataframe thead th {\n",
       "        text-align: right;\n",
       "    }\n",
       "</style>\n",
       "<table border=\"1\" class=\"dataframe\">\n",
       "  <thead>\n",
       "    <tr style=\"text-align: right;\">\n",
       "      <th></th>\n",
       "      <th>Title</th>\n",
       "      <th>Company</th>\n",
       "      <th>Location</th>\n",
       "      <th>Job Description</th>\n",
       "    </tr>\n",
       "  </thead>\n",
       "  <tbody>\n",
       "    <tr>\n",
       "      <th>0</th>\n",
       "      <td>Senior Data Scientist</td>\n",
       "      <td>Fractal Analytics</td>\n",
       "      <td>Mumbai, Gurgaon/Gurugram, Bangalore/Bengaluru</td>\n",
       "      <td>Job description Job Responsibilities: Work wit...</td>\n",
       "    </tr>\n",
       "    <tr>\n",
       "      <th>1</th>\n",
       "      <td>Senior Data Scientist</td>\n",
       "      <td>Fractal Analytics</td>\n",
       "      <td>Gurgaon/Gurugram, Bangalore/Bengaluru, Mumbai ...</td>\n",
       "      <td>Job description Position Description:  The Art...</td>\n",
       "    </tr>\n",
       "    <tr>\n",
       "      <th>2</th>\n",
       "      <td>Data Scientist</td>\n",
       "      <td>Wipro Limited</td>\n",
       "      <td>Kolkata, Hyderabad/Secunderabad, Chennai, Bang...</td>\n",
       "      <td>Job description Role: Data Scientist  Roles an...</td>\n",
       "    </tr>\n",
       "    <tr>\n",
       "      <th>3</th>\n",
       "      <td>Data Scientist - Machine Learning</td>\n",
       "      <td>AugmatrixGo</td>\n",
       "      <td>Bangalore/Bengaluru</td>\n",
       "      <td>Job description Roles and Responsibilities   -...</td>\n",
       "    </tr>\n",
       "    <tr>\n",
       "      <th>4</th>\n",
       "      <td>Big Data - Data Scientist</td>\n",
       "      <td>Xoriant Solutions Pvt Ltd</td>\n",
       "      <td>Kochi/Cochin, Indore, Hyderabad/Secunderabad, ...</td>\n",
       "      <td>-</td>\n",
       "    </tr>\n",
       "    <tr>\n",
       "      <th>5</th>\n",
       "      <td>Data Scientist</td>\n",
       "      <td>Oracle India Pvt. Ltd.</td>\n",
       "      <td>Bangalore/Bengaluru</td>\n",
       "      <td>-</td>\n",
       "    </tr>\n",
       "    <tr>\n",
       "      <th>6</th>\n",
       "      <td>SDE Lead Data Scientist-L3</td>\n",
       "      <td>Huawei Technologies India Pvt Ltd</td>\n",
       "      <td>Bangalore/Bengaluru</td>\n",
       "      <td>Job description Business &amp; Team overview: Foun...</td>\n",
       "    </tr>\n",
       "    <tr>\n",
       "      <th>7</th>\n",
       "      <td>Computational Design Lead Data Scientist-L3</td>\n",
       "      <td>Huawei Technologies India Pvt Ltd</td>\n",
       "      <td>Bangalore/Bengaluru</td>\n",
       "      <td>Job description Business &amp; Team overview: Foun...</td>\n",
       "    </tr>\n",
       "    <tr>\n",
       "      <th>8</th>\n",
       "      <td>Hiring For DATA Scientist - ON Contract Basis ...</td>\n",
       "      <td>GlobalEdx Learning and Technology Solution Pvt...</td>\n",
       "      <td>Hyderabad/Secunderabad, Bangalore/Bengaluru, M...</td>\n",
       "      <td>Job description Dear Aspirant,  Greetings from...</td>\n",
       "    </tr>\n",
       "    <tr>\n",
       "      <th>9</th>\n",
       "      <td>Lead Data Scientist</td>\n",
       "      <td>PROFITWHEEL DATA TECHNOLOGIES PRIVATE LIMITED</td>\n",
       "      <td>Hyderabad/Secunderabad, Bangalore/Bengaluru, M...</td>\n",
       "      <td>Job description ROLE &amp; RESPONSIBILITIES  A sol...</td>\n",
       "    </tr>\n",
       "  </tbody>\n",
       "</table>\n",
       "</div>"
      ],
      "text/plain": [
       "                                               Title  \\\n",
       "0                              Senior Data Scientist   \n",
       "1                              Senior Data Scientist   \n",
       "2                                     Data Scientist   \n",
       "3                  Data Scientist - Machine Learning   \n",
       "4                          Big Data - Data Scientist   \n",
       "5                                     Data Scientist   \n",
       "6                         SDE Lead Data Scientist-L3   \n",
       "7        Computational Design Lead Data Scientist-L3   \n",
       "8  Hiring For DATA Scientist - ON Contract Basis ...   \n",
       "9                                Lead Data Scientist   \n",
       "\n",
       "                                             Company  \\\n",
       "0                                  Fractal Analytics   \n",
       "1                                  Fractal Analytics   \n",
       "2                                      Wipro Limited   \n",
       "3                                        AugmatrixGo   \n",
       "4                          Xoriant Solutions Pvt Ltd   \n",
       "5                             Oracle India Pvt. Ltd.   \n",
       "6                  Huawei Technologies India Pvt Ltd   \n",
       "7                  Huawei Technologies India Pvt Ltd   \n",
       "8  GlobalEdx Learning and Technology Solution Pvt...   \n",
       "9      PROFITWHEEL DATA TECHNOLOGIES PRIVATE LIMITED   \n",
       "\n",
       "                                            Location  \\\n",
       "0      Mumbai, Gurgaon/Gurugram, Bangalore/Bengaluru   \n",
       "1  Gurgaon/Gurugram, Bangalore/Bengaluru, Mumbai ...   \n",
       "2  Kolkata, Hyderabad/Secunderabad, Chennai, Bang...   \n",
       "3                                Bangalore/Bengaluru   \n",
       "4  Kochi/Cochin, Indore, Hyderabad/Secunderabad, ...   \n",
       "5                                Bangalore/Bengaluru   \n",
       "6                                Bangalore/Bengaluru   \n",
       "7                                Bangalore/Bengaluru   \n",
       "8  Hyderabad/Secunderabad, Bangalore/Bengaluru, M...   \n",
       "9  Hyderabad/Secunderabad, Bangalore/Bengaluru, M...   \n",
       "\n",
       "                                     Job Description  \n",
       "0  Job description Job Responsibilities: Work wit...  \n",
       "1  Job description Position Description:  The Art...  \n",
       "2  Job description Role: Data Scientist  Roles an...  \n",
       "3  Job description Roles and Responsibilities   -...  \n",
       "4                                                  -  \n",
       "5                                                  -  \n",
       "6  Job description Business & Team overview: Foun...  \n",
       "7  Job description Business & Team overview: Foun...  \n",
       "8  Job description Dear Aspirant,  Greetings from...  \n",
       "9  Job description ROLE & RESPONSIBILITIES  A sol...  "
      ]
     },
     "execution_count": 25,
     "metadata": {},
     "output_type": "execute_result"
    }
   ],
   "source": [
    "Jobs = pd.DataFrame({})\n",
    "\n",
    "Jobs['Title'] = titles\n",
    "Jobs['Company'] = company_name\n",
    "Jobs['Location'] = locations\n",
    "Jobs['Job Description'] = job_desc\n",
    "\n",
    "Jobs"
   ]
  },
  {
   "cell_type": "markdown",
   "metadata": {},
   "source": [
    "# Question -3"
   ]
  },
  {
   "cell_type": "code",
   "execution_count": 26,
   "metadata": {},
   "outputs": [],
   "source": [
    "driver = webdriver.Chrome('chromedriver.exe')"
   ]
  },
  {
   "cell_type": "code",
   "execution_count": 27,
   "metadata": {},
   "outputs": [],
   "source": [
    "driver.get('https://www.naukri.com/')"
   ]
  },
  {
   "cell_type": "code",
   "execution_count": 29,
   "metadata": {},
   "outputs": [],
   "source": [
    "search_tag = driver.find_element_by_id('qsb-keyword-sugg')\n",
    "search_tag.send_keys('Data Scientist')"
   ]
  },
  {
   "cell_type": "code",
   "execution_count": 30,
   "metadata": {},
   "outputs": [],
   "source": [
    "search_button = driver.find_element_by_xpath(\"//div[@class='search-btn']\")\n",
    "search_button.click()"
   ]
  },
  {
   "cell_type": "code",
   "execution_count": 35,
   "metadata": {},
   "outputs": [],
   "source": [
    "location_filter = driver.find_elements_by_xpath(\"//p[@class='grey-text lH20 fleft ml-8 txtLbl']/span\")\n",
    "\n",
    "for i in location_filter:\n",
    "    if i.text == 'Delhi / NCR':\n",
    "        i.click()\n",
    "        break"
   ]
  },
  {
   "cell_type": "code",
   "execution_count": 37,
   "metadata": {},
   "outputs": [],
   "source": [
    "Salary_filter = driver.find_elements_by_xpath(\"//p[@class='grey-text lH20 fleft ml-8 txtLbl']/span\")\n",
    "\n",
    "for i in Salary_filter:\n",
    "    if i.text == '3-6 Lakhs':\n",
    "        i.click()\n",
    "        break"
   ]
  },
  {
   "cell_type": "code",
   "execution_count": 38,
   "metadata": {},
   "outputs": [],
   "source": [
    "job_tag = driver.find_elements_by_xpath(\"//a[@class='title fw500 ellipsis']\")"
   ]
  },
  {
   "cell_type": "code",
   "execution_count": 39,
   "metadata": {},
   "outputs": [
    {
     "data": {
      "text/plain": [
       "['Data Scientist / Data Analyst -Business Analyst',\n",
       " 'Data Engineers /Data Scientist - CES IT LTD - CMMI LVL 5',\n",
       " 'Data Engineers /Data Scientist - CES IT LTD - CMMI LVL 5',\n",
       " 'Data Scientist',\n",
       " 'Business Analyst- Data Scientist',\n",
       " 'Data Scientist',\n",
       " 'Data Scientist - High growth VC backed Influencer Marketplace',\n",
       " 'Data Scientist - Python/ SQL',\n",
       " 'Data Scientist - Noida',\n",
       " 'Data Scientist - Python & Machine Learning']"
      ]
     },
     "execution_count": 39,
     "metadata": {},
     "output_type": "execute_result"
    }
   ],
   "source": [
    "jobs = []\n",
    "\n",
    "for i in job_tag[:10]:\n",
    "    jobs.append(i.text)\n",
    "    \n",
    "jobs"
   ]
  },
  {
   "cell_type": "code",
   "execution_count": 40,
   "metadata": {},
   "outputs": [],
   "source": [
    "company_tag = driver.find_elements_by_xpath(\"//a[@class='subTitle ellipsis fleft']\")"
   ]
  },
  {
   "cell_type": "code",
   "execution_count": 41,
   "metadata": {},
   "outputs": [
    {
     "data": {
      "text/plain": [
       "['Inflexion Analytix Private Limited',\n",
       " 'CES Ltd.',\n",
       " 'CES Ltd.',\n",
       " 'IBM India Pvt. Limited',\n",
       " 'Wipro',\n",
       " 'Evalueserve.com Pvt. Ltd',\n",
       " 'Ravgins International Pvt. Ltd.',\n",
       " 'Schlesinger Group',\n",
       " 'Optum Global Solutions (India) Private Limited',\n",
       " 'FUTURES AND CAREERS']"
      ]
     },
     "execution_count": 41,
     "metadata": {},
     "output_type": "execute_result"
    }
   ],
   "source": [
    "company = []\n",
    "\n",
    "for i in company_tag[:10]:\n",
    "    company.append(i.text)\n",
    "    \n",
    "company"
   ]
  },
  {
   "cell_type": "code",
   "execution_count": 44,
   "metadata": {},
   "outputs": [],
   "source": [
    "location_tag = driver.find_elements_by_xpath(\"//li[@class='fleft grey-text br2 placeHolderLi location']/span\")"
   ]
  },
  {
   "cell_type": "code",
   "execution_count": 45,
   "metadata": {},
   "outputs": [
    {
     "data": {
      "text/plain": [
       "['Mumbai, Hyderabad/Secunderabad, Pune, Gurgaon/Gurugram, Chennai, Bangalore/Bengaluru',\n",
       " 'Kolkata, Hyderabad/Secunderabad, Pune, Ahmedabad, Chennai, Bangalore/Bengaluru, Delhi / NCR, Mumbai (All Areas)',\n",
       " 'Kolkata, Hyderabad/Secunderabad, Pune, Ahmedabad, Chennai, Bangalore/Bengaluru, Delhi / NCR, Mumbai (All Areas)',\n",
       " 'Noida, Hyderabad/Secunderabad, Bangalore/Bengaluru',\n",
       " 'Noida, Gurgaon/Gurugram',\n",
       " 'Gurgaon/Gurugram',\n",
       " 'Bangalore/Bengaluru, Delhi / NCR, Mumbai (All Areas)',\n",
       " 'Noida, Gurgaon/Gurugram, Delhi / NCR',\n",
       " 'Noida',\n",
       " 'Hyderabad/Secunderabad, Pune, Chennai, Bangalore/Bengaluru, Delhi / NCR, Mumbai (All Areas)']"
      ]
     },
     "execution_count": 45,
     "metadata": {},
     "output_type": "execute_result"
    }
   ],
   "source": [
    "location = []\n",
    "\n",
    "for i in location_tag[:10]:\n",
    "    location.append(i.text)\n",
    "    \n",
    "location"
   ]
  },
  {
   "cell_type": "code",
   "execution_count": 46,
   "metadata": {},
   "outputs": [],
   "source": [
    "experience_tag = driver.find_elements_by_xpath(\"//li[@class='fleft grey-text br2 placeHolderLi experience']/span\")"
   ]
  },
  {
   "cell_type": "code",
   "execution_count": 47,
   "metadata": {},
   "outputs": [
    {
     "data": {
      "text/plain": [
       "['0-3 Yrs',\n",
       " '3-5 Yrs',\n",
       " '3-5 Yrs',\n",
       " '4-9 Yrs',\n",
       " '2-5 Yrs',\n",
       " '4-7 Yrs',\n",
       " '3-5 Yrs',\n",
       " '3-6 Yrs',\n",
       " '3-5 Yrs',\n",
       " '2-7 Yrs']"
      ]
     },
     "execution_count": 47,
     "metadata": {},
     "output_type": "execute_result"
    }
   ],
   "source": [
    "experience = []\n",
    "\n",
    "for i in experience_tag[:10]:\n",
    "    experience.append(i.text)\n",
    "    \n",
    "experience"
   ]
  },
  {
   "cell_type": "code",
   "execution_count": 48,
   "metadata": {},
   "outputs": [
    {
     "name": "stdout",
     "output_type": "stream",
     "text": [
      "10 10 10 10\n"
     ]
    }
   ],
   "source": [
    "print(len(jobs),len(company),len(location),len(experience))"
   ]
  },
  {
   "cell_type": "code",
   "execution_count": 49,
   "metadata": {},
   "outputs": [
    {
     "data": {
      "text/html": [
       "<div>\n",
       "<style scoped>\n",
       "    .dataframe tbody tr th:only-of-type {\n",
       "        vertical-align: middle;\n",
       "    }\n",
       "\n",
       "    .dataframe tbody tr th {\n",
       "        vertical-align: top;\n",
       "    }\n",
       "\n",
       "    .dataframe thead th {\n",
       "        text-align: right;\n",
       "    }\n",
       "</style>\n",
       "<table border=\"1\" class=\"dataframe\">\n",
       "  <thead>\n",
       "    <tr style=\"text-align: right;\">\n",
       "      <th></th>\n",
       "      <th>Title</th>\n",
       "      <th>Company</th>\n",
       "      <th>Location</th>\n",
       "      <th>Experience</th>\n",
       "    </tr>\n",
       "  </thead>\n",
       "  <tbody>\n",
       "    <tr>\n",
       "      <th>0</th>\n",
       "      <td>Data Scientist / Data Analyst -Business Analyst</td>\n",
       "      <td>Inflexion Analytix Private Limited</td>\n",
       "      <td>Mumbai, Hyderabad/Secunderabad, Pune, Gurgaon/...</td>\n",
       "      <td>0-3 Yrs</td>\n",
       "    </tr>\n",
       "    <tr>\n",
       "      <th>1</th>\n",
       "      <td>Data Engineers /Data Scientist - CES IT LTD - ...</td>\n",
       "      <td>CES Ltd.</td>\n",
       "      <td>Kolkata, Hyderabad/Secunderabad, Pune, Ahmedab...</td>\n",
       "      <td>3-5 Yrs</td>\n",
       "    </tr>\n",
       "    <tr>\n",
       "      <th>2</th>\n",
       "      <td>Data Engineers /Data Scientist - CES IT LTD - ...</td>\n",
       "      <td>CES Ltd.</td>\n",
       "      <td>Kolkata, Hyderabad/Secunderabad, Pune, Ahmedab...</td>\n",
       "      <td>3-5 Yrs</td>\n",
       "    </tr>\n",
       "    <tr>\n",
       "      <th>3</th>\n",
       "      <td>Data Scientist</td>\n",
       "      <td>IBM India Pvt. Limited</td>\n",
       "      <td>Noida, Hyderabad/Secunderabad, Bangalore/Benga...</td>\n",
       "      <td>4-9 Yrs</td>\n",
       "    </tr>\n",
       "    <tr>\n",
       "      <th>4</th>\n",
       "      <td>Business Analyst- Data Scientist</td>\n",
       "      <td>Wipro</td>\n",
       "      <td>Noida, Gurgaon/Gurugram</td>\n",
       "      <td>2-5 Yrs</td>\n",
       "    </tr>\n",
       "    <tr>\n",
       "      <th>5</th>\n",
       "      <td>Data Scientist</td>\n",
       "      <td>Evalueserve.com Pvt. Ltd</td>\n",
       "      <td>Gurgaon/Gurugram</td>\n",
       "      <td>4-7 Yrs</td>\n",
       "    </tr>\n",
       "    <tr>\n",
       "      <th>6</th>\n",
       "      <td>Data Scientist - High growth VC backed Influen...</td>\n",
       "      <td>Ravgins International Pvt. Ltd.</td>\n",
       "      <td>Bangalore/Bengaluru, Delhi / NCR, Mumbai (All ...</td>\n",
       "      <td>3-5 Yrs</td>\n",
       "    </tr>\n",
       "    <tr>\n",
       "      <th>7</th>\n",
       "      <td>Data Scientist - Python/ SQL</td>\n",
       "      <td>Schlesinger Group</td>\n",
       "      <td>Noida, Gurgaon/Gurugram, Delhi / NCR</td>\n",
       "      <td>3-6 Yrs</td>\n",
       "    </tr>\n",
       "    <tr>\n",
       "      <th>8</th>\n",
       "      <td>Data Scientist - Noida</td>\n",
       "      <td>Optum Global Solutions (India) Private Limited</td>\n",
       "      <td>Noida</td>\n",
       "      <td>3-5 Yrs</td>\n",
       "    </tr>\n",
       "    <tr>\n",
       "      <th>9</th>\n",
       "      <td>Data Scientist - Python &amp; Machine Learning</td>\n",
       "      <td>FUTURES AND CAREERS</td>\n",
       "      <td>Hyderabad/Secunderabad, Pune, Chennai, Bangalo...</td>\n",
       "      <td>2-7 Yrs</td>\n",
       "    </tr>\n",
       "  </tbody>\n",
       "</table>\n",
       "</div>"
      ],
      "text/plain": [
       "                                               Title  \\\n",
       "0    Data Scientist / Data Analyst -Business Analyst   \n",
       "1  Data Engineers /Data Scientist - CES IT LTD - ...   \n",
       "2  Data Engineers /Data Scientist - CES IT LTD - ...   \n",
       "3                                     Data Scientist   \n",
       "4                   Business Analyst- Data Scientist   \n",
       "5                                     Data Scientist   \n",
       "6  Data Scientist - High growth VC backed Influen...   \n",
       "7                       Data Scientist - Python/ SQL   \n",
       "8                             Data Scientist - Noida   \n",
       "9         Data Scientist - Python & Machine Learning   \n",
       "\n",
       "                                          Company  \\\n",
       "0              Inflexion Analytix Private Limited   \n",
       "1                                        CES Ltd.   \n",
       "2                                        CES Ltd.   \n",
       "3                          IBM India Pvt. Limited   \n",
       "4                                           Wipro   \n",
       "5                        Evalueserve.com Pvt. Ltd   \n",
       "6                 Ravgins International Pvt. Ltd.   \n",
       "7                               Schlesinger Group   \n",
       "8  Optum Global Solutions (India) Private Limited   \n",
       "9                             FUTURES AND CAREERS   \n",
       "\n",
       "                                            Location Experience  \n",
       "0  Mumbai, Hyderabad/Secunderabad, Pune, Gurgaon/...    0-3 Yrs  \n",
       "1  Kolkata, Hyderabad/Secunderabad, Pune, Ahmedab...    3-5 Yrs  \n",
       "2  Kolkata, Hyderabad/Secunderabad, Pune, Ahmedab...    3-5 Yrs  \n",
       "3  Noida, Hyderabad/Secunderabad, Bangalore/Benga...    4-9 Yrs  \n",
       "4                            Noida, Gurgaon/Gurugram    2-5 Yrs  \n",
       "5                                   Gurgaon/Gurugram    4-7 Yrs  \n",
       "6  Bangalore/Bengaluru, Delhi / NCR, Mumbai (All ...    3-5 Yrs  \n",
       "7               Noida, Gurgaon/Gurugram, Delhi / NCR    3-6 Yrs  \n",
       "8                                              Noida    3-5 Yrs  \n",
       "9  Hyderabad/Secunderabad, Pune, Chennai, Bangalo...    2-7 Yrs  "
      ]
     },
     "execution_count": 49,
     "metadata": {},
     "output_type": "execute_result"
    }
   ],
   "source": [
    "job1 = pd.DataFrame({})\n",
    "\n",
    "job1['Title'] = jobs\n",
    "job1['Company'] = company\n",
    "job1['Location'] = location\n",
    "job1['Experience'] = experience\n",
    "\n",
    "job1"
   ]
  },
  {
   "cell_type": "code",
   "execution_count": null,
   "metadata": {},
   "outputs": [],
   "source": []
  }
 ],
 "metadata": {
  "kernelspec": {
   "display_name": "Python 3",
   "language": "python",
   "name": "python3"
  },
  "language_info": {
   "codemirror_mode": {
    "name": "ipython",
    "version": 3
   },
   "file_extension": ".py",
   "mimetype": "text/x-python",
   "name": "python",
   "nbconvert_exporter": "python",
   "pygments_lexer": "ipython3",
   "version": "3.8.5"
  }
 },
 "nbformat": 4,
 "nbformat_minor": 4
}
