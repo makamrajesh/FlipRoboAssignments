{
 "cells": [
  {
   "cell_type": "markdown",
   "metadata": {},
   "source": [
    "# Question -1"
   ]
  },
  {
   "cell_type": "code",
   "execution_count": 1,
   "metadata": {},
   "outputs": [],
   "source": [
    "#lets now import all the required library\n",
    "\n",
    "import pandas as pd\n",
    "\n",
    "from selenium import webdriver\n",
    "\n",
    "from selenium.common.exceptions import NoSuchElementException\n",
    "\n",
    "import time"
   ]
  },
  {
   "cell_type": "code",
   "execution_count": 2,
   "metadata": {},
   "outputs": [],
   "source": [
    "driver = webdriver.Chrome(\"chromedriver.exe\")"
   ]
  },
  {
   "cell_type": "code",
   "execution_count": 3,
   "metadata": {},
   "outputs": [],
   "source": [
    "driver.get('https://www.naukri.com/')"
   ]
  },
  {
   "cell_type": "code",
   "execution_count": 4,
   "metadata": {},
   "outputs": [],
   "source": [
    "#finding element for job search bar\n",
    "\n",
    "search_job = driver.find_element_by_id('qsb-keyword-sugg')\n",
    "search_job.send_keys('Data Scientist')"
   ]
  },
  {
   "cell_type": "code",
   "execution_count": 5,
   "metadata": {},
   "outputs": [],
   "source": [
    "#finding element for location bar\n",
    "\n",
    "search_loc = driver.find_element_by_id('qsb-location-sugg')\n",
    "search_loc.send_keys('Bangalore')"
   ]
  },
  {
   "cell_type": "code",
   "execution_count": 6,
   "metadata": {},
   "outputs": [],
   "source": [
    "#do click using class_name function\n",
    "\n",
    "search_btn = driver.find_element_by_class_name('btn')\n",
    "search_btn.click()"
   ]
  },
  {
   "cell_type": "code",
   "execution_count": 7,
   "metadata": {},
   "outputs": [
    {
     "data": {
      "text/plain": [
       "<selenium.webdriver.remote.webelement.WebElement (session=\"5f7e44e1a99ca8ef29c3746a083222ef\", element=\"378622b4-246a-483e-b6f7-acf090d28f4d\")>"
      ]
     },
     "execution_count": 7,
     "metadata": {},
     "output_type": "execute_result"
    }
   ],
   "source": [
    "#so lets extract all the tags having the job-titles\n",
    "\n",
    "title_tag = driver.find_element_by_xpath(\"//a[@class='title fw500 ellipsis']\")\n",
    "\n",
    "title_tag"
   ]
  },
  {
   "cell_type": "code",
   "execution_count": 8,
   "metadata": {},
   "outputs": [
    {
     "data": {
      "text/plain": [
       "[<selenium.webdriver.remote.webelement.WebElement (session=\"5f7e44e1a99ca8ef29c3746a083222ef\", element=\"378622b4-246a-483e-b6f7-acf090d28f4d\")>,\n",
       " <selenium.webdriver.remote.webelement.WebElement (session=\"5f7e44e1a99ca8ef29c3746a083222ef\", element=\"fa51c7fb-d169-43de-a29e-eba1c4a3044c\")>,\n",
       " <selenium.webdriver.remote.webelement.WebElement (session=\"5f7e44e1a99ca8ef29c3746a083222ef\", element=\"9473473d-5261-46f8-b83d-4575393261ef\")>,\n",
       " <selenium.webdriver.remote.webelement.WebElement (session=\"5f7e44e1a99ca8ef29c3746a083222ef\", element=\"ccb2bfa5-c99a-4ccb-b04f-3a0bb8344026\")>,\n",
       " <selenium.webdriver.remote.webelement.WebElement (session=\"5f7e44e1a99ca8ef29c3746a083222ef\", element=\"d9074bb2-f15f-423c-a39d-53ae68903755\")>,\n",
       " <selenium.webdriver.remote.webelement.WebElement (session=\"5f7e44e1a99ca8ef29c3746a083222ef\", element=\"6f2951af-1a21-429c-bb67-1cabfc2446d8\")>,\n",
       " <selenium.webdriver.remote.webelement.WebElement (session=\"5f7e44e1a99ca8ef29c3746a083222ef\", element=\"1e6c03bd-8923-41be-b968-20759cd27266\")>,\n",
       " <selenium.webdriver.remote.webelement.WebElement (session=\"5f7e44e1a99ca8ef29c3746a083222ef\", element=\"2d91fd8b-2f43-4255-bde3-6192283b35ee\")>,\n",
       " <selenium.webdriver.remote.webelement.WebElement (session=\"5f7e44e1a99ca8ef29c3746a083222ef\", element=\"94854b50-8e47-429e-9c3a-5aabb836269a\")>,\n",
       " <selenium.webdriver.remote.webelement.WebElement (session=\"5f7e44e1a99ca8ef29c3746a083222ef\", element=\"b0c993f6-9b21-45bd-b724-4b3aca1bf0e7\")>,\n",
       " <selenium.webdriver.remote.webelement.WebElement (session=\"5f7e44e1a99ca8ef29c3746a083222ef\", element=\"a6198fc4-9428-4132-b7ae-cae4e2e30d92\")>,\n",
       " <selenium.webdriver.remote.webelement.WebElement (session=\"5f7e44e1a99ca8ef29c3746a083222ef\", element=\"928d7150-31ec-49dd-aae6-03bba58828d9\")>,\n",
       " <selenium.webdriver.remote.webelement.WebElement (session=\"5f7e44e1a99ca8ef29c3746a083222ef\", element=\"66ea12ad-45ab-47fd-b2fa-2c22a3e40bd7\")>,\n",
       " <selenium.webdriver.remote.webelement.WebElement (session=\"5f7e44e1a99ca8ef29c3746a083222ef\", element=\"2e373db4-dc3e-40cb-8467-fa30cbf6fae5\")>,\n",
       " <selenium.webdriver.remote.webelement.WebElement (session=\"5f7e44e1a99ca8ef29c3746a083222ef\", element=\"40387987-3482-4295-82f6-274b79857f73\")>,\n",
       " <selenium.webdriver.remote.webelement.WebElement (session=\"5f7e44e1a99ca8ef29c3746a083222ef\", element=\"52a90413-1d05-48b6-9f78-b000d914234e\")>,\n",
       " <selenium.webdriver.remote.webelement.WebElement (session=\"5f7e44e1a99ca8ef29c3746a083222ef\", element=\"21e320aa-9818-4601-98fb-0718ed74fb6d\")>,\n",
       " <selenium.webdriver.remote.webelement.WebElement (session=\"5f7e44e1a99ca8ef29c3746a083222ef\", element=\"2c0e924c-741f-4bcf-8d88-603b9d068ef9\")>,\n",
       " <selenium.webdriver.remote.webelement.WebElement (session=\"5f7e44e1a99ca8ef29c3746a083222ef\", element=\"f12fd279-495c-4b23-ad08-2d84ea921fba\")>,\n",
       " <selenium.webdriver.remote.webelement.WebElement (session=\"5f7e44e1a99ca8ef29c3746a083222ef\", element=\"eef93b6e-f690-4da1-821a-cf2cde63673b\")>]"
      ]
     },
     "execution_count": 8,
     "metadata": {},
     "output_type": "execute_result"
    }
   ],
   "source": [
    "#Finding all job titles\n",
    "\n",
    "titles_tag = driver.find_elements_by_xpath(\"//a[@class='title fw500 ellipsis']\")\n",
    "\n",
    "titles_tag"
   ]
  },
  {
   "cell_type": "code",
   "execution_count": 9,
   "metadata": {},
   "outputs": [
    {
     "data": {
      "text/plain": [
       "['Senior Data Scientist',\n",
       " 'Senior Data Scientist',\n",
       " 'Data Scientist',\n",
       " 'Data Scientist',\n",
       " 'Looking For Data Scientist For Infogain',\n",
       " 'Data Scientist - Python/MATLAB/Machine Learning Algorithms',\n",
       " 'Data Scientist - Machine Learning',\n",
       " 'Senior / Lead Data Scientist',\n",
       " 'Data Scientist',\n",
       " 'Hiring For DATA Scientist - ON Contract Basis (3-6 Months)']"
      ]
     },
     "execution_count": 9,
     "metadata": {},
     "output_type": "execute_result"
    }
   ],
   "source": [
    "titles = []\n",
    "\n",
    "for i in titles_tag[:10]:\n",
    "    titles.append(i.text)\n",
    "    \n",
    "titles"
   ]
  },
  {
   "cell_type": "code",
   "execution_count": 10,
   "metadata": {},
   "outputs": [
    {
     "data": {
      "text/plain": [
       "[<selenium.webdriver.remote.webelement.WebElement (session=\"5f7e44e1a99ca8ef29c3746a083222ef\", element=\"bf101854-1c56-4d39-ba3b-3400e1f22538\")>,\n",
       " <selenium.webdriver.remote.webelement.WebElement (session=\"5f7e44e1a99ca8ef29c3746a083222ef\", element=\"42f0fabd-5ae8-4ac7-930b-177aee053f70\")>,\n",
       " <selenium.webdriver.remote.webelement.WebElement (session=\"5f7e44e1a99ca8ef29c3746a083222ef\", element=\"f9f858a0-ca92-42bd-9133-1de09ceb2903\")>,\n",
       " <selenium.webdriver.remote.webelement.WebElement (session=\"5f7e44e1a99ca8ef29c3746a083222ef\", element=\"34a16d20-328f-4933-8480-7b9268663270\")>,\n",
       " <selenium.webdriver.remote.webelement.WebElement (session=\"5f7e44e1a99ca8ef29c3746a083222ef\", element=\"a82bef2c-9a72-468b-bbfa-5b621b0d6a8b\")>,\n",
       " <selenium.webdriver.remote.webelement.WebElement (session=\"5f7e44e1a99ca8ef29c3746a083222ef\", element=\"453ce586-d651-4f42-9ddf-a8ea9865943d\")>,\n",
       " <selenium.webdriver.remote.webelement.WebElement (session=\"5f7e44e1a99ca8ef29c3746a083222ef\", element=\"86276d37-c4d5-4f55-aef1-8baacff07403\")>,\n",
       " <selenium.webdriver.remote.webelement.WebElement (session=\"5f7e44e1a99ca8ef29c3746a083222ef\", element=\"f28ce03b-ed77-49d0-9369-eefd65cc1dd4\")>,\n",
       " <selenium.webdriver.remote.webelement.WebElement (session=\"5f7e44e1a99ca8ef29c3746a083222ef\", element=\"f2bcef89-45a3-4774-a4dd-86a36f32ab08\")>,\n",
       " <selenium.webdriver.remote.webelement.WebElement (session=\"5f7e44e1a99ca8ef29c3746a083222ef\", element=\"f3a891de-6587-4c97-acd3-5e1b700b8554\")>,\n",
       " <selenium.webdriver.remote.webelement.WebElement (session=\"5f7e44e1a99ca8ef29c3746a083222ef\", element=\"0997767a-bd79-4349-944d-a2304d079ef3\")>,\n",
       " <selenium.webdriver.remote.webelement.WebElement (session=\"5f7e44e1a99ca8ef29c3746a083222ef\", element=\"377a9f72-91b4-44e3-9842-591766883ba5\")>,\n",
       " <selenium.webdriver.remote.webelement.WebElement (session=\"5f7e44e1a99ca8ef29c3746a083222ef\", element=\"98bd38e8-cd0a-40d1-abda-aee30f985fe4\")>,\n",
       " <selenium.webdriver.remote.webelement.WebElement (session=\"5f7e44e1a99ca8ef29c3746a083222ef\", element=\"60450b54-e29c-4e33-9684-4729f58fdbc2\")>,\n",
       " <selenium.webdriver.remote.webelement.WebElement (session=\"5f7e44e1a99ca8ef29c3746a083222ef\", element=\"b45638f5-c188-49f3-bd09-fc34f743f582\")>,\n",
       " <selenium.webdriver.remote.webelement.WebElement (session=\"5f7e44e1a99ca8ef29c3746a083222ef\", element=\"6cbaf68a-a0b1-4752-8d2c-f17de80ee2cc\")>,\n",
       " <selenium.webdriver.remote.webelement.WebElement (session=\"5f7e44e1a99ca8ef29c3746a083222ef\", element=\"f26a10f5-d37f-4328-be6d-f7bdfcc41f2e\")>,\n",
       " <selenium.webdriver.remote.webelement.WebElement (session=\"5f7e44e1a99ca8ef29c3746a083222ef\", element=\"942bedf5-471a-42d2-8179-dbac6aa78edf\")>,\n",
       " <selenium.webdriver.remote.webelement.WebElement (session=\"5f7e44e1a99ca8ef29c3746a083222ef\", element=\"a6779191-f270-4cda-bc0a-73bcc9f4e456\")>,\n",
       " <selenium.webdriver.remote.webelement.WebElement (session=\"5f7e44e1a99ca8ef29c3746a083222ef\", element=\"c5727ab0-1b15-4c54-9887-137a645f1742\")>]"
      ]
     },
     "execution_count": 10,
     "metadata": {},
     "output_type": "execute_result"
    }
   ],
   "source": [
    "companies_tag = driver.find_elements_by_xpath(\"//a[@class='subTitle ellipsis fleft']\")\n",
    "\n",
    "companies_tag"
   ]
  },
  {
   "cell_type": "code",
   "execution_count": 11,
   "metadata": {},
   "outputs": [
    {
     "data": {
      "text/plain": [
       "['Fractal Analytics',\n",
       " 'Fractal Analytics',\n",
       " 'Persistent Systems Limited.',\n",
       " 'Wipro Limited',\n",
       " 'Infogain India (P) Ltd.',\n",
       " 'Wrackle Technologies Pvt Ltd',\n",
       " 'AugmatrixGo',\n",
       " 'TVS CREDIT SERVICES LIMITED',\n",
       " 'Oracle India Pvt. Ltd.',\n",
       " 'GlobalEdx Learning and Technology Solution Pvt Ltd']"
      ]
     },
     "execution_count": 11,
     "metadata": {},
     "output_type": "execute_result"
    }
   ],
   "source": [
    "company_name = []\n",
    "\n",
    "for i in companies_tag[:10]:\n",
    "    company_name.append(i.text)\n",
    "    \n",
    "company_name"
   ]
  },
  {
   "cell_type": "code",
   "execution_count": 12,
   "metadata": {},
   "outputs": [
    {
     "data": {
      "text/plain": [
       "[<selenium.webdriver.remote.webelement.WebElement (session=\"5f7e44e1a99ca8ef29c3746a083222ef\", element=\"98dda7e1-e2d0-4fd0-a2d4-9b9ce86b1150\")>,\n",
       " <selenium.webdriver.remote.webelement.WebElement (session=\"5f7e44e1a99ca8ef29c3746a083222ef\", element=\"2f231019-1e36-4773-bc13-da3c667fd903\")>,\n",
       " <selenium.webdriver.remote.webelement.WebElement (session=\"5f7e44e1a99ca8ef29c3746a083222ef\", element=\"150162d4-9777-435a-863f-9561c178d518\")>,\n",
       " <selenium.webdriver.remote.webelement.WebElement (session=\"5f7e44e1a99ca8ef29c3746a083222ef\", element=\"cc7285ae-37b9-4911-9246-291a1ef09702\")>,\n",
       " <selenium.webdriver.remote.webelement.WebElement (session=\"5f7e44e1a99ca8ef29c3746a083222ef\", element=\"1c1c75f3-112c-4985-941c-ad742f6230fc\")>,\n",
       " <selenium.webdriver.remote.webelement.WebElement (session=\"5f7e44e1a99ca8ef29c3746a083222ef\", element=\"7be2fc52-a048-402f-a22b-249015bab5a2\")>,\n",
       " <selenium.webdriver.remote.webelement.WebElement (session=\"5f7e44e1a99ca8ef29c3746a083222ef\", element=\"dc8f6435-af64-4dec-a716-934492a39423\")>,\n",
       " <selenium.webdriver.remote.webelement.WebElement (session=\"5f7e44e1a99ca8ef29c3746a083222ef\", element=\"825cc871-16ad-4926-9592-8e9a4e76df3e\")>,\n",
       " <selenium.webdriver.remote.webelement.WebElement (session=\"5f7e44e1a99ca8ef29c3746a083222ef\", element=\"1376f9d0-ea64-4221-8111-31400bd90aea\")>,\n",
       " <selenium.webdriver.remote.webelement.WebElement (session=\"5f7e44e1a99ca8ef29c3746a083222ef\", element=\"d9a42dc7-a7f7-4269-96e5-bb324baaf575\")>,\n",
       " <selenium.webdriver.remote.webelement.WebElement (session=\"5f7e44e1a99ca8ef29c3746a083222ef\", element=\"68aea309-00c7-4ef9-b89c-67941f6e84e3\")>,\n",
       " <selenium.webdriver.remote.webelement.WebElement (session=\"5f7e44e1a99ca8ef29c3746a083222ef\", element=\"7f844ad8-34a5-4e4b-8d79-431eb876f7e7\")>,\n",
       " <selenium.webdriver.remote.webelement.WebElement (session=\"5f7e44e1a99ca8ef29c3746a083222ef\", element=\"b7320353-492e-47ac-8ed5-f53dab233146\")>,\n",
       " <selenium.webdriver.remote.webelement.WebElement (session=\"5f7e44e1a99ca8ef29c3746a083222ef\", element=\"7464321b-2c20-4fdb-896c-f55dce5a0594\")>,\n",
       " <selenium.webdriver.remote.webelement.WebElement (session=\"5f7e44e1a99ca8ef29c3746a083222ef\", element=\"3a06f5b4-e4f1-43b8-ae33-c541acecd4ba\")>,\n",
       " <selenium.webdriver.remote.webelement.WebElement (session=\"5f7e44e1a99ca8ef29c3746a083222ef\", element=\"361a9ac1-a36b-4ec3-9ac2-1171fd930cf5\")>,\n",
       " <selenium.webdriver.remote.webelement.WebElement (session=\"5f7e44e1a99ca8ef29c3746a083222ef\", element=\"708343ae-98cc-4cb9-af85-1dd7314c0675\")>,\n",
       " <selenium.webdriver.remote.webelement.WebElement (session=\"5f7e44e1a99ca8ef29c3746a083222ef\", element=\"a35a2e3a-5b32-4420-84b1-c304b1c78b61\")>,\n",
       " <selenium.webdriver.remote.webelement.WebElement (session=\"5f7e44e1a99ca8ef29c3746a083222ef\", element=\"5e8c0a7e-aa7b-4f49-a1ed-b2102fec0520\")>,\n",
       " <selenium.webdriver.remote.webelement.WebElement (session=\"5f7e44e1a99ca8ef29c3746a083222ef\", element=\"ae2e93a5-2917-48a4-b5d1-17b4f9762b5c\")>]"
      ]
     },
     "execution_count": 12,
     "metadata": {},
     "output_type": "execute_result"
    }
   ],
   "source": [
    "experience_tags = driver.find_elements_by_xpath(\"//li[@class='fleft grey-text br2 placeHolderLi experience']/span\")\n",
    "\n",
    "experience_tags"
   ]
  },
  {
   "cell_type": "code",
   "execution_count": 13,
   "metadata": {},
   "outputs": [
    {
     "data": {
      "text/plain": [
       "['4-8 Yrs',\n",
       " '5-10 Yrs',\n",
       " '8-13 Yrs',\n",
       " '4-9 Yrs',\n",
       " '10-20 Yrs',\n",
       " '3-8 Yrs',\n",
       " '2-5 Yrs',\n",
       " '3-8 Yrs',\n",
       " '6-10 Yrs',\n",
       " '3-8 Yrs']"
      ]
     },
     "execution_count": 13,
     "metadata": {},
     "output_type": "execute_result"
    }
   ],
   "source": [
    "experience = []\n",
    "\n",
    "for i in experience_tags[:10]:\n",
    "    experience.append(i.text)\n",
    "\n",
    "experience"
   ]
  },
  {
   "cell_type": "code",
   "execution_count": 14,
   "metadata": {},
   "outputs": [
    {
     "data": {
      "text/plain": [
       "[<selenium.webdriver.remote.webelement.WebElement (session=\"5f7e44e1a99ca8ef29c3746a083222ef\", element=\"44e8f2cc-63e8-4110-b7ee-eb663d71f03b\")>,\n",
       " <selenium.webdriver.remote.webelement.WebElement (session=\"5f7e44e1a99ca8ef29c3746a083222ef\", element=\"86217d03-aa47-44a6-8657-55197530367a\")>,\n",
       " <selenium.webdriver.remote.webelement.WebElement (session=\"5f7e44e1a99ca8ef29c3746a083222ef\", element=\"0935d5fb-b97b-455a-badf-b9117645444d\")>,\n",
       " <selenium.webdriver.remote.webelement.WebElement (session=\"5f7e44e1a99ca8ef29c3746a083222ef\", element=\"5dd015ea-f6fc-4a37-b9c8-50ddb26c085e\")>,\n",
       " <selenium.webdriver.remote.webelement.WebElement (session=\"5f7e44e1a99ca8ef29c3746a083222ef\", element=\"8d8756f6-4190-4c9a-b495-8bf5a3bce687\")>,\n",
       " <selenium.webdriver.remote.webelement.WebElement (session=\"5f7e44e1a99ca8ef29c3746a083222ef\", element=\"4947d85a-bc1b-4697-a2d1-5b080ed60e3a\")>,\n",
       " <selenium.webdriver.remote.webelement.WebElement (session=\"5f7e44e1a99ca8ef29c3746a083222ef\", element=\"81062d01-c8f2-4600-bc9b-127e1e01fe43\")>,\n",
       " <selenium.webdriver.remote.webelement.WebElement (session=\"5f7e44e1a99ca8ef29c3746a083222ef\", element=\"8972bb03-fdb3-4b25-80be-c392f164303c\")>,\n",
       " <selenium.webdriver.remote.webelement.WebElement (session=\"5f7e44e1a99ca8ef29c3746a083222ef\", element=\"2cf528a4-2b7c-4913-bc1d-3d6e1f76f8fb\")>,\n",
       " <selenium.webdriver.remote.webelement.WebElement (session=\"5f7e44e1a99ca8ef29c3746a083222ef\", element=\"3863db9e-6384-458c-8e8d-3012f7d3d6ea\")>,\n",
       " <selenium.webdriver.remote.webelement.WebElement (session=\"5f7e44e1a99ca8ef29c3746a083222ef\", element=\"49ffdd31-ffa0-45d4-a5d1-da8ad613f86f\")>,\n",
       " <selenium.webdriver.remote.webelement.WebElement (session=\"5f7e44e1a99ca8ef29c3746a083222ef\", element=\"0c8f0e9a-3e3e-4beb-a61c-417e9f7022ff\")>,\n",
       " <selenium.webdriver.remote.webelement.WebElement (session=\"5f7e44e1a99ca8ef29c3746a083222ef\", element=\"5217b582-250b-4801-ab9a-add57ba72d9e\")>,\n",
       " <selenium.webdriver.remote.webelement.WebElement (session=\"5f7e44e1a99ca8ef29c3746a083222ef\", element=\"f1bb12c2-54c7-451b-8d75-aa181e1e7711\")>,\n",
       " <selenium.webdriver.remote.webelement.WebElement (session=\"5f7e44e1a99ca8ef29c3746a083222ef\", element=\"3196df7a-6c82-4f43-9de1-29a4f3026ce0\")>,\n",
       " <selenium.webdriver.remote.webelement.WebElement (session=\"5f7e44e1a99ca8ef29c3746a083222ef\", element=\"cfa24ecb-c4d2-41c7-b212-0bcaceb552f6\")>,\n",
       " <selenium.webdriver.remote.webelement.WebElement (session=\"5f7e44e1a99ca8ef29c3746a083222ef\", element=\"4c1fdb93-9799-47f0-ba64-bb63139e3b80\")>,\n",
       " <selenium.webdriver.remote.webelement.WebElement (session=\"5f7e44e1a99ca8ef29c3746a083222ef\", element=\"055810f1-9d62-485e-8d22-d4bf7e6c0685\")>,\n",
       " <selenium.webdriver.remote.webelement.WebElement (session=\"5f7e44e1a99ca8ef29c3746a083222ef\", element=\"5ed2267a-47f4-4665-80ad-e56bef9b0587\")>,\n",
       " <selenium.webdriver.remote.webelement.WebElement (session=\"5f7e44e1a99ca8ef29c3746a083222ef\", element=\"81753d1b-a2f7-4dd0-b274-9b299a8eff78\")>]"
      ]
     },
     "execution_count": 14,
     "metadata": {},
     "output_type": "execute_result"
    }
   ],
   "source": [
    "location_tag = driver.find_elements_by_xpath(\"//li[@class='fleft grey-text br2 placeHolderLi location']/span\")\n",
    "\n",
    "location_tag"
   ]
  },
  {
   "cell_type": "code",
   "execution_count": 15,
   "metadata": {},
   "outputs": [
    {
     "data": {
      "text/plain": [
       "['Mumbai, Gurgaon/Gurugram, Bangalore/Bengaluru',\n",
       " 'Gurgaon/Gurugram, Bangalore/Bengaluru, Mumbai (All Areas)',\n",
       " 'Hyderabad/Secunderabad, Pune, Bangalore/Bengaluru',\n",
       " 'Kolkata, Hyderabad/Secunderabad, Chennai, Bangalore/Bengaluru',\n",
       " 'Noida(Sector-60 Noida), Bangalore/Bengaluru(Electronics City Phase 1), Mumbai (All Areas)(SEEPZ)',\n",
       " 'Bangalore/Bengaluru',\n",
       " 'Bangalore/Bengaluru',\n",
       " 'Pune, Chennai, Bangalore/Bengaluru',\n",
       " 'Bangalore/Bengaluru',\n",
       " 'Hyderabad/Secunderabad, Bangalore/Bengaluru, Mumbai (All Areas)']"
      ]
     },
     "execution_count": 15,
     "metadata": {},
     "output_type": "execute_result"
    }
   ],
   "source": [
    "locations = []\n",
    "\n",
    "for i in location_tag[:10]:\n",
    "    locations.append(i.text)\n",
    "    \n",
    "locations"
   ]
  },
  {
   "cell_type": "code",
   "execution_count": 16,
   "metadata": {},
   "outputs": [
    {
     "name": "stdout",
     "output_type": "stream",
     "text": [
      "10 10 10 10\n"
     ]
    }
   ],
   "source": [
    "print(len(titles),len(company_name),len(locations),len(experience))"
   ]
  },
  {
   "cell_type": "code",
   "execution_count": 17,
   "metadata": {},
   "outputs": [
    {
     "data": {
      "text/html": [
       "<div>\n",
       "<style scoped>\n",
       "    .dataframe tbody tr th:only-of-type {\n",
       "        vertical-align: middle;\n",
       "    }\n",
       "\n",
       "    .dataframe tbody tr th {\n",
       "        vertical-align: top;\n",
       "    }\n",
       "\n",
       "    .dataframe thead th {\n",
       "        text-align: right;\n",
       "    }\n",
       "</style>\n",
       "<table border=\"1\" class=\"dataframe\">\n",
       "  <thead>\n",
       "    <tr style=\"text-align: right;\">\n",
       "      <th></th>\n",
       "      <th>Jobs</th>\n",
       "      <th>Company</th>\n",
       "      <th>Experience</th>\n",
       "      <th>Location</th>\n",
       "    </tr>\n",
       "  </thead>\n",
       "  <tbody>\n",
       "    <tr>\n",
       "      <th>0</th>\n",
       "      <td>Senior Data Scientist</td>\n",
       "      <td>Fractal Analytics</td>\n",
       "      <td>4-8 Yrs</td>\n",
       "      <td>Mumbai, Gurgaon/Gurugram, Bangalore/Bengaluru</td>\n",
       "    </tr>\n",
       "    <tr>\n",
       "      <th>1</th>\n",
       "      <td>Senior Data Scientist</td>\n",
       "      <td>Fractal Analytics</td>\n",
       "      <td>5-10 Yrs</td>\n",
       "      <td>Gurgaon/Gurugram, Bangalore/Bengaluru, Mumbai ...</td>\n",
       "    </tr>\n",
       "    <tr>\n",
       "      <th>2</th>\n",
       "      <td>Data Scientist</td>\n",
       "      <td>Persistent Systems Limited.</td>\n",
       "      <td>8-13 Yrs</td>\n",
       "      <td>Hyderabad/Secunderabad, Pune, Bangalore/Bengaluru</td>\n",
       "    </tr>\n",
       "    <tr>\n",
       "      <th>3</th>\n",
       "      <td>Data Scientist</td>\n",
       "      <td>Wipro Limited</td>\n",
       "      <td>4-9 Yrs</td>\n",
       "      <td>Kolkata, Hyderabad/Secunderabad, Chennai, Bang...</td>\n",
       "    </tr>\n",
       "    <tr>\n",
       "      <th>4</th>\n",
       "      <td>Looking For Data Scientist For Infogain</td>\n",
       "      <td>Infogain India (P) Ltd.</td>\n",
       "      <td>10-20 Yrs</td>\n",
       "      <td>Noida(Sector-60 Noida), Bangalore/Bengaluru(El...</td>\n",
       "    </tr>\n",
       "    <tr>\n",
       "      <th>5</th>\n",
       "      <td>Data Scientist - Python/MATLAB/Machine Learnin...</td>\n",
       "      <td>Wrackle Technologies Pvt Ltd</td>\n",
       "      <td>3-8 Yrs</td>\n",
       "      <td>Bangalore/Bengaluru</td>\n",
       "    </tr>\n",
       "    <tr>\n",
       "      <th>6</th>\n",
       "      <td>Data Scientist - Machine Learning</td>\n",
       "      <td>AugmatrixGo</td>\n",
       "      <td>2-5 Yrs</td>\n",
       "      <td>Bangalore/Bengaluru</td>\n",
       "    </tr>\n",
       "    <tr>\n",
       "      <th>7</th>\n",
       "      <td>Senior / Lead Data Scientist</td>\n",
       "      <td>TVS CREDIT SERVICES LIMITED</td>\n",
       "      <td>3-8 Yrs</td>\n",
       "      <td>Pune, Chennai, Bangalore/Bengaluru</td>\n",
       "    </tr>\n",
       "    <tr>\n",
       "      <th>8</th>\n",
       "      <td>Data Scientist</td>\n",
       "      <td>Oracle India Pvt. Ltd.</td>\n",
       "      <td>6-10 Yrs</td>\n",
       "      <td>Bangalore/Bengaluru</td>\n",
       "    </tr>\n",
       "    <tr>\n",
       "      <th>9</th>\n",
       "      <td>Hiring For DATA Scientist - ON Contract Basis ...</td>\n",
       "      <td>GlobalEdx Learning and Technology Solution Pvt...</td>\n",
       "      <td>3-8 Yrs</td>\n",
       "      <td>Hyderabad/Secunderabad, Bangalore/Bengaluru, M...</td>\n",
       "    </tr>\n",
       "  </tbody>\n",
       "</table>\n",
       "</div>"
      ],
      "text/plain": [
       "                                                Jobs  \\\n",
       "0                              Senior Data Scientist   \n",
       "1                              Senior Data Scientist   \n",
       "2                                     Data Scientist   \n",
       "3                                     Data Scientist   \n",
       "4            Looking For Data Scientist For Infogain   \n",
       "5  Data Scientist - Python/MATLAB/Machine Learnin...   \n",
       "6                  Data Scientist - Machine Learning   \n",
       "7                       Senior / Lead Data Scientist   \n",
       "8                                     Data Scientist   \n",
       "9  Hiring For DATA Scientist - ON Contract Basis ...   \n",
       "\n",
       "                                             Company Experience  \\\n",
       "0                                  Fractal Analytics    4-8 Yrs   \n",
       "1                                  Fractal Analytics   5-10 Yrs   \n",
       "2                        Persistent Systems Limited.   8-13 Yrs   \n",
       "3                                      Wipro Limited    4-9 Yrs   \n",
       "4                            Infogain India (P) Ltd.  10-20 Yrs   \n",
       "5                       Wrackle Technologies Pvt Ltd    3-8 Yrs   \n",
       "6                                        AugmatrixGo    2-5 Yrs   \n",
       "7                        TVS CREDIT SERVICES LIMITED    3-8 Yrs   \n",
       "8                             Oracle India Pvt. Ltd.   6-10 Yrs   \n",
       "9  GlobalEdx Learning and Technology Solution Pvt...    3-8 Yrs   \n",
       "\n",
       "                                            Location  \n",
       "0      Mumbai, Gurgaon/Gurugram, Bangalore/Bengaluru  \n",
       "1  Gurgaon/Gurugram, Bangalore/Bengaluru, Mumbai ...  \n",
       "2  Hyderabad/Secunderabad, Pune, Bangalore/Bengaluru  \n",
       "3  Kolkata, Hyderabad/Secunderabad, Chennai, Bang...  \n",
       "4  Noida(Sector-60 Noida), Bangalore/Bengaluru(El...  \n",
       "5                                Bangalore/Bengaluru  \n",
       "6                                Bangalore/Bengaluru  \n",
       "7                 Pune, Chennai, Bangalore/Bengaluru  \n",
       "8                                Bangalore/Bengaluru  \n",
       "9  Hyderabad/Secunderabad, Bangalore/Bengaluru, M...  "
      ]
     },
     "execution_count": 17,
     "metadata": {},
     "output_type": "execute_result"
    }
   ],
   "source": [
    "Data_Scientist = pd.DataFrame({})\n",
    "\n",
    "Data_Scientist['Jobs'] = titles\n",
    "Data_Scientist['Company'] = company_name\n",
    "Data_Scientist['Experience'] = experience\n",
    "Data_Scientist['Location'] = locations\n",
    "\n",
    "Data_Scientist"
   ]
  },
  {
   "cell_type": "markdown",
   "metadata": {},
   "source": [
    "# Question - 2"
   ]
  },
  {
   "cell_type": "code",
   "execution_count": 18,
   "metadata": {},
   "outputs": [
    {
     "data": {
      "text/plain": [
       "['Senior Data Scientist',\n",
       " 'Senior Data Scientist',\n",
       " 'Data Scientist',\n",
       " 'Data Scientist',\n",
       " 'Looking For Data Scientist For Infogain',\n",
       " 'Data Scientist - Python/MATLAB/Machine Learning Algorithms',\n",
       " 'Data Scientist - Machine Learning',\n",
       " 'Senior / Lead Data Scientist',\n",
       " 'Data Scientist',\n",
       " 'Hiring For DATA Scientist - ON Contract Basis (3-6 Months)']"
      ]
     },
     "execution_count": 18,
     "metadata": {},
     "output_type": "execute_result"
    }
   ],
   "source": [
    "titles"
   ]
  },
  {
   "cell_type": "code",
   "execution_count": 19,
   "metadata": {},
   "outputs": [
    {
     "data": {
      "text/plain": [
       "['Mumbai, Gurgaon/Gurugram, Bangalore/Bengaluru',\n",
       " 'Gurgaon/Gurugram, Bangalore/Bengaluru, Mumbai (All Areas)',\n",
       " 'Hyderabad/Secunderabad, Pune, Bangalore/Bengaluru',\n",
       " 'Kolkata, Hyderabad/Secunderabad, Chennai, Bangalore/Bengaluru',\n",
       " 'Noida(Sector-60 Noida), Bangalore/Bengaluru(Electronics City Phase 1), Mumbai (All Areas)(SEEPZ)',\n",
       " 'Bangalore/Bengaluru',\n",
       " 'Bangalore/Bengaluru',\n",
       " 'Pune, Chennai, Bangalore/Bengaluru',\n",
       " 'Bangalore/Bengaluru',\n",
       " 'Hyderabad/Secunderabad, Bangalore/Bengaluru, Mumbai (All Areas)']"
      ]
     },
     "execution_count": 19,
     "metadata": {},
     "output_type": "execute_result"
    }
   ],
   "source": [
    "locations"
   ]
  },
  {
   "cell_type": "code",
   "execution_count": 20,
   "metadata": {},
   "outputs": [
    {
     "data": {
      "text/plain": [
       "['Fractal Analytics',\n",
       " 'Fractal Analytics',\n",
       " 'Persistent Systems Limited.',\n",
       " 'Wipro Limited',\n",
       " 'Infogain India (P) Ltd.',\n",
       " 'Wrackle Technologies Pvt Ltd',\n",
       " 'AugmatrixGo',\n",
       " 'TVS CREDIT SERVICES LIMITED',\n",
       " 'Oracle India Pvt. Ltd.',\n",
       " 'GlobalEdx Learning and Technology Solution Pvt Ltd']"
      ]
     },
     "execution_count": 20,
     "metadata": {},
     "output_type": "execute_result"
    }
   ],
   "source": [
    "company_name"
   ]
  },
  {
   "cell_type": "code",
   "execution_count": 21,
   "metadata": {},
   "outputs": [
    {
     "data": {
      "text/plain": [
       "['https://www.naukri.com/job-listings-senior-data-scientist-fractal-analytics-ltd-mumbai-gurgaon-gurugram-bangalore-bengaluru-4-to-8-years-240521501478?src=jobsearchDesk&sid=16222915063277435&xp=1&px=1',\n",
       " 'https://www.naukri.com/job-listings-senior-data-scientist-fractal-analytics-pvt-ltd-gurgaon-gurugram-bangalore-bengaluru-mumbai-all-areas-5-to-10-years-240521007717?src=jobsearchDesk&sid=16222915063277435&xp=2&px=1',\n",
       " 'https://www.naukri.com/job-listings-data-scientist-persistent-systems-limited-hyderabad-secunderabad-pune-bangalore-bengaluru-8-to-13-years-260521006008?src=jobsearchDesk&sid=16222915063277435&xp=3&px=1',\n",
       " 'https://www.naukri.com/job-listings-data-scientist-wipro-limited-kolkata-hyderabad-secunderabad-chennai-bangalore-bengaluru-4-to-9-years-210521000038?src=jobsearchDesk&sid=16222915063277435&xp=4&px=1',\n",
       " 'https://www.naukri.com/job-listings-looking-for-data-scientist-for-infogain-infogain-india-p-ltd-noida-bangalore-bengaluru-mumbai-all-areas-10-to-20-years-280521000845?src=jobsearchDesk&sid=16222915063277435&xp=5&px=1',\n",
       " 'https://www.naukri.com/job-listings-data-scientist-python-matlab-machine-learning-algorithms-wrackle-technologies-pvt-ltd-bangalore-bengaluru-3-to-8-years-161220907168?src=jobsearchDesk&sid=16222915063277435&xp=6&px=1',\n",
       " 'https://www.naukri.com/job-listings-data-scientist-machine-learning-augmatrixgo-bangalore-bengaluru-2-to-5-years-140121905423?src=jobsearchDesk&sid=16222915063277435&xp=7&px=1',\n",
       " 'https://www.naukri.com/job-listings-senior-lead-data-scientist-tvs-credit-services-limited-pune-chennai-bangalore-bengaluru-3-to-8-years-261220002239?src=jobsearchDesk&sid=16222915063277435&xp=8&px=1',\n",
       " 'https://www.naukri.com/job-listings-data-scientist-oracle-india-pvt-ltd-bangalore-bengaluru-6-to-10-years-190521008276?src=jobsearchDesk&sid=16222915063277435&xp=9&px=1',\n",
       " 'https://www.naukri.com/job-listings-hiring-for-data-scientist-on-contract-basis-3-6-months-globaledx-learning-and-technology-solution-pvt-ltd-hyderabad-secunderabad-bangalore-bengaluru-mumbai-all-areas-3-to-8-years-170521003581?src=jobsearchDesk&sid=16222915063277435&xp=10&px=1']"
      ]
     },
     "execution_count": 21,
     "metadata": {},
     "output_type": "execute_result"
    }
   ],
   "source": [
    "job_url = []\n",
    "\n",
    "job1 = driver.find_elements_by_xpath(\"//div[@class='info fleft']/a\")\n",
    "\n",
    "for i in job1[:10]:\n",
    "    job_url.append(i.get_attribute('href'))\n",
    "\n",
    "job_url"
   ]
  },
  {
   "cell_type": "code",
   "execution_count": 22,
   "metadata": {},
   "outputs": [],
   "source": [
    "job_desc = []\n",
    "\n",
    "for i in job_url:\n",
    "    driver.get(i)\n",
    "    time.sleep(3)\n",
    "    try:\n",
    "        job_des = driver.find_element_by_xpath(\"//section[@class='job-desc']\")\n",
    "        job_desc.append(job_des.text.replace('\\n',' '))\n",
    "    except NoSuchElementException:\n",
    "        job_desc.append('-')"
   ]
  },
  {
   "cell_type": "code",
   "execution_count": 23,
   "metadata": {},
   "outputs": [
    {
     "data": {
      "text/plain": [
       "['Job description Job Responsibilities: Work with product managers and clients to better understand the business problem Think through a business problem and come up with a set of hypotheses Create a list of potentially relevant supporting data elements Work with data engineers and/or data analysts to procure data and test it for problems Collaborate with other Data Scientists Propose modeling approaches Mine the data to check completeness, value distributions, etc. Data imputation and feature engineering Test data for signal Run feature selection Tune the model Set up tests for the model health Collaborate with product managers to find the best way to present the results Work with developers on productionizing models Must Have A minimum of 6 years of post-academic experience developing advanced analytics and applying data science in a business environment Experience in data mining techniques and methodologies (data prep/modeling, classification, regression, clustering, causal modeling, AI, machine learning, ensemble approaches) Experience developing in Python within a production environment Advanced experience in data visualization tools with a strong grasp of effective data modeling and visualization practices The ability to rapidly develop proof of concepts and test new ideas, as well as the ability to scale these ideas into production ready models that can be deployed within our organization Examples of how your passion for data driven decision making and intellectual curiosity translated in to value for your organization Nice to Have An advanced Degree (Masters or PhD) in engineering, mathematics, physics, economics, computer science, statistics, or business analytics or Experience leveraging cloud platforms such as Amazon Web Services (AWS) and Google Cloud Platform (GCP) Strong research skills and the ability to put emerging ideas into practice RoleTechnical Architect Industry TypeManagement Consulting Functional AreaIT Software - Application Programming, Maintenance Employment TypeFull Time, Permanent Role CategoryProgramming & Design Education UG :Any Graduate in Any Specialization PG :Post Graduation Not Required Key Skills Computer scienceGCPData modelingArtificial IntelligenceBusiness analyticsMachine learningData miningAWSPythonTesting',\n",
       " 'Job description Position Description:  The Artificial Intelligence and Machine Learning (AIML) group at Fractal Analytics is actively involved in helping Fortune 500 companies by enabling them to discover how they can leverage their data using advanced and sophisticated AI/ML algorithms for which we are looking for Data Scientists with the capability to work on independent statistical and machine learning research/ projects. If you are a problem solver with a curiosity for exploring new techniques and technologies in AIML space, then we would like to talk with you.  Job Responsibilities:  Ability to understand a problem statement and implement analytical solutions & techniques independently with independently/proactively/thought-leadership Work with stakeholders throughout the organization to identify opportunities for leveraging company/client data to drive business solutions Fast learner: ability to learn and pick up a new language/tool/ platform quickly Conceptualize, design, and deliver high-quality solutions and insightful analysis Conduct research and prototyping innovations; data and requirements gathering; solution scoping and architecture; consulting clients and client facing teams on advanced statistical and machine learning problems Collaborate and coordinate with different functional teams (engineering and product development) to implement models and monitor outcomes Ability to deliver AIML based solutions around a host of domains and problems, with some of them being: Customer Segmentation & Targeting, Propensity Modeling, Churn Modeling, Lifetime Value Estimation, Forecasting, Recommender Systems, Modeling Response to Incentives, Marketing Mix Optimization, Price Optimization  Experience Required:  Minimum 3+ years of experience in Machine Learning domain Expert level proficiency in at least one of R and Python Ability to create efficient solutions to complex problems. Strong skills in data-structures and ML algorithms Experience of working on end-to-end data science pipeline: problem scoping, data gathering, EDA, modelling, insights, visualizations, monitoring and maintenance Problem-solving: Ability to break the problem into small parts and applying relevant techniques to drive required outcomes Intermediate to advanced knowledge of machine learning, probability theory, statistics, and algorithms. You will be required to discuss and use various algorithms and approaches on a daily basis We use regression, Bayesian methods, tree-based learners, SVM, RF, XGBOOST, time series modeling, dimensionality reduction, SEM, GLM, GLMM, clustering, Deep learning etc. on a regulabasis. If you know few of them you are good to go  Good to Have: Experience in one of the upcoming technologies like deep learning, NLP, image processing, recommender systems Experience of working in on one or more domains: CPG: pricing and promotion analytics, marketing analytics, trade promotions, supply chain management BFSI: cross-sell, up-sell, campaign analytics, treasury analytics, fraud detection Healthcare: medical adherence, medical risk profiling, EHR data, fraud-waste-abuse Experience in working with Linux computing environment and use of command line tools like sed/awk Good grasp on databases including RDBMS, NoSQL, MongoDB etc.  Education Qualification:  B.Tech / M.Tech in Computer Science / Mathematics / Signal Processing or related fields from one of the premier Institutes (IITs/NITs/BITS) Do write back if you would be interested in the same.  RoleTeam Lead/Technical Lead Industry TypeMiscellaneous Functional AreaIT Software - Application Programming, Maintenance Employment TypeFull Time, Permanent Role CategoryProgramming & Design Education UG :B.Tech/B.E. in Any Specialization Key Skills SASMachine LearningPython RNoSQLArtificial IntelligenceData StructuresGoSupply Chain ManagementData AnalyticsAWSDeep Learning Skills highlighted with ‘‘ are preferred keyskills',\n",
       " '-',\n",
       " 'Job description Role: Data Scientist  Roles and Responsibilities Suitable candidates will be part of Wipro Digital-Intelligent Enterprise practice. The role entails leveraging Data Science and Machine Learning to solve typical problems within an organization and create IP that could be deployed in a productized mode. This will entail significant hands-on work on multiple Big Data Technologies, Data Analysis, Identifying data patterns, ML models, Insights generation. The role entails deployment in a customer context and managing customer expectations.  Technical Skills Required: Hands on with Python or R Analytics using industry leading BI tools and technologies Implementation knowledge of supervised\\\\un-supervised machine learning algorithms Good statistical analysis skills for data pre-processing and data wrangling Experienced in using big data frameworks like Hadoop Knowledge of business intelligence tools or reporting tools  Data Preparation for Modeling Missing Data Imputation,Outlier Treatment Scaling, Normalization, Standardization Encoding for Categorical Variables Oversampling\\\\Undersampling for reducing class imbalance  Experience in building solutions using Model Library Feature Selection Tree-based Ensemble Models Gradient\\\\Adaptive Boosted Trees Hyper-parameter tuning Building Prediction mechanisms using methods like Logistic regression, voting classifier stacking etc    RoleSoftware Developer Industry TypeIT Services & Consulting Functional AreaIT Software - Application Programming, Maintenance Employment TypeFull Time, Permanent Role CategoryProgramming & Design Education UG :B.Tech/B.E. in Any Specialization Key Skills Data ScienceMachine LearningPython Logistic RegressionData WranglingHadoopData AnalysisBig DataStatistical Analysis Skills highlighted with ‘‘ are preferred keyskills',\n",
       " \"Job description Dear Candidates We are looking for an Experienced Data Scientist Architect for our organization Infogain, Please find below the Company Description and JD for the same below.  Our office location is at: 1, Seepz Rd A, Seepz, Andheri East, Mumbai, Maharashtra 400096 B, Aundh IT Park, Bhau Patil Marg, Pragati Nagar, Bopodi, Pune, Maharashtra 411020(Acquired Company)  No.90B, ELCITA PID No. 295 of Konappa Agrahara, Electronic City, 1st Phase, Bengaluru 560 100, Karnataka State Noida- Sector 60 Gautam Budh Nagar UP.  Please Note: We have our office located only in the above locations mentioned. No Cabs are provided.  Company description: Infogain is a global business oriented IT consulting provider of front-end, customer-facing technologies, processes and applications, leading to a more efficient and streamlined customer experience for enterprises in the US, Europe, the Middle East, Asia Pacific and India. Offering solutions for the high-tech, retail, insurance and travel & hospitality verticals, Infogain specializes in digital transformation, ERP, CRM, software product engineering, knowledge management, cloud services, and mobility. Infogain has strong partnerships with industry leaders including Microsoft, Oracle and Salesforce. Headquartered in Californias Silicon Valley, Infogain has close to 5,000 employees providing consulting, technology and digital transformation services to clients around the globe. Visit us online at www.infogain.com  Roles and Responsibilities  Role: Data Scientist Experience: 10+ years Location NCR/Bangalore/ Mumbai/Pune  As an data scientist, the candidate should be able to lead and deliver the end-to-end data science projects and should be able to frontend with the clients. Strong exposure to AI/ML space with hosted model (Azure, AWS, or Google).  Primary Responsibilities: Deep learning experience with Tensor flow and Kera's or Pytorch is must Experience with the following is preferred Different data processing libraries such as Numpy, SciPy, Pandas, Matplotlib, Scikit-learn Experience with one or more general purpose programming languages including but not limited to: Python (Must), R, Java, or C/C++. Different neural Networks ANN, CNN, RNN, LSTM, Transformer Based models, GAN, Reinforcement Learning Familiarity with different model architectures AlexNet, ResNet, MobileNet etc., in Computer Vision & BiLSTM, Bert family models. Experience with distribution strategies for data and model parallelism Development of mobile applications with tensor flow (TF Lite) Experience in the development of End-to-end production-based models. Cloud deployment of any machine learning models. Understanding of advanced machine learning data pipelines components including Data Versioning, Code Versioning, Solution Versioning, Drift detection, Model Interpretability & explainability. Experience with Structured Data Machine Learning techniques Used AutoML techniques. Worked or knowledge on distributed computing example Spark. Experience with open source systems such as MLFlow, DVC, PyCaret, Prophet etc.  Additional Responsibilities: Experience in digital marketing or marketing is a plus Should be well versed with Cloud Platforms (AWS, Azure, GCP) and their Ecosystem Expected to partner with other 3rd party vendors, customer touch points (Application, Data and Infrastructure Architects) to deliver best in class solutions Should have Good architecture experience in applications development in a complex, multi-platform distributed environment. Education: BE or MS or PhD degree in Computer Science, Artificial Intelligence, Machine Learning, or a related technical field. Experience: 6 + years of overall Experience 4+ years in overall AI and ML experience with python  Perks and Benefits  Email your resume on: anoushka.goyal@infogain.com   RoleIT/Technical Content Developer Industry TypeIT Services & Consulting Functional AreaIT Software - Application Programming, Maintenance Employment TypeFull Time, Permanent Role CategoryOther Education UG :B.Tech/B.E. in Any Specialization PG :MS/M.Sc(Science) in Any Specialization Doctorate :Ph.D in Computers Key Skills PytorchArtificial IntelligencePython TensorflowCnnRnnLstmNeural NetworksReinforcement LearningComputer Vision Skills highlighted with ‘‘ are preferred keyskills\",\n",
       " 'Job description Roles and Responsibilities Data Scientist - Data Mining/Machine Learning/Statistical Analysis  Requirements :  - 3-9 years of strong experience in data mining, machine learning, and statistical analysis.  - BS/MS/Ph.D. in Computer Science, Statistics, Applied Math, or related areas from Premier institutes ( only IITs / IISc / BITS / Top NITs or top US university should apply)  - Ability to lead and deliver in a fast-paced start-up environment.  - Fluency in tools such as Matlab, Python, etc.  - Strong intuition for data and Keen aptitude on large scale data analysis  - Excellent written and verbal communication skills.  - Ability to collaborate across teams and strong interpersonal skills. RoleData Analyst Industry TypeIT Services & Consulting Functional AreaAnalytics & Business Intelligence Employment TypeFull Time, Permanent Role CategoryAnalytics & BI Education UG :B.Sc in Maths, Computers, Statistics PG :MS/M.Sc(Science) in Computers, Statistics, Maths Doctorate :Ph.D in Statistics, Computers, Maths, Doctorate Not Required Key Skills Data ScienceData ScientistData MiningStatistical AnalystMachine LearningMATLABPython',\n",
       " 'Job description Roles and Responsibilities   - Selecting features, building and optimizing classifiers using machine learning techniques  - Data mining using state-of-the-art methods  - Enhancing data collection procedures to include information that is relevant for building analytic systems  - Processing, cleansing, and verifying the integrity of data used for analysis  - Doing ad-hoc analysis and presenting results in a clear manner  - Creating automated anomaly detection systems and constant tracking of its performance  Skills Required :  - Excellent understanding of machine learning techniques and algorithms, such as k-NN, Naive Bayes, SVM, Decision Forests, etc.  - Experiences with one or more of the following is highly desirable: HPC/Parallelization, operationalizing ML models; cloud computing (e.g. Google Cloud, AWS, etc.); familiarity with ML frameworks such as Tensorflow, Theano, MXNet, etc  - Good experience in a few of the following areas: deep neural networks, reinforcement learning, Markov Random Fields, Bayesian networks, semi-supervised learning, computer vision, image processing, signal processing, distributed computing, and/or numerical optimization  - 2+ years of experience with computer vision and deep learning solutions, including image classification, object detection, segmentation, and equivalent computer vision-based vision tasks  - Experience with common data science toolkits, such as R, Weka, NumPy, etc . Excellence in at least one of these is highly desirable  - Proficiency in using query languages such as SQL, Hive, Pig  - Good applied statistics skills, such as distributions, statistical testing, regression, etc.  - Good scripting and programming skills  - Data-oriented personality  - B.Tech/M.Tech degree in from reputed institutes like IIT / NIT / BITS RoleData Analyst Industry TypeIT Services & Consulting Functional AreaAnalytics & Business Intelligence Employment TypeFull Time, Permanent Role CategoryAnalytics & BI Education UG :B.Tech/B.E. in Any Specialization PG :M.Tech in Any Specialization Doctorate :Doctorate Not Required Key Skills HiveRCloud ComputingData ScientistComputer VisionMachine LearningDeep LearningSQLPig',\n",
       " 'Job description  Key Responsibilities Be responsible for scaling our analytics capability across all internal disciplines and guide our strategic direction in regards to analytics Organize and analyze large, diverse data sets across multiple platforms Identify key insights and leverage them to inform and influence product strategy Technical Interactions with vendor or partners in technical capacity for scope/ approach & deliverable. Develops proof of concept to prove or disprove validity of concept Working with all parts of the business to identify analytical requirements and formalize an approach for reliable, relevant, accurate, efficient reporting on those requirements Designing and implementing advanced statistical testing for customized problem solving Deliver concise verbal and written explanations of analyses to senior management that elevate findings into strategic recommendations.  Desired Candidate Profile  Qualifications:MTech / BE / BTech / MSc in CS or Stats or Maths, Operation Research, Statistics, Econometrics or in any quantitative fieldExperience:3+ Years experience in analytical domain  Functional Competencies: Excellent analytics, logical, problem solving and numerical skills Experience in using Python Experience in working with large data sets and big data systems (SQL, Hadoop, Hive, etc.) Keen aptitude for large-scale data analysis with a passion for identifying key insights from data Expert working knowledge in various machine learning algorithms such XGBoost, SVM Etc., Expertise in Data Mining, Statistical Analysis, Regression, Logistics Regression, Segmentation, Time Series Forecasting, Market Basket Analysis, Decision Tree, CHAID, Test Mining, Hypothesis Testing, A/B Testing and Modeling Preferable to have Experience in Credit risk analytics, Fraud analytics Experience in Collections analytics, NPA Analytical experience in Vehicle lending business (Two wheeler, Tractor, Car, Commercial) and unsecured loans. Customer Acquisition  RoleAnalytics Manager Industry TypeBanking Functional AreaAnalytics & Business Intelligence Employment TypeFull Time, Permanent Role CategoryAnalytics & BI Education UG :B.Tech/B.E. in Any Specialization PG :PG Diploma in Any Specialization, M.Tech in Any Specialization, MCA in Any Specialization, MBA/PGDM in Any Specialization, MS/M.Sc(Science) in Any Specialization Key Skills Decision TreeHadoopRegressionData MiningRandom forestMachine LearningSQLAlgorithmsXgboostRisk Analyticspredictive modelingAdvanced AnalyticsData AnalysisTime SeriesAWSPython',\n",
       " '-',\n",
       " 'Job description Dear Aspirant,  Greetings from Globaledx  Roles and Responsibilities  Experience : 3+ Years CTC : Best in Market Location : Pan India Contract Period : 3-6 Months Skill : Python, NLP, Machine Learning Models, Data Scientist  Interested, please share your updated resume to hr@globaledx.com Or Call /Whatsapp at Sowjanya : 9505072408  Please share with your friends for more reach! RoleIT/Technical Content Developer Industry TypeIT Services & Consulting Functional AreaIT Software - Application Programming, Maintenance Employment TypeFull Time, Permanent Role CategoryOther Education UG :Any Graduate in Any Specialization Key Skills PostgresqlDATA SCIENTISTMachine LearningScikit-LearnsqlpandasNLPoptimal codingRundeckmachine learning modelslogging frameworkshtmlNUMPYPython']"
      ]
     },
     "execution_count": 23,
     "metadata": {},
     "output_type": "execute_result"
    }
   ],
   "source": [
    "job_desc"
   ]
  },
  {
   "cell_type": "code",
   "execution_count": 24,
   "metadata": {},
   "outputs": [
    {
     "name": "stdout",
     "output_type": "stream",
     "text": [
      "10 10 10 10\n"
     ]
    }
   ],
   "source": [
    "print(len(titles),len(company_name),len(locations),len(job_desc))"
   ]
  },
  {
   "cell_type": "code",
   "execution_count": 25,
   "metadata": {},
   "outputs": [
    {
     "data": {
      "text/html": [
       "<div>\n",
       "<style scoped>\n",
       "    .dataframe tbody tr th:only-of-type {\n",
       "        vertical-align: middle;\n",
       "    }\n",
       "\n",
       "    .dataframe tbody tr th {\n",
       "        vertical-align: top;\n",
       "    }\n",
       "\n",
       "    .dataframe thead th {\n",
       "        text-align: right;\n",
       "    }\n",
       "</style>\n",
       "<table border=\"1\" class=\"dataframe\">\n",
       "  <thead>\n",
       "    <tr style=\"text-align: right;\">\n",
       "      <th></th>\n",
       "      <th>Title</th>\n",
       "      <th>Company</th>\n",
       "      <th>Location</th>\n",
       "      <th>Job Description</th>\n",
       "    </tr>\n",
       "  </thead>\n",
       "  <tbody>\n",
       "    <tr>\n",
       "      <th>0</th>\n",
       "      <td>Senior Data Scientist</td>\n",
       "      <td>Fractal Analytics</td>\n",
       "      <td>Mumbai, Gurgaon/Gurugram, Bangalore/Bengaluru</td>\n",
       "      <td>Job description Job Responsibilities: Work wit...</td>\n",
       "    </tr>\n",
       "    <tr>\n",
       "      <th>1</th>\n",
       "      <td>Senior Data Scientist</td>\n",
       "      <td>Fractal Analytics</td>\n",
       "      <td>Gurgaon/Gurugram, Bangalore/Bengaluru, Mumbai ...</td>\n",
       "      <td>Job description Position Description:  The Art...</td>\n",
       "    </tr>\n",
       "    <tr>\n",
       "      <th>2</th>\n",
       "      <td>Data Scientist</td>\n",
       "      <td>Persistent Systems Limited.</td>\n",
       "      <td>Hyderabad/Secunderabad, Pune, Bangalore/Bengaluru</td>\n",
       "      <td>-</td>\n",
       "    </tr>\n",
       "    <tr>\n",
       "      <th>3</th>\n",
       "      <td>Data Scientist</td>\n",
       "      <td>Wipro Limited</td>\n",
       "      <td>Kolkata, Hyderabad/Secunderabad, Chennai, Bang...</td>\n",
       "      <td>Job description Role: Data Scientist  Roles an...</td>\n",
       "    </tr>\n",
       "    <tr>\n",
       "      <th>4</th>\n",
       "      <td>Looking For Data Scientist For Infogain</td>\n",
       "      <td>Infogain India (P) Ltd.</td>\n",
       "      <td>Noida(Sector-60 Noida), Bangalore/Bengaluru(El...</td>\n",
       "      <td>Job description Dear Candidates We are looking...</td>\n",
       "    </tr>\n",
       "    <tr>\n",
       "      <th>5</th>\n",
       "      <td>Data Scientist - Python/MATLAB/Machine Learnin...</td>\n",
       "      <td>Wrackle Technologies Pvt Ltd</td>\n",
       "      <td>Bangalore/Bengaluru</td>\n",
       "      <td>Job description Roles and Responsibilities Dat...</td>\n",
       "    </tr>\n",
       "    <tr>\n",
       "      <th>6</th>\n",
       "      <td>Data Scientist - Machine Learning</td>\n",
       "      <td>AugmatrixGo</td>\n",
       "      <td>Bangalore/Bengaluru</td>\n",
       "      <td>Job description Roles and Responsibilities   -...</td>\n",
       "    </tr>\n",
       "    <tr>\n",
       "      <th>7</th>\n",
       "      <td>Senior / Lead Data Scientist</td>\n",
       "      <td>TVS CREDIT SERVICES LIMITED</td>\n",
       "      <td>Pune, Chennai, Bangalore/Bengaluru</td>\n",
       "      <td>Job description  Key Responsibilities Be respo...</td>\n",
       "    </tr>\n",
       "    <tr>\n",
       "      <th>8</th>\n",
       "      <td>Data Scientist</td>\n",
       "      <td>Oracle India Pvt. Ltd.</td>\n",
       "      <td>Bangalore/Bengaluru</td>\n",
       "      <td>-</td>\n",
       "    </tr>\n",
       "    <tr>\n",
       "      <th>9</th>\n",
       "      <td>Hiring For DATA Scientist - ON Contract Basis ...</td>\n",
       "      <td>GlobalEdx Learning and Technology Solution Pvt...</td>\n",
       "      <td>Hyderabad/Secunderabad, Bangalore/Bengaluru, M...</td>\n",
       "      <td>Job description Dear Aspirant,  Greetings from...</td>\n",
       "    </tr>\n",
       "  </tbody>\n",
       "</table>\n",
       "</div>"
      ],
      "text/plain": [
       "                                               Title  \\\n",
       "0                              Senior Data Scientist   \n",
       "1                              Senior Data Scientist   \n",
       "2                                     Data Scientist   \n",
       "3                                     Data Scientist   \n",
       "4            Looking For Data Scientist For Infogain   \n",
       "5  Data Scientist - Python/MATLAB/Machine Learnin...   \n",
       "6                  Data Scientist - Machine Learning   \n",
       "7                       Senior / Lead Data Scientist   \n",
       "8                                     Data Scientist   \n",
       "9  Hiring For DATA Scientist - ON Contract Basis ...   \n",
       "\n",
       "                                             Company  \\\n",
       "0                                  Fractal Analytics   \n",
       "1                                  Fractal Analytics   \n",
       "2                        Persistent Systems Limited.   \n",
       "3                                      Wipro Limited   \n",
       "4                            Infogain India (P) Ltd.   \n",
       "5                       Wrackle Technologies Pvt Ltd   \n",
       "6                                        AugmatrixGo   \n",
       "7                        TVS CREDIT SERVICES LIMITED   \n",
       "8                             Oracle India Pvt. Ltd.   \n",
       "9  GlobalEdx Learning and Technology Solution Pvt...   \n",
       "\n",
       "                                            Location  \\\n",
       "0      Mumbai, Gurgaon/Gurugram, Bangalore/Bengaluru   \n",
       "1  Gurgaon/Gurugram, Bangalore/Bengaluru, Mumbai ...   \n",
       "2  Hyderabad/Secunderabad, Pune, Bangalore/Bengaluru   \n",
       "3  Kolkata, Hyderabad/Secunderabad, Chennai, Bang...   \n",
       "4  Noida(Sector-60 Noida), Bangalore/Bengaluru(El...   \n",
       "5                                Bangalore/Bengaluru   \n",
       "6                                Bangalore/Bengaluru   \n",
       "7                 Pune, Chennai, Bangalore/Bengaluru   \n",
       "8                                Bangalore/Bengaluru   \n",
       "9  Hyderabad/Secunderabad, Bangalore/Bengaluru, M...   \n",
       "\n",
       "                                     Job Description  \n",
       "0  Job description Job Responsibilities: Work wit...  \n",
       "1  Job description Position Description:  The Art...  \n",
       "2                                                  -  \n",
       "3  Job description Role: Data Scientist  Roles an...  \n",
       "4  Job description Dear Candidates We are looking...  \n",
       "5  Job description Roles and Responsibilities Dat...  \n",
       "6  Job description Roles and Responsibilities   -...  \n",
       "7  Job description  Key Responsibilities Be respo...  \n",
       "8                                                  -  \n",
       "9  Job description Dear Aspirant,  Greetings from...  "
      ]
     },
     "execution_count": 25,
     "metadata": {},
     "output_type": "execute_result"
    }
   ],
   "source": [
    "Jobs = pd.DataFrame({})\n",
    "\n",
    "Jobs['Title'] = titles\n",
    "Jobs['Company'] = company_name\n",
    "Jobs['Location'] = locations\n",
    "Jobs['Job Description'] = job_desc\n",
    "\n",
    "Jobs"
   ]
  },
  {
   "cell_type": "markdown",
   "metadata": {},
   "source": [
    "# Question -3"
   ]
  },
  {
   "cell_type": "code",
   "execution_count": 26,
   "metadata": {},
   "outputs": [],
   "source": [
    "driver = webdriver.Chrome('chromedriver.exe')"
   ]
  },
  {
   "cell_type": "code",
   "execution_count": 27,
   "metadata": {},
   "outputs": [],
   "source": [
    "driver.get('https://www.naukri.com/')"
   ]
  },
  {
   "cell_type": "code",
   "execution_count": 28,
   "metadata": {},
   "outputs": [],
   "source": [
    "search_tag = driver.find_element_by_id('qsb-keyword-sugg')\n",
    "search_tag.send_keys('Data Scientist')"
   ]
  },
  {
   "cell_type": "code",
   "execution_count": 29,
   "metadata": {},
   "outputs": [],
   "source": [
    "search_button = driver.find_element_by_xpath(\"//div[@class='search-btn']\")\n",
    "search_button.click()"
   ]
  },
  {
   "cell_type": "code",
   "execution_count": 30,
   "metadata": {},
   "outputs": [],
   "source": [
    "location_filter = driver.find_elements_by_xpath(\"//p[@class='grey-text lH20 fleft ml-8 txtLbl']/span\")\n",
    "\n",
    "for i in location_filter:\n",
    "    if i.text == 'Delhi / NCR':\n",
    "        i.click()\n",
    "        break"
   ]
  },
  {
   "cell_type": "code",
   "execution_count": 31,
   "metadata": {},
   "outputs": [],
   "source": [
    "Salary_filter = driver.find_elements_by_xpath(\"//p[@class='grey-text lH20 fleft ml-8 txtLbl']/span\")\n",
    "\n",
    "for i in Salary_filter:\n",
    "    if i.text == '3-6 Lakhs':\n",
    "        i.click()\n",
    "        break"
   ]
  },
  {
   "cell_type": "code",
   "execution_count": 32,
   "metadata": {},
   "outputs": [],
   "source": [
    "job_tag = driver.find_elements_by_xpath(\"//a[@class='title fw500 ellipsis']\")"
   ]
  },
  {
   "cell_type": "code",
   "execution_count": 33,
   "metadata": {},
   "outputs": [
    {
     "data": {
      "text/plain": [
       "['Data Scientist / Data Analyst -Business Analyst',\n",
       " 'Data Engineers /Data Scientist - CES IT LTD - CMMI LVL 5',\n",
       " 'Data Engineers /Data Scientist - CES IT LTD - CMMI LVL 5',\n",
       " 'Data Scientist',\n",
       " 'Business Analyst- Data Scientist',\n",
       " 'Data Scientist',\n",
       " 'Data Scientist - High growth VC backed Influencer Marketplace',\n",
       " 'Hiring For Data Scientist @ Prodapt Solutions',\n",
       " 'Data Scientist - Python/ SQL',\n",
       " 'Data Scientist - Python & Machine Learning']"
      ]
     },
     "execution_count": 33,
     "metadata": {},
     "output_type": "execute_result"
    }
   ],
   "source": [
    "jobs = []\n",
    "\n",
    "for i in job_tag[:10]:\n",
    "    jobs.append(i.text)\n",
    "    \n",
    "jobs"
   ]
  },
  {
   "cell_type": "code",
   "execution_count": 34,
   "metadata": {},
   "outputs": [],
   "source": [
    "company_tag = driver.find_elements_by_xpath(\"//a[@class='subTitle ellipsis fleft']\")"
   ]
  },
  {
   "cell_type": "code",
   "execution_count": 35,
   "metadata": {},
   "outputs": [
    {
     "data": {
      "text/plain": [
       "['Inflexion Analytix Private Limited',\n",
       " 'CES Ltd.',\n",
       " 'CES Ltd.',\n",
       " 'IBM India Pvt. Limited',\n",
       " 'Wipro',\n",
       " 'Evalueserve.com Pvt. Ltd',\n",
       " 'Ravgins International Pvt. Ltd.',\n",
       " 'BIZZ-BUDDY ENTERPRISES PRIVATE LIMITED',\n",
       " 'Schlesinger Group',\n",
       " 'FUTURES AND CAREERS']"
      ]
     },
     "execution_count": 35,
     "metadata": {},
     "output_type": "execute_result"
    }
   ],
   "source": [
    "company = []\n",
    "\n",
    "for i in company_tag[:10]:\n",
    "    company.append(i.text)\n",
    "    \n",
    "company"
   ]
  },
  {
   "cell_type": "code",
   "execution_count": 36,
   "metadata": {},
   "outputs": [],
   "source": [
    "location_tag = driver.find_elements_by_xpath(\"//li[@class='fleft grey-text br2 placeHolderLi location']/span\")"
   ]
  },
  {
   "cell_type": "code",
   "execution_count": 37,
   "metadata": {},
   "outputs": [
    {
     "data": {
      "text/plain": [
       "['Mumbai, Hyderabad/Secunderabad, Pune, Gurgaon/Gurugram, Chennai, Bangalore/Bengaluru',\n",
       " 'Kolkata, Hyderabad/Secunderabad, Pune, Ahmedabad, Chennai, Bangalore/Bengaluru, Delhi / NCR, Mumbai (All Areas)',\n",
       " 'Kolkata, Hyderabad/Secunderabad, Pune, Ahmedabad, Chennai, Bangalore/Bengaluru, Delhi / NCR, Mumbai (All Areas)',\n",
       " 'Noida, Hyderabad/Secunderabad, Bangalore/Bengaluru',\n",
       " 'Noida, Gurgaon/Gurugram',\n",
       " 'Gurgaon/Gurugram',\n",
       " 'Bangalore/Bengaluru, Delhi / NCR, Mumbai (All Areas)',\n",
       " 'Kolkata, Hyderabad/Secunderabad, Pune, Chennai, Bangalore/Bengaluru, Delhi / NCR',\n",
       " 'Noida, Gurgaon/Gurugram, Delhi / NCR',\n",
       " 'Hyderabad/Secunderabad, Pune, Chennai, Bangalore/Bengaluru, Delhi / NCR, Mumbai (All Areas)']"
      ]
     },
     "execution_count": 37,
     "metadata": {},
     "output_type": "execute_result"
    }
   ],
   "source": [
    "location = []\n",
    "\n",
    "for i in location_tag[:10]:\n",
    "    location.append(i.text)\n",
    "    \n",
    "location"
   ]
  },
  {
   "cell_type": "code",
   "execution_count": 38,
   "metadata": {},
   "outputs": [],
   "source": [
    "experience_tag = driver.find_elements_by_xpath(\"//li[@class='fleft grey-text br2 placeHolderLi experience']/span\")"
   ]
  },
  {
   "cell_type": "code",
   "execution_count": 39,
   "metadata": {},
   "outputs": [
    {
     "data": {
      "text/plain": [
       "['0-3 Yrs',\n",
       " '3-5 Yrs',\n",
       " '3-5 Yrs',\n",
       " '4-9 Yrs',\n",
       " '2-5 Yrs',\n",
       " '4-7 Yrs',\n",
       " '3-5 Yrs',\n",
       " '5-10 Yrs',\n",
       " '3-6 Yrs',\n",
       " '2-7 Yrs']"
      ]
     },
     "execution_count": 39,
     "metadata": {},
     "output_type": "execute_result"
    }
   ],
   "source": [
    "experience = []\n",
    "\n",
    "for i in experience_tag[:10]:\n",
    "    experience.append(i.text)\n",
    "    \n",
    "experience"
   ]
  },
  {
   "cell_type": "code",
   "execution_count": 40,
   "metadata": {},
   "outputs": [
    {
     "name": "stdout",
     "output_type": "stream",
     "text": [
      "10 10 10 10\n"
     ]
    }
   ],
   "source": [
    "print(len(jobs),len(company),len(location),len(experience))"
   ]
  },
  {
   "cell_type": "code",
   "execution_count": 41,
   "metadata": {},
   "outputs": [
    {
     "data": {
      "text/html": [
       "<div>\n",
       "<style scoped>\n",
       "    .dataframe tbody tr th:only-of-type {\n",
       "        vertical-align: middle;\n",
       "    }\n",
       "\n",
       "    .dataframe tbody tr th {\n",
       "        vertical-align: top;\n",
       "    }\n",
       "\n",
       "    .dataframe thead th {\n",
       "        text-align: right;\n",
       "    }\n",
       "</style>\n",
       "<table border=\"1\" class=\"dataframe\">\n",
       "  <thead>\n",
       "    <tr style=\"text-align: right;\">\n",
       "      <th></th>\n",
       "      <th>Title</th>\n",
       "      <th>Company</th>\n",
       "      <th>Location</th>\n",
       "      <th>Experience</th>\n",
       "    </tr>\n",
       "  </thead>\n",
       "  <tbody>\n",
       "    <tr>\n",
       "      <th>0</th>\n",
       "      <td>Data Scientist / Data Analyst -Business Analyst</td>\n",
       "      <td>Inflexion Analytix Private Limited</td>\n",
       "      <td>Mumbai, Hyderabad/Secunderabad, Pune, Gurgaon/...</td>\n",
       "      <td>0-3 Yrs</td>\n",
       "    </tr>\n",
       "    <tr>\n",
       "      <th>1</th>\n",
       "      <td>Data Engineers /Data Scientist - CES IT LTD - ...</td>\n",
       "      <td>CES Ltd.</td>\n",
       "      <td>Kolkata, Hyderabad/Secunderabad, Pune, Ahmedab...</td>\n",
       "      <td>3-5 Yrs</td>\n",
       "    </tr>\n",
       "    <tr>\n",
       "      <th>2</th>\n",
       "      <td>Data Engineers /Data Scientist - CES IT LTD - ...</td>\n",
       "      <td>CES Ltd.</td>\n",
       "      <td>Kolkata, Hyderabad/Secunderabad, Pune, Ahmedab...</td>\n",
       "      <td>3-5 Yrs</td>\n",
       "    </tr>\n",
       "    <tr>\n",
       "      <th>3</th>\n",
       "      <td>Data Scientist</td>\n",
       "      <td>IBM India Pvt. Limited</td>\n",
       "      <td>Noida, Hyderabad/Secunderabad, Bangalore/Benga...</td>\n",
       "      <td>4-9 Yrs</td>\n",
       "    </tr>\n",
       "    <tr>\n",
       "      <th>4</th>\n",
       "      <td>Business Analyst- Data Scientist</td>\n",
       "      <td>Wipro</td>\n",
       "      <td>Noida, Gurgaon/Gurugram</td>\n",
       "      <td>2-5 Yrs</td>\n",
       "    </tr>\n",
       "    <tr>\n",
       "      <th>5</th>\n",
       "      <td>Data Scientist</td>\n",
       "      <td>Evalueserve.com Pvt. Ltd</td>\n",
       "      <td>Gurgaon/Gurugram</td>\n",
       "      <td>4-7 Yrs</td>\n",
       "    </tr>\n",
       "    <tr>\n",
       "      <th>6</th>\n",
       "      <td>Data Scientist - High growth VC backed Influen...</td>\n",
       "      <td>Ravgins International Pvt. Ltd.</td>\n",
       "      <td>Bangalore/Bengaluru, Delhi / NCR, Mumbai (All ...</td>\n",
       "      <td>3-5 Yrs</td>\n",
       "    </tr>\n",
       "    <tr>\n",
       "      <th>7</th>\n",
       "      <td>Hiring For Data Scientist @ Prodapt Solutions</td>\n",
       "      <td>BIZZ-BUDDY ENTERPRISES PRIVATE LIMITED</td>\n",
       "      <td>Kolkata, Hyderabad/Secunderabad, Pune, Chennai...</td>\n",
       "      <td>5-10 Yrs</td>\n",
       "    </tr>\n",
       "    <tr>\n",
       "      <th>8</th>\n",
       "      <td>Data Scientist - Python/ SQL</td>\n",
       "      <td>Schlesinger Group</td>\n",
       "      <td>Noida, Gurgaon/Gurugram, Delhi / NCR</td>\n",
       "      <td>3-6 Yrs</td>\n",
       "    </tr>\n",
       "    <tr>\n",
       "      <th>9</th>\n",
       "      <td>Data Scientist - Python &amp; Machine Learning</td>\n",
       "      <td>FUTURES AND CAREERS</td>\n",
       "      <td>Hyderabad/Secunderabad, Pune, Chennai, Bangalo...</td>\n",
       "      <td>2-7 Yrs</td>\n",
       "    </tr>\n",
       "  </tbody>\n",
       "</table>\n",
       "</div>"
      ],
      "text/plain": [
       "                                               Title  \\\n",
       "0    Data Scientist / Data Analyst -Business Analyst   \n",
       "1  Data Engineers /Data Scientist - CES IT LTD - ...   \n",
       "2  Data Engineers /Data Scientist - CES IT LTD - ...   \n",
       "3                                     Data Scientist   \n",
       "4                   Business Analyst- Data Scientist   \n",
       "5                                     Data Scientist   \n",
       "6  Data Scientist - High growth VC backed Influen...   \n",
       "7      Hiring For Data Scientist @ Prodapt Solutions   \n",
       "8                       Data Scientist - Python/ SQL   \n",
       "9         Data Scientist - Python & Machine Learning   \n",
       "\n",
       "                                  Company  \\\n",
       "0      Inflexion Analytix Private Limited   \n",
       "1                                CES Ltd.   \n",
       "2                                CES Ltd.   \n",
       "3                  IBM India Pvt. Limited   \n",
       "4                                   Wipro   \n",
       "5                Evalueserve.com Pvt. Ltd   \n",
       "6         Ravgins International Pvt. Ltd.   \n",
       "7  BIZZ-BUDDY ENTERPRISES PRIVATE LIMITED   \n",
       "8                       Schlesinger Group   \n",
       "9                     FUTURES AND CAREERS   \n",
       "\n",
       "                                            Location Experience  \n",
       "0  Mumbai, Hyderabad/Secunderabad, Pune, Gurgaon/...    0-3 Yrs  \n",
       "1  Kolkata, Hyderabad/Secunderabad, Pune, Ahmedab...    3-5 Yrs  \n",
       "2  Kolkata, Hyderabad/Secunderabad, Pune, Ahmedab...    3-5 Yrs  \n",
       "3  Noida, Hyderabad/Secunderabad, Bangalore/Benga...    4-9 Yrs  \n",
       "4                            Noida, Gurgaon/Gurugram    2-5 Yrs  \n",
       "5                                   Gurgaon/Gurugram    4-7 Yrs  \n",
       "6  Bangalore/Bengaluru, Delhi / NCR, Mumbai (All ...    3-5 Yrs  \n",
       "7  Kolkata, Hyderabad/Secunderabad, Pune, Chennai...   5-10 Yrs  \n",
       "8               Noida, Gurgaon/Gurugram, Delhi / NCR    3-6 Yrs  \n",
       "9  Hyderabad/Secunderabad, Pune, Chennai, Bangalo...    2-7 Yrs  "
      ]
     },
     "execution_count": 41,
     "metadata": {},
     "output_type": "execute_result"
    }
   ],
   "source": [
    "job1 = pd.DataFrame({})\n",
    "\n",
    "job1['Title'] = jobs\n",
    "job1['Company'] = company\n",
    "job1['Location'] = location\n",
    "job1['Experience'] = experience\n",
    "\n",
    "job1"
   ]
  },
  {
   "cell_type": "markdown",
   "metadata": {},
   "source": [
    "# Question - 6"
   ]
  },
  {
   "cell_type": "code",
   "execution_count": 42,
   "metadata": {},
   "outputs": [],
   "source": [
    "#Connecting with the Chrome Driver\n",
    "\n",
    "driver = webdriver.Chrome(\"chromedriver.exe\")"
   ]
  },
  {
   "cell_type": "code",
   "execution_count": 43,
   "metadata": {},
   "outputs": [],
   "source": [
    "#Opening Flipkart URL\n",
    "\n",
    "driver.get('https://www.flipkart.com/')"
   ]
  },
  {
   "cell_type": "code",
   "execution_count": 44,
   "metadata": {},
   "outputs": [],
   "source": [
    "#Closing Pop-ups if any \n",
    "\n",
    "driver.find_element_by_xpath(\"//button[@class='_2KpZ6l _2doB4z']\").click()"
   ]
  },
  {
   "cell_type": "code",
   "execution_count": 45,
   "metadata": {},
   "outputs": [],
   "source": [
    "#Entering Sun Glasses in the Search Bar\n",
    "\n",
    "search_tag = driver.find_element_by_xpath(\"//input[@class='_3704LK']\")\n",
    "search_tag.send_keys('sunglasses')"
   ]
  },
  {
   "cell_type": "code",
   "execution_count": 46,
   "metadata": {},
   "outputs": [],
   "source": [
    "#Click Search Bar Option\n",
    "\n",
    "driver.find_element_by_xpath(\"//button[@class='L0Z3Pu']\").click()"
   ]
  },
  {
   "cell_type": "code",
   "execution_count": 47,
   "metadata": {},
   "outputs": [],
   "source": [
    "#Creating Empty List to Scrape data into it\n",
    "\n",
    "Brand = []\n",
    "Product_Description = []\n",
    "Price = []\n",
    "Discount = []"
   ]
  },
  {
   "cell_type": "code",
   "execution_count": 48,
   "metadata": {},
   "outputs": [],
   "source": [
    "#Applying for Loop for Brand tag, Product_Description tag, Price tag, Discount tag\n",
    "\n",
    "for i in driver.find_elements_by_xpath(\"//div[@class='_2WkVRV']\"):\n",
    "        Brand.append(i.text)\n",
    "for j in driver.find_elements_by_xpath(\"//a[@class='IRpwTa']\"):\n",
    "        Product_Description.append(j.text.replace('\\n',' '))\n",
    "for k in driver.find_elements_by_xpath(\"//div[@class='_30jeq3']\"):\n",
    "        Price.append(k.text)\n",
    "for m in driver.find_elements_by_xpath(\"//div[@class='_3Ay6Sb']\"):\n",
    "        Discount.append(m.text)"
   ]
  },
  {
   "cell_type": "code",
   "execution_count": 49,
   "metadata": {},
   "outputs": [
    {
     "name": "stdout",
     "output_type": "stream",
     "text": [
      "40 39 40 40\n"
     ]
    }
   ],
   "source": [
    "print(len(Brand),len(Product_Description),len(Price),len(Discount))"
   ]
  },
  {
   "cell_type": "code",
   "execution_count": 50,
   "metadata": {},
   "outputs": [],
   "source": [
    "#Click to go next Page\n",
    "\n",
    "driver.find_element_by_xpath(\"//a[@class='_1LKTO3']\").click()"
   ]
  },
  {
   "cell_type": "code",
   "execution_count": 51,
   "metadata": {},
   "outputs": [],
   "source": [
    "#Applying Same for loop for 2nd Page\n",
    "\n",
    "for i in driver.find_elements_by_xpath(\"//div[@class='_2WkVRV']\"):\n",
    "        Brand.append(i.text)\n",
    "for j in driver.find_elements_by_xpath(\"//a[@class='IRpwTa']\"):\n",
    "        Product_Description.append(j.text.replace('\\n',' '))\n",
    "for k in driver.find_elements_by_xpath(\"//div[@class='_30jeq3']\"):\n",
    "        Price.append(k.text)\n",
    "for m in driver.find_elements_by_xpath(\"//div[@class='_3Ay6Sb']\"):\n",
    "        Discount.append(m.text)"
   ]
  },
  {
   "cell_type": "code",
   "execution_count": 52,
   "metadata": {},
   "outputs": [
    {
     "name": "stdout",
     "output_type": "stream",
     "text": [
      "80 79 80 80\n"
     ]
    }
   ],
   "source": [
    "print(len(Brand),len(Product_Description),len(Price),len(Discount))"
   ]
  },
  {
   "cell_type": "code",
   "execution_count": 53,
   "metadata": {},
   "outputs": [],
   "source": [
    "#Go to 3rd Page\n",
    "\n",
    "driver.find_element_by_xpath(\"//nav[@class='yFHi8N']/a[4]\").click()"
   ]
  },
  {
   "cell_type": "code",
   "execution_count": 54,
   "metadata": {},
   "outputs": [],
   "source": [
    "#applying for loop for 3rd Page Data\n",
    "\n",
    "for i in driver.find_elements_by_xpath(\"//div[@class='_2WkVRV']\"):\n",
    "        Brand.append(i.text)\n",
    "for j in driver.find_elements_by_xpath(\"//a[@class='IRpwTa']\"):\n",
    "        Product_Description.append(j.text.replace('\\n',' '))\n",
    "for k in driver.find_elements_by_xpath(\"//div[@class='_30jeq3']\"):\n",
    "        Price.append(k.text)\n",
    "for m in driver.find_elements_by_xpath(\"//div[@class='_3Ay6Sb']\"):\n",
    "        Discount.append(m.text)"
   ]
  },
  {
   "cell_type": "code",
   "execution_count": 55,
   "metadata": {},
   "outputs": [
    {
     "name": "stdout",
     "output_type": "stream",
     "text": [
      "120 119 120 120\n"
     ]
    }
   ],
   "source": [
    "print(len(Brand),len(Product_Description),len(Price),len(Discount))"
   ]
  },
  {
   "cell_type": "code",
   "execution_count": 56,
   "metadata": {},
   "outputs": [
    {
     "data": {
      "text/html": [
       "<div>\n",
       "<style scoped>\n",
       "    .dataframe tbody tr th:only-of-type {\n",
       "        vertical-align: middle;\n",
       "    }\n",
       "\n",
       "    .dataframe tbody tr th {\n",
       "        vertical-align: top;\n",
       "    }\n",
       "\n",
       "    .dataframe thead th {\n",
       "        text-align: right;\n",
       "    }\n",
       "</style>\n",
       "<table border=\"1\" class=\"dataframe\">\n",
       "  <thead>\n",
       "    <tr style=\"text-align: right;\">\n",
       "      <th></th>\n",
       "      <th>Brand</th>\n",
       "      <th>Product Description</th>\n",
       "      <th>Price</th>\n",
       "      <th>Discount</th>\n",
       "    </tr>\n",
       "  </thead>\n",
       "  <tbody>\n",
       "    <tr>\n",
       "      <th>0</th>\n",
       "      <td>ROYAL SON</td>\n",
       "      <td>UV Protection Retro Square Sunglasses (88)</td>\n",
       "      <td>₹599</td>\n",
       "      <td>70% off</td>\n",
       "    </tr>\n",
       "    <tr>\n",
       "      <th>1</th>\n",
       "      <td>AISLIN</td>\n",
       "      <td>UV Protection, Gradient Butterfly, Wayfarer Su...</td>\n",
       "      <td>₹516</td>\n",
       "      <td>66% off</td>\n",
       "    </tr>\n",
       "    <tr>\n",
       "      <th>2</th>\n",
       "      <td>Fastrack</td>\n",
       "      <td>UV Protection Rectangular Sunglasses (Free Size)</td>\n",
       "      <td>₹570</td>\n",
       "      <td>28% off</td>\n",
       "    </tr>\n",
       "    <tr>\n",
       "      <th>3</th>\n",
       "      <td>ROZZETTA CRAFT</td>\n",
       "      <td>UV Protection Retro Square Sunglasses (Free Size)</td>\n",
       "      <td>₹499</td>\n",
       "      <td>77% off</td>\n",
       "    </tr>\n",
       "    <tr>\n",
       "      <th>4</th>\n",
       "      <td>ROZZETTA CRAFT</td>\n",
       "      <td>UV Protection Retro Square Sunglasses (Free Size)</td>\n",
       "      <td>₹499</td>\n",
       "      <td>77% off</td>\n",
       "    </tr>\n",
       "    <tr>\n",
       "      <th>...</th>\n",
       "      <td>...</td>\n",
       "      <td>...</td>\n",
       "      <td>...</td>\n",
       "      <td>...</td>\n",
       "    </tr>\n",
       "    <tr>\n",
       "      <th>95</th>\n",
       "      <td>PHENOMENAL</td>\n",
       "      <td>UV Protection Shield Sunglasses (Free Size)</td>\n",
       "      <td>₹259</td>\n",
       "      <td>87% off</td>\n",
       "    </tr>\n",
       "    <tr>\n",
       "      <th>96</th>\n",
       "      <td>Fastrack</td>\n",
       "      <td>UV Protection Rectangular Sunglasses (Free Size)</td>\n",
       "      <td>₹830</td>\n",
       "      <td>7% off</td>\n",
       "    </tr>\n",
       "    <tr>\n",
       "      <th>97</th>\n",
       "      <td>DEIXELS</td>\n",
       "      <td>UV Protection, Mirrored, Others Aviator Sungla...</td>\n",
       "      <td>₹189</td>\n",
       "      <td>87% off</td>\n",
       "    </tr>\n",
       "    <tr>\n",
       "      <th>98</th>\n",
       "      <td>Singco India</td>\n",
       "      <td>UV Protection Aviator Sunglasses (57)</td>\n",
       "      <td>₹227</td>\n",
       "      <td>77% off</td>\n",
       "    </tr>\n",
       "    <tr>\n",
       "      <th>99</th>\n",
       "      <td>GANSTA</td>\n",
       "      <td>UV Protection, Gradient, Night Vision Retro Sq...</td>\n",
       "      <td>₹341</td>\n",
       "      <td>82% off</td>\n",
       "    </tr>\n",
       "  </tbody>\n",
       "</table>\n",
       "<p>100 rows × 4 columns</p>\n",
       "</div>"
      ],
      "text/plain": [
       "             Brand                                Product Description Price  \\\n",
       "0        ROYAL SON         UV Protection Retro Square Sunglasses (88)  ₹599   \n",
       "1           AISLIN  UV Protection, Gradient Butterfly, Wayfarer Su...  ₹516   \n",
       "2         Fastrack   UV Protection Rectangular Sunglasses (Free Size)  ₹570   \n",
       "3   ROZZETTA CRAFT  UV Protection Retro Square Sunglasses (Free Size)  ₹499   \n",
       "4   ROZZETTA CRAFT  UV Protection Retro Square Sunglasses (Free Size)  ₹499   \n",
       "..             ...                                                ...   ...   \n",
       "95      PHENOMENAL        UV Protection Shield Sunglasses (Free Size)  ₹259   \n",
       "96        Fastrack   UV Protection Rectangular Sunglasses (Free Size)  ₹830   \n",
       "97         DEIXELS  UV Protection, Mirrored, Others Aviator Sungla...  ₹189   \n",
       "98    Singco India              UV Protection Aviator Sunglasses (57)  ₹227   \n",
       "99          GANSTA  UV Protection, Gradient, Night Vision Retro Sq...  ₹341   \n",
       "\n",
       "   Discount  \n",
       "0   70% off  \n",
       "1   66% off  \n",
       "2   28% off  \n",
       "3   77% off  \n",
       "4   77% off  \n",
       "..      ...  \n",
       "95  87% off  \n",
       "96   7% off  \n",
       "97  87% off  \n",
       "98  77% off  \n",
       "99  82% off  \n",
       "\n",
       "[100 rows x 4 columns]"
      ]
     },
     "execution_count": 56,
     "metadata": {},
     "output_type": "execute_result"
    }
   ],
   "source": [
    "#Loading Data into DataFrame\n",
    "\n",
    "Sunglasses100 = pd.DataFrame({})\n",
    "\n",
    "Sunglasses100['Brand'] = Brand[:100]\n",
    "Sunglasses100['Product Description'] = Product_Description[:100]\n",
    "Sunglasses100[\"Price\"] = Price[:100]\n",
    "Sunglasses100['Discount'] = Discount[:100]\n",
    "\n",
    "Sunglasses100"
   ]
  },
  {
   "cell_type": "markdown",
   "metadata": {},
   "source": [
    "# Question - 7"
   ]
  },
  {
   "cell_type": "code",
   "execution_count": 57,
   "metadata": {},
   "outputs": [],
   "source": [
    "#Connecting with the Chrome Driver\n",
    "\n",
    "driver = webdriver.Chrome(\"chromedriver.exe\")"
   ]
  },
  {
   "cell_type": "code",
   "execution_count": 58,
   "metadata": {},
   "outputs": [],
   "source": [
    "#Loading URL\n",
    "\n",
    "driver.get(\"https://www.flipkart.com/apple-iphone-11-black-64-gb-includes-earpods-power-adapter/p/itm0f37c2240b217?pid=MOBFKCTSVZAXUHGR&lid=LSTMOBFKCTSVZAXUHGREPBFGI&marketplace\")"
   ]
  },
  {
   "cell_type": "code",
   "execution_count": 59,
   "metadata": {},
   "outputs": [],
   "source": [
    "#Loading All Reviews\n",
    "\n",
    "driver.find_element_by_xpath(\"//div[@class='_3UAT2v _16PBlm']\").click()"
   ]
  },
  {
   "cell_type": "code",
   "execution_count": 60,
   "metadata": {},
   "outputs": [],
   "source": [
    "#Creating Empty List to Scrape data into it\n",
    "\n",
    "Rating = []\n",
    "Review_Summary = []\n",
    "Full_Review = []"
   ]
  },
  {
   "cell_type": "code",
   "execution_count": 61,
   "metadata": {},
   "outputs": [],
   "source": [
    "#Applying for loop for first 11 pages to scrape data from it\n",
    "\n",
    "for i in range(0,11):\n",
    "    for j in driver.find_elements_by_xpath(\"//div[@class='_3LWZlK _1BLPMq']\"):\n",
    "        Rating.append(j.text)\n",
    "    for k in driver.find_elements_by_xpath(\"//p[@class='_2-N8zT']\"):\n",
    "        Review_Summary.append(k.text.replace('\\n',' '))\n",
    "    for m in driver.find_elements_by_xpath(\"//div[@class='t-ZTKy']\"):\n",
    "        Full_Review.append(m.text.replace('\\n',' '))\n",
    "    for n in driver.find_elements_by_xpath(\"//a[@class='_1LKTO3']\"):\n",
    "        try:\n",
    "            driver.find_element_by_xpath(\"//a[@class='_1LKTO3']/span[2]\")\n",
    "        except:\n",
    "            driver.find_element_by_xpath(\"//a[@class='_1LKTO3']/span\")\n",
    "        time.sleep(2)"
   ]
  },
  {
   "cell_type": "code",
   "execution_count": 62,
   "metadata": {},
   "outputs": [
    {
     "name": "stdout",
     "output_type": "stream",
     "text": [
      "110 110 110\n"
     ]
    }
   ],
   "source": [
    "print(len(Rating),len(Review_Summary),len(Full_Review))"
   ]
  },
  {
   "cell_type": "code",
   "execution_count": 63,
   "metadata": {},
   "outputs": [
    {
     "data": {
      "text/html": [
       "<div>\n",
       "<style scoped>\n",
       "    .dataframe tbody tr th:only-of-type {\n",
       "        vertical-align: middle;\n",
       "    }\n",
       "\n",
       "    .dataframe tbody tr th {\n",
       "        vertical-align: top;\n",
       "    }\n",
       "\n",
       "    .dataframe thead th {\n",
       "        text-align: right;\n",
       "    }\n",
       "</style>\n",
       "<table border=\"1\" class=\"dataframe\">\n",
       "  <thead>\n",
       "    <tr style=\"text-align: right;\">\n",
       "      <th></th>\n",
       "      <th>Rating</th>\n",
       "      <th>Review Summary</th>\n",
       "      <th>Full Review</th>\n",
       "    </tr>\n",
       "  </thead>\n",
       "  <tbody>\n",
       "    <tr>\n",
       "      <th>0</th>\n",
       "      <td>5</td>\n",
       "      <td>Brilliant</td>\n",
       "      <td>The Best Phone for the Money  The iPhone 11 of...</td>\n",
       "    </tr>\n",
       "    <tr>\n",
       "      <th>1</th>\n",
       "      <td>5</td>\n",
       "      <td>Perfect product!</td>\n",
       "      <td>Amazing phone with great cameras and better ba...</td>\n",
       "    </tr>\n",
       "    <tr>\n",
       "      <th>2</th>\n",
       "      <td>5</td>\n",
       "      <td>Great product</td>\n",
       "      <td>Amazing Powerful and Durable Gadget.  I’m am v...</td>\n",
       "    </tr>\n",
       "    <tr>\n",
       "      <th>3</th>\n",
       "      <td>5</td>\n",
       "      <td>Worth every penny</td>\n",
       "      <td>Previously I was using one plus 3t it was a gr...</td>\n",
       "    </tr>\n",
       "    <tr>\n",
       "      <th>4</th>\n",
       "      <td>4</td>\n",
       "      <td>Good choice</td>\n",
       "      <td>So far it’s been an AMAZING experience coming ...</td>\n",
       "    </tr>\n",
       "    <tr>\n",
       "      <th>...</th>\n",
       "      <td>...</td>\n",
       "      <td>...</td>\n",
       "      <td>...</td>\n",
       "    </tr>\n",
       "    <tr>\n",
       "      <th>95</th>\n",
       "      <td>5</td>\n",
       "      <td>Highly recommended</td>\n",
       "      <td>iphone 11 is a very good phone to buy only if ...</td>\n",
       "    </tr>\n",
       "    <tr>\n",
       "      <th>96</th>\n",
       "      <td>5</td>\n",
       "      <td>Fabulous!</td>\n",
       "      <td>This is my first iOS phone. I am very happy wi...</td>\n",
       "    </tr>\n",
       "    <tr>\n",
       "      <th>97</th>\n",
       "      <td>5</td>\n",
       "      <td>Perfect product!</td>\n",
       "      <td>It’s a must buy who is looking for an upgrade ...</td>\n",
       "    </tr>\n",
       "    <tr>\n",
       "      <th>98</th>\n",
       "      <td>5</td>\n",
       "      <td>Perfect product!</td>\n",
       "      <td>Value for money❤️❤️ Its awesome mobile phone i...</td>\n",
       "    </tr>\n",
       "    <tr>\n",
       "      <th>99</th>\n",
       "      <td>5</td>\n",
       "      <td>Worth every penny</td>\n",
       "      <td>Best budget Iphone till date ❤️ go for it guys...</td>\n",
       "    </tr>\n",
       "  </tbody>\n",
       "</table>\n",
       "<p>100 rows × 3 columns</p>\n",
       "</div>"
      ],
      "text/plain": [
       "   Rating      Review Summary  \\\n",
       "0       5           Brilliant   \n",
       "1       5    Perfect product!   \n",
       "2       5       Great product   \n",
       "3       5   Worth every penny   \n",
       "4       4         Good choice   \n",
       "..    ...                 ...   \n",
       "95      5  Highly recommended   \n",
       "96      5           Fabulous!   \n",
       "97      5    Perfect product!   \n",
       "98      5    Perfect product!   \n",
       "99      5   Worth every penny   \n",
       "\n",
       "                                          Full Review  \n",
       "0   The Best Phone for the Money  The iPhone 11 of...  \n",
       "1   Amazing phone with great cameras and better ba...  \n",
       "2   Amazing Powerful and Durable Gadget.  I’m am v...  \n",
       "3   Previously I was using one plus 3t it was a gr...  \n",
       "4   So far it’s been an AMAZING experience coming ...  \n",
       "..                                                ...  \n",
       "95  iphone 11 is a very good phone to buy only if ...  \n",
       "96  This is my first iOS phone. I am very happy wi...  \n",
       "97  It’s a must buy who is looking for an upgrade ...  \n",
       "98  Value for money❤️❤️ Its awesome mobile phone i...  \n",
       "99  Best budget Iphone till date ❤️ go for it guys...  \n",
       "\n",
       "[100 rows x 3 columns]"
      ]
     },
     "execution_count": 63,
     "metadata": {},
     "output_type": "execute_result"
    }
   ],
   "source": [
    "#Loading into Data Frame\n",
    "\n",
    "Iphone_Reviews = pd.DataFrame({})\n",
    "\n",
    "Iphone_Reviews['Rating'] = Rating[:100]\n",
    "Iphone_Reviews['Review Summary'] = Review_Summary[:100]\n",
    "Iphone_Reviews['Full Review'] = Full_Review[:100]\n",
    "\n",
    "Iphone_Reviews"
   ]
  },
  {
   "cell_type": "markdown",
   "metadata": {},
   "source": [
    "# Question - 8"
   ]
  },
  {
   "cell_type": "code",
   "execution_count": 64,
   "metadata": {},
   "outputs": [],
   "source": [
    "#Connecting with the Chrome Driver\n",
    "\n",
    "driver = webdriver.Chrome(\"chromedriver.exe\")"
   ]
  },
  {
   "cell_type": "code",
   "execution_count": 65,
   "metadata": {},
   "outputs": [],
   "source": [
    "#Opening Flipkart URL\n",
    "\n",
    "driver.get('https://www.flipkart.com/')"
   ]
  },
  {
   "cell_type": "code",
   "execution_count": 66,
   "metadata": {},
   "outputs": [],
   "source": [
    "#Closing Pop-ups if any \n",
    "\n",
    "driver.find_element_by_xpath(\"//button[@class='_2KpZ6l _2doB4z']\").click()"
   ]
  },
  {
   "cell_type": "code",
   "execution_count": 67,
   "metadata": {},
   "outputs": [],
   "source": [
    "#Entering Sneakers in the Search Bar\n",
    "\n",
    "search_tag = driver.find_element_by_xpath(\"//input[@class='_3704LK']\")\n",
    "search_tag.send_keys('sneakers')"
   ]
  },
  {
   "cell_type": "code",
   "execution_count": 68,
   "metadata": {},
   "outputs": [],
   "source": [
    "#Click Search Bar Option\n",
    "\n",
    "driver.find_element_by_xpath(\"//button[@class='L0Z3Pu']\").click()"
   ]
  },
  {
   "cell_type": "code",
   "execution_count": 69,
   "metadata": {},
   "outputs": [],
   "source": [
    "#Creating Empty List to Scrape data into it\n",
    "\n",
    "Brand = []\n",
    "Product_Description = []\n",
    "Price = []\n",
    "Discount = []"
   ]
  },
  {
   "cell_type": "code",
   "execution_count": 70,
   "metadata": {},
   "outputs": [],
   "source": [
    "#Applying for loop for first 4 pages to scrape data from it\n",
    "\n",
    "for i in range(0,4):\n",
    "    for j in driver.find_elements_by_xpath(\"//div[@class='_2WkVRV']\"):\n",
    "        Brand.append(j.text)\n",
    "    for k in driver.find_elements_by_xpath(\"//a[@class='IRpwTa']\"):\n",
    "        Product_Description.append(k.text.replace('\\n',' '))\n",
    "    for l in driver.find_elements_by_xpath(\"//div[@class='_30jeq3']\"):\n",
    "        Price.append(l.text)\n",
    "    for m in driver.find_elements_by_xpath(\"//div[@class='_3Ay6Sb']\"):\n",
    "        Discount.append(m.text)\n",
    "    for n in driver.find_elements_by_xpath(\"//a[@class='_1LKTO3']/span\"):\n",
    "        try:\n",
    "            driver.find_element_by_xpath(\"//a[@class='_1LKTO3']/span[2]\").click()\n",
    "        except:\n",
    "            driver.find_element_by_xpath(\"//a[@class='_1LKTO3']/span\").click()\n",
    "        time.sleep(5)"
   ]
  },
  {
   "cell_type": "code",
   "execution_count": 71,
   "metadata": {},
   "outputs": [
    {
     "name": "stdout",
     "output_type": "stream",
     "text": [
      "160 130 160 159\n"
     ]
    }
   ],
   "source": [
    "print(len(Brand),len(Product_Description),len(Price),len(Discount))"
   ]
  },
  {
   "cell_type": "code",
   "execution_count": 72,
   "metadata": {},
   "outputs": [
    {
     "data": {
      "text/html": [
       "<div>\n",
       "<style scoped>\n",
       "    .dataframe tbody tr th:only-of-type {\n",
       "        vertical-align: middle;\n",
       "    }\n",
       "\n",
       "    .dataframe tbody tr th {\n",
       "        vertical-align: top;\n",
       "    }\n",
       "\n",
       "    .dataframe thead th {\n",
       "        text-align: right;\n",
       "    }\n",
       "</style>\n",
       "<table border=\"1\" class=\"dataframe\">\n",
       "  <thead>\n",
       "    <tr style=\"text-align: right;\">\n",
       "      <th></th>\n",
       "      <th>Brand</th>\n",
       "      <th>Product Description</th>\n",
       "      <th>Price</th>\n",
       "      <th>Discount</th>\n",
       "    </tr>\n",
       "  </thead>\n",
       "  <tbody>\n",
       "    <tr>\n",
       "      <th>0</th>\n",
       "      <td>M K FOOTWEAR</td>\n",
       "      <td>Combo Pack of 2 Casual Shoes Sneakers For Men</td>\n",
       "      <td>₹369</td>\n",
       "      <td>63% off</td>\n",
       "    </tr>\n",
       "    <tr>\n",
       "      <th>1</th>\n",
       "      <td>Birde</td>\n",
       "      <td>Sneakers For Men</td>\n",
       "      <td>₹471</td>\n",
       "      <td>52% off</td>\n",
       "    </tr>\n",
       "    <tr>\n",
       "      <th>2</th>\n",
       "      <td>Magnolia</td>\n",
       "      <td>Casual Sneakers Shoes For Men Sneakers For Men</td>\n",
       "      <td>₹356</td>\n",
       "      <td>64% off</td>\n",
       "    </tr>\n",
       "    <tr>\n",
       "      <th>3</th>\n",
       "      <td>Robbie jones</td>\n",
       "      <td>Combo pack of 2 casual sneaker shoes for men S...</td>\n",
       "      <td>₹379</td>\n",
       "      <td>62% off</td>\n",
       "    </tr>\n",
       "    <tr>\n",
       "      <th>4</th>\n",
       "      <td>ORICUM</td>\n",
       "      <td>Sneakers For Men</td>\n",
       "      <td>₹377</td>\n",
       "      <td>62% off</td>\n",
       "    </tr>\n",
       "    <tr>\n",
       "      <th>...</th>\n",
       "      <td>...</td>\n",
       "      <td>...</td>\n",
       "      <td>...</td>\n",
       "      <td>...</td>\n",
       "    </tr>\n",
       "    <tr>\n",
       "      <th>95</th>\n",
       "      <td>Jack Diamond</td>\n",
       "      <td>Synthetic Leather Casual Partywear Wedding Sne...</td>\n",
       "      <td>₹644</td>\n",
       "      <td>40% off</td>\n",
       "    </tr>\n",
       "    <tr>\n",
       "      <th>96</th>\n",
       "      <td>Echor</td>\n",
       "      <td>Spring Season White Shoes Men Running Flat PU ...</td>\n",
       "      <td>₹599</td>\n",
       "      <td>25% off</td>\n",
       "    </tr>\n",
       "    <tr>\n",
       "      <th>97</th>\n",
       "      <td>SPARX</td>\n",
       "      <td>Casual , Partywear Sneakers Shoes For Men's An...</td>\n",
       "      <td>₹973</td>\n",
       "      <td>48% off</td>\n",
       "    </tr>\n",
       "    <tr>\n",
       "      <th>98</th>\n",
       "      <td>World Wear Footwear</td>\n",
       "      <td>Latest Stylish Casual sneakers for men | Lace ...</td>\n",
       "      <td>₹259</td>\n",
       "      <td>75% off</td>\n",
       "    </tr>\n",
       "    <tr>\n",
       "      <th>99</th>\n",
       "      <td>Bond Street By Red Tape</td>\n",
       "      <td>Modern Trendy Shoes Combo pack of 4 Sneakers F...</td>\n",
       "      <td>₹873</td>\n",
       "      <td>71% off</td>\n",
       "    </tr>\n",
       "  </tbody>\n",
       "</table>\n",
       "<p>100 rows × 4 columns</p>\n",
       "</div>"
      ],
      "text/plain": [
       "                      Brand  \\\n",
       "0              M K FOOTWEAR   \n",
       "1                     Birde   \n",
       "2                  Magnolia   \n",
       "3              Robbie jones   \n",
       "4                    ORICUM   \n",
       "..                      ...   \n",
       "95             Jack Diamond   \n",
       "96                    Echor   \n",
       "97                    SPARX   \n",
       "98      World Wear Footwear   \n",
       "99  Bond Street By Red Tape   \n",
       "\n",
       "                                  Product Description Price Discount  \n",
       "0       Combo Pack of 2 Casual Shoes Sneakers For Men  ₹369  63% off  \n",
       "1                                    Sneakers For Men  ₹471  52% off  \n",
       "2      Casual Sneakers Shoes For Men Sneakers For Men  ₹356  64% off  \n",
       "3   Combo pack of 2 casual sneaker shoes for men S...  ₹379  62% off  \n",
       "4                                    Sneakers For Men  ₹377  62% off  \n",
       "..                                                ...   ...      ...  \n",
       "95  Synthetic Leather Casual Partywear Wedding Sne...  ₹644  40% off  \n",
       "96  Spring Season White Shoes Men Running Flat PU ...  ₹599  25% off  \n",
       "97  Casual , Partywear Sneakers Shoes For Men's An...  ₹973  48% off  \n",
       "98  Latest Stylish Casual sneakers for men | Lace ...  ₹259  75% off  \n",
       "99  Modern Trendy Shoes Combo pack of 4 Sneakers F...  ₹873  71% off  \n",
       "\n",
       "[100 rows x 4 columns]"
      ]
     },
     "execution_count": 72,
     "metadata": {},
     "output_type": "execute_result"
    }
   ],
   "source": [
    "Sneakers100 = pd.DataFrame({})\n",
    "\n",
    "Sneakers100['Brand'] = Brand[:100]\n",
    "Sneakers100['Product Description'] = Product_Description[:100]\n",
    "Sneakers100[\"Price\"] = Price[:100]\n",
    "Sneakers100['Discount'] = Discount[:100]\n",
    "\n",
    "Sneakers100"
   ]
  },
  {
   "cell_type": "markdown",
   "metadata": {},
   "source": [
    "# Question - 9"
   ]
  },
  {
   "cell_type": "code",
   "execution_count": 73,
   "metadata": {},
   "outputs": [],
   "source": [
    "#Connecting with the Chrome Driver\n",
    "\n",
    "driver = webdriver.Chrome(\"chromedriver.exe\")"
   ]
  },
  {
   "cell_type": "code",
   "execution_count": 74,
   "metadata": {},
   "outputs": [],
   "source": [
    "#Opening Flipkart URL\n",
    "\n",
    "driver.get('https://www.myntra.com/shoes')"
   ]
  },
  {
   "cell_type": "code",
   "execution_count": 75,
   "metadata": {},
   "outputs": [],
   "source": [
    "#Creating Empty List to Scrape data into it\n",
    "\n",
    "Shoe_Brand = []\n",
    "Shoe_Description = []\n",
    "Shoe_Price = []"
   ]
  },
  {
   "cell_type": "code",
   "execution_count": 76,
   "metadata": {},
   "outputs": [],
   "source": [
    "#Applying for loop to scrape black shoes under the range of 6k - 13k\n",
    "\n",
    "for i in range(0,2):\n",
    "    \n",
    "    for a in driver.find_elements_by_xpath(\"//h3[@class='product-brand']\"):\n",
    "        Shoe_Brand.append(a.text)\n",
    "        \n",
    "    for b in driver.find_elements_by_xpath(\"//h4[@class='product-product']\"):\n",
    "        Shoe_Description.append(b.text.replace('\\n',' '))\n",
    "     \n",
    "    for c in driver.find_elements_by_xpath(\"//div[@class='product-price']\"):\n",
    "        x=c.text.split('Rs.')[1].strip()\n",
    "        Shoe_Price.append(x)\n",
    "            \n",
    "    driver.find_element_by_xpath(\"//li[@class='pagination-next']\").click()\n",
    "    \n",
    "    time.sleep(4)"
   ]
  },
  {
   "cell_type": "code",
   "execution_count": 77,
   "metadata": {},
   "outputs": [
    {
     "name": "stdout",
     "output_type": "stream",
     "text": [
      "100 100 100\n"
     ]
    }
   ],
   "source": [
    "print(len(Shoe_Brand),len(Shoe_Description),len(Shoe_Price))"
   ]
  },
  {
   "cell_type": "code",
   "execution_count": 78,
   "metadata": {},
   "outputs": [
    {
     "data": {
      "text/html": [
       "<div>\n",
       "<style scoped>\n",
       "    .dataframe tbody tr th:only-of-type {\n",
       "        vertical-align: middle;\n",
       "    }\n",
       "\n",
       "    .dataframe tbody tr th {\n",
       "        vertical-align: top;\n",
       "    }\n",
       "\n",
       "    .dataframe thead th {\n",
       "        text-align: right;\n",
       "    }\n",
       "</style>\n",
       "<table border=\"1\" class=\"dataframe\">\n",
       "  <thead>\n",
       "    <tr style=\"text-align: right;\">\n",
       "      <th></th>\n",
       "      <th>Shoe_Brand</th>\n",
       "      <th>Shoe_Description</th>\n",
       "      <th>Shoe_Price(in INR)</th>\n",
       "    </tr>\n",
       "  </thead>\n",
       "  <tbody>\n",
       "    <tr>\n",
       "      <th>0</th>\n",
       "      <td>Nike</td>\n",
       "      <td>AIR ZOOM PEGASUS Running Shoes</td>\n",
       "      <td>10920</td>\n",
       "    </tr>\n",
       "    <tr>\n",
       "      <th>1</th>\n",
       "      <td>Nike</td>\n",
       "      <td>Men KD13 EP Basketball Shoes</td>\n",
       "      <td>12995</td>\n",
       "    </tr>\n",
       "    <tr>\n",
       "      <th>2</th>\n",
       "      <td>Nike</td>\n",
       "      <td>Men JORDAN DELTA Basketball</td>\n",
       "      <td>12495</td>\n",
       "    </tr>\n",
       "    <tr>\n",
       "      <th>3</th>\n",
       "      <td>Geox</td>\n",
       "      <td>Men Leather Formal Slip-Ons</td>\n",
       "      <td>11242</td>\n",
       "    </tr>\n",
       "    <tr>\n",
       "      <th>4</th>\n",
       "      <td>Hush Puppies</td>\n",
       "      <td>Men Solid Leather Formal Slip-Ons</td>\n",
       "      <td>8999</td>\n",
       "    </tr>\n",
       "    <tr>\n",
       "      <th>...</th>\n",
       "      <td>...</td>\n",
       "      <td>...</td>\n",
       "      <td>...</td>\n",
       "    </tr>\n",
       "    <tr>\n",
       "      <th>95</th>\n",
       "      <td>Cole Haan</td>\n",
       "      <td>Women Sandals</td>\n",
       "      <td>6749</td>\n",
       "    </tr>\n",
       "    <tr>\n",
       "      <th>96</th>\n",
       "      <td>Reebok</td>\n",
       "      <td>Men Nano X1 Training Shoes</td>\n",
       "      <td>6999</td>\n",
       "    </tr>\n",
       "    <tr>\n",
       "      <th>97</th>\n",
       "      <td>ADIDAS</td>\n",
       "      <td>Men Adizero Ubersonic 4 Tennis</td>\n",
       "      <td>10499</td>\n",
       "    </tr>\n",
       "    <tr>\n",
       "      <th>98</th>\n",
       "      <td>Kenneth Cole</td>\n",
       "      <td>Women Solid Flat Boots</td>\n",
       "      <td>9513</td>\n",
       "    </tr>\n",
       "    <tr>\n",
       "      <th>99</th>\n",
       "      <td>Nike</td>\n",
       "      <td>Women AIR MAX VIVA Sneakers</td>\n",
       "      <td>12495</td>\n",
       "    </tr>\n",
       "  </tbody>\n",
       "</table>\n",
       "<p>100 rows × 3 columns</p>\n",
       "</div>"
      ],
      "text/plain": [
       "      Shoe_Brand                   Shoe_Description Shoe_Price(in INR)\n",
       "0           Nike     AIR ZOOM PEGASUS Running Shoes              10920\n",
       "1           Nike       Men KD13 EP Basketball Shoes              12995\n",
       "2           Nike        Men JORDAN DELTA Basketball              12495\n",
       "3           Geox        Men Leather Formal Slip-Ons              11242\n",
       "4   Hush Puppies  Men Solid Leather Formal Slip-Ons               8999\n",
       "..           ...                                ...                ...\n",
       "95     Cole Haan                      Women Sandals               6749\n",
       "96        Reebok         Men Nano X1 Training Shoes               6999\n",
       "97        ADIDAS     Men Adizero Ubersonic 4 Tennis              10499\n",
       "98  Kenneth Cole             Women Solid Flat Boots               9513\n",
       "99          Nike        Women AIR MAX VIVA Sneakers              12495\n",
       "\n",
       "[100 rows x 3 columns]"
      ]
     },
     "execution_count": 78,
     "metadata": {},
     "output_type": "execute_result"
    }
   ],
   "source": [
    "Black_Shoe100 = pd.DataFrame({})\n",
    "\n",
    "Black_Shoe100['Shoe_Brand'] = Shoe_Brand\n",
    "Black_Shoe100['Shoe_Description'] = Shoe_Description\n",
    "Black_Shoe100['Shoe_Price(in INR)'] = Shoe_Price\n",
    "\n",
    "Black_Shoe100"
   ]
  },
  {
   "cell_type": "markdown",
   "metadata": {},
   "source": [
    "# Question - 10"
   ]
  },
  {
   "cell_type": "code",
   "execution_count": 79,
   "metadata": {},
   "outputs": [],
   "source": [
    "driver = webdriver.Chrome(\"chromedriver.exe\")"
   ]
  },
  {
   "cell_type": "code",
   "execution_count": 80,
   "metadata": {},
   "outputs": [],
   "source": [
    "#opening the homepage of Amazon.in\n",
    "driver.get('https://www.amazon.in')"
   ]
  },
  {
   "cell_type": "code",
   "execution_count": 81,
   "metadata": {},
   "outputs": [],
   "source": [
    "search_bar = driver.find_element_by_id(\"twotabsearchtextbox\") #locating search_bar by id\n",
    "\n",
    "search_bar.clear()  #clearing search bar\n",
    "\n",
    "search_bar.send_keys(\"Laptop\")  #sending user input to search bar\n",
    "\n",
    "time.sleep(4)\n",
    "\n",
    "search_button = driver.find_element_by_xpath('//div[@class=\"nav-search-submit nav-sprite\"]/span/input') #locating search bar by path\n",
    "\n",
    "search_button.click() #clicking the button to search"
   ]
  },
  {
   "cell_type": "code",
   "execution_count": 82,
   "metadata": {},
   "outputs": [],
   "source": [
    "#locating the core i7 filter\n",
    "filter_button=driver.find_elements_by_xpath(\"//a[@class='a-link-normal s-navigation-item']/span\")\n",
    "for i in filter_button:\n",
    "    if i.text=='Intel Core i7':\n",
    "        i.click()\n",
    "        break"
   ]
  },
  {
   "cell_type": "code",
   "execution_count": 83,
   "metadata": {},
   "outputs": [],
   "source": [
    "#locating the core i9 filter\n",
    "filter_button=driver.find_elements_by_xpath(\"//a[@class='a-link-normal s-navigation-item']/span\")\n",
    "for i in filter_button:\n",
    "    if i.text=='Intel Core i9':\n",
    "        i.click()\n",
    "        break"
   ]
  },
  {
   "cell_type": "code",
   "execution_count": 84,
   "metadata": {},
   "outputs": [
    {
     "data": {
      "text/plain": [
       "['https://www.amazon.in/gp/slredirect/picassoRedirect.html/ref=pa_sp_atf_computers_sr_pg1_1?ie=UTF8&adId=A062210318VIMQDW9YCS9&url=%2FLenovo-Touchscreen-Fingerprint-Graphite-82HS0092IN%2Fdp%2FB08WRZQBQ6%2Fref%3Dsr_1_1_sspa%3Fdchild%3D1%26keywords%3DLaptop%26qid%3D1622292642%26refinements%3Dp_n_feature_thirteen_browse-bin%253A12598163031%257C16757432031%26rnid%3D12598141031%26s%3Dcomputers%26sr%3D1-1-spons%26psc%3D1&qualifier=1622292642&id=4453489765018402&widgetName=sp_atf',\n",
       " 'https://www.amazon.in/gp/slredirect/picassoRedirect.html/ref=pa_sp_atf_computers_sr_pg1_1?ie=UTF8&adId=A06218591H7NJYCPGVE4U&url=%2FLenovo-Touchscreen-Fingerprint-Aluminium-82BH004HIN%2Fdp%2FB08P3M22QQ%2Fref%3Dsr_1_2_sspa%3Fdchild%3D1%26keywords%3DLaptop%26qid%3D1622292642%26refinements%3Dp_n_feature_thirteen_browse-bin%253A12598163031%257C16757432031%26rnid%3D12598141031%26s%3Dcomputers%26sr%3D1-2-spons%26psc%3D1&qualifier=1622292642&id=4453489765018402&widgetName=sp_atf',\n",
       " 'https://www.amazon.in/HP-Pavilion-Processor-15-6-inch-15-dk1509TX/dp/B08ZN7GBQ5/ref=sr_1_3?dchild=1&keywords=Laptop&qid=1622292642&refinements=p_n_feature_thirteen_browse-bin%3A12598163031%7C16757432031&rnid=12598141031&s=computers&sr=1-3',\n",
       " 'https://www.amazon.in/Notebook-Horizon-i5-10210U-Graphics-XMA1904-AR/dp/B089F5JGM1/ref=sr_1_4?dchild=1&keywords=Laptop&qid=1622292642&refinements=p_n_feature_thirteen_browse-bin%3A12598163031%7C16757432031&rnid=12598141031&s=computers&sr=1-4',\n",
       " 'https://www.amazon.in/Dell-Latitude-E6420-Dedicated-Professional/dp/B07WWGBK47/ref=sr_1_5?dchild=1&keywords=Laptop&qid=1622292642&refinements=p_n_feature_thirteen_browse-bin%3A12598163031%7C16757432031&rnid=12598141031&s=computers&sr=1-5',\n",
       " 'https://www.amazon.in/LifeDigital-Laptop-Intel%C2%AE-Storage-Windows/dp/B08HRHFV23/ref=sr_1_6?dchild=1&keywords=Laptop&qid=1622292642&refinements=p_n_feature_thirteen_browse-bin%3A12598163031%7C16757432031&rnid=12598141031&s=computers&sr=1-6',\n",
       " 'https://www.amazon.in/Asus-G703GI-E5148T-17-3-inch-i9-8950HK-Processor/dp/B07GRCW51K/ref=sr_1_7?dchild=1&keywords=Laptop&qid=1622292642&refinements=p_n_feature_thirteen_browse-bin%3A12598163031%7C16757432031&rnid=12598141031&s=computers&sr=1-7',\n",
       " 'https://www.amazon.in/HP-Pavilion-Graphics-35-56cms-14-dv0058TU/dp/B08WB857GB/ref=sr_1_8?dchild=1&keywords=Laptop&qid=1622292642&refinements=p_n_feature_thirteen_browse-bin%3A12598163031%7C16757432031&rnid=12598141031&s=computers&sr=1-8',\n",
       " 'https://www.amazon.in/Lenovo-Legion-Gaming-Windows-82AW005SIN/dp/B08CQ21154/ref=sr_1_9?dchild=1&keywords=Laptop&qid=1622292642&refinements=p_n_feature_thirteen_browse-bin%3A12598163031%7C16757432031&rnid=12598141031&s=computers&sr=1-9',\n",
       " 'https://www.amazon.in/HP-35-56cms-i7-1165G7-Windows-14s-dr2007TU/dp/B08N57LR4X/ref=sr_1_10?dchild=1&keywords=Laptop&qid=1622292642&refinements=p_n_feature_thirteen_browse-bin%3A12598163031%7C16757432031&rnid=12598141031&s=computers&sr=1-10',\n",
       " 'https://www.amazon.in/Lenovo-Touchscreen-LENOVO-THINKPAD-YOGA/dp/B08ZJFTZMJ/ref=sr_1_11?dchild=1&keywords=Laptop&qid=1622292642&refinements=p_n_feature_thirteen_browse-bin%3A12598163031%7C16757432031&rnid=12598141031&s=computers&sr=1-11',\n",
       " 'https://www.amazon.in/HP-Touchscreen-Computer-Quad-Core-Bluetooth/dp/B07WCTR386/ref=sr_1_12?dchild=1&keywords=Laptop&qid=1622292642&refinements=p_n_feature_thirteen_browse-bin%3A12598163031%7C16757432031&rnid=12598141031&s=computers&sr=1-12',\n",
       " 'https://www.amazon.in/Alienware-AW15R3-7001SLV-PUS-Gaming-Laptop-Generation/dp/B07QQLD1T4/ref=sr_1_13?dchild=1&keywords=Laptop&qid=1622292642&refinements=p_n_feature_thirteen_browse-bin%3A12598163031%7C16757432031&rnid=12598141031&s=computers&sr=1-13',\n",
       " 'https://www.amazon.in/Lenovo-ThinkPad-Gen14-inch-Microsoft-20RAS0AM00/dp/B08PD1HM1Q/ref=sr_1_14?dchild=1&keywords=Laptop&qid=1622292642&refinements=p_n_feature_thirteen_browse-bin%3A12598163031%7C16757432031&rnid=12598141031&s=computers&sr=1-14',\n",
       " 'https://www.amazon.in/gp/slredirect/picassoRedirect.html/ref=pa_sp_mtf_computers_sr_pg1_1?ie=UTF8&adId=A06860221QCRR929CGS3R&url=%2FLenovo-Laptop-Windows-Graphics-82A1009KIN%2Fdp%2FB087D38ZP4%2Fref%3Dsr_1_15_sspa%3Fdchild%3D1%26keywords%3DLaptop%26qid%3D1622292642%26refinements%3Dp_n_feature_thirteen_browse-bin%253A12598163031%257C16757432031%26rnid%3D12598141031%26s%3Dcomputers%26sr%3D1-15-spons%26psc%3D1&qualifier=1622292642&id=4453489765018402&widgetName=sp_mtf',\n",
       " 'https://www.amazon.in/Razer-Blade-Gaming-Laptop-2019/dp/B07X379CZ9/ref=sr_1_16?dchild=1&keywords=Laptop&qid=1622292642&refinements=p_n_feature_thirteen_browse-bin%3A12598163031%7C16757432031&rnid=12598141031&s=computers&sr=1-16',\n",
       " 'https://www.amazon.in/Dell-Alienware-m15-R3-15-6-inch/dp/B08BZR715W/ref=sr_1_17?dchild=1&keywords=Laptop&qid=1622292642&refinements=p_n_feature_thirteen_browse-bin%3A12598163031%7C16757432031&rnid=12598141031&s=computers&sr=1-17',\n",
       " 'https://www.amazon.in/Dell-Inspiron-i7-1165G7-Integrated-D560414WIN9S/dp/B0919LL313/ref=sr_1_18?dchild=1&keywords=Laptop&qid=1622292642&refinements=p_n_feature_thirteen_browse-bin%3A12598163031%7C16757432031&rnid=12598141031&s=computers&sr=1-18',\n",
       " 'https://www.amazon.in/ASUS-Touchscreen-ScreenPad-Celestial-UX581GV-H9201T/dp/B07YSTDMNB/ref=sr_1_19?dchild=1&keywords=Laptop&qid=1622292642&refinements=p_n_feature_thirteen_browse-bin%3A12598163031%7C16757432031&rnid=12598141031&s=computers&sr=1-19',\n",
       " 'https://www.amazon.in/ASUS-VivoBook-i7-1165G7-Graphics-S433EA-AM701TS/dp/B08PQTZB3Z/ref=sr_1_20?dchild=1&keywords=Laptop&qid=1622292642&refinements=p_n_feature_thirteen_browse-bin%3A12598163031%7C16757432031&rnid=12598141031&s=computers&sr=1-20']"
      ]
     },
     "execution_count": 84,
     "metadata": {},
     "output_type": "execute_result"
    }
   ],
   "source": [
    "laptop_url = []\n",
    "\n",
    "laptop = driver.find_elements_by_xpath(\"//a[@class='a-link-normal a-text-normal']\")\n",
    "\n",
    "for i in laptop[:20]:\n",
    "    laptop_url.append(i.get_attribute('href'))\n",
    "    \n",
    "laptop_url"
   ]
  },
  {
   "cell_type": "code",
   "execution_count": 85,
   "metadata": {},
   "outputs": [],
   "source": [
    "title = []\n",
    "rating = []\n",
    "price = []\n",
    "\n",
    "for i in laptop_url:\n",
    "    driver.get(i)\n",
    "    time.sleep(3)\n",
    "    for j in driver.find_elements_by_xpath(\"//h1[@class='a-size-large a-spacing-none']\"):\n",
    "        title.append(j.text.replace('\\n',' '))\n",
    "    for k in driver.find_elements_by_xpath(\"//span[@data-hook='rating-out-of-text']\"):\n",
    "        try:\n",
    "            driver.find_elements_by_xpath(\"//span[@data-hook='rating-out-of-text']\")\n",
    "            rating.append(k.text)\n",
    "        except NoSuchElementException:\n",
    "            rating.append('Missing')\n",
    "    for m in driver.find_elements_by_xpath(\"//span[@class='a-size-medium a-color-price priceBlockBuyingPriceString']\"):\n",
    "        try:\n",
    "            driver.find_element_by_xpath(\"//span[@class='a-size-medium a-color-price priceBlockBuyingPriceString']\")\n",
    "            price.append(m.text)\n",
    "        except NoSuchElementException:\n",
    "            price.append('-')"
   ]
  },
  {
   "cell_type": "code",
   "execution_count": 86,
   "metadata": {},
   "outputs": [
    {
     "data": {
      "text/plain": [
       "['4.2 out of 5',\n",
       " '4.6 out of 5',\n",
       " '3.6 out of 5',\n",
       " '4.4 out of 5',\n",
       " '3 out of 5',\n",
       " '3.7 out of 5',\n",
       " '4.4 out of 5',\n",
       " '4.4 out of 5',\n",
       " '4.8 out of 5',\n",
       " '3 out of 5',\n",
       " '4.5 out of 5',\n",
       " '4.3 out of 5',\n",
       " '2.9 out of 5',\n",
       " '4.5 out of 5',\n",
       " '2.9 out of 5',\n",
       " '3.5 out of 5',\n",
       " '3.8 out of 5',\n",
       " '4.4 out of 5']"
      ]
     },
     "execution_count": 86,
     "metadata": {},
     "output_type": "execute_result"
    }
   ],
   "source": [
    "rating"
   ]
  },
  {
   "cell_type": "code",
   "execution_count": 87,
   "metadata": {},
   "outputs": [
    {
     "name": "stdout",
     "output_type": "stream",
     "text": [
      "20 18 15\n"
     ]
    }
   ],
   "source": [
    "print(len(title),len(rating),len(price))"
   ]
  },
  {
   "cell_type": "code",
   "execution_count": 88,
   "metadata": {},
   "outputs": [
    {
     "data": {
      "text/html": [
       "<div>\n",
       "<style scoped>\n",
       "    .dataframe tbody tr th:only-of-type {\n",
       "        vertical-align: middle;\n",
       "    }\n",
       "\n",
       "    .dataframe tbody tr th {\n",
       "        vertical-align: top;\n",
       "    }\n",
       "\n",
       "    .dataframe thead th {\n",
       "        text-align: right;\n",
       "    }\n",
       "</style>\n",
       "<table border=\"1\" class=\"dataframe\">\n",
       "  <thead>\n",
       "    <tr style=\"text-align: right;\">\n",
       "      <th></th>\n",
       "      <th>Title</th>\n",
       "      <th>Ratings</th>\n",
       "      <th>Price</th>\n",
       "    </tr>\n",
       "  </thead>\n",
       "  <tbody>\n",
       "    <tr>\n",
       "      <th>0</th>\n",
       "      <td>Lenovo IdeaPad Flex 5 11th Gen Intel Core i7 1...</td>\n",
       "      <td>4.2 out of 5</td>\n",
       "      <td>₹ 92,890.00</td>\n",
       "    </tr>\n",
       "    <tr>\n",
       "      <th>1</th>\n",
       "      <td>Lenovo Yoga 7 11th Gen Intel Core i7 14\" (35.5...</td>\n",
       "      <td>4.6 out of 5</td>\n",
       "      <td>₹ 1,07,990.00</td>\n",
       "    </tr>\n",
       "    <tr>\n",
       "      <th>2</th>\n",
       "      <td>HP Pavilion Gaming 10th Gen Intel Core i7 Proc...</td>\n",
       "      <td>3.6 out of 5</td>\n",
       "      <td>₹ 53,219.00</td>\n",
       "    </tr>\n",
       "    <tr>\n",
       "      <th>3</th>\n",
       "      <td>Mi Notebook Horizon Edition 14 Intel Core i5-1...</td>\n",
       "      <td>4.4 out of 5</td>\n",
       "      <td>₹ 35,000.00</td>\n",
       "    </tr>\n",
       "    <tr>\n",
       "      <th>4</th>\n",
       "      <td>(Renewed) Dell Latitude E6420 14 Inch Laptop (...</td>\n",
       "      <td>3 out of 5</td>\n",
       "      <td>₹ 29,990.00</td>\n",
       "    </tr>\n",
       "    <tr>\n",
       "      <th>5</th>\n",
       "      <td>Life Digital Laptop 15.6-inch (39.62 cms) (Int...</td>\n",
       "      <td>3.7 out of 5</td>\n",
       "      <td>₹ 46,290.00</td>\n",
       "    </tr>\n",
       "    <tr>\n",
       "      <th>6</th>\n",
       "      <td>ASUS ROG G703GI-E5148T 17.3\" (43.94 cms) FHD 1...</td>\n",
       "      <td>4.4 out of 5</td>\n",
       "      <td>₹ 2,01,524.00</td>\n",
       "    </tr>\n",
       "    <tr>\n",
       "      <th>7</th>\n",
       "      <td>HP Pavilion (2021) Thin &amp; Light 11th Gen Core ...</td>\n",
       "      <td>4.4 out of 5</td>\n",
       "      <td>₹ 2,67,364.00</td>\n",
       "    </tr>\n",
       "    <tr>\n",
       "      <th>8</th>\n",
       "      <td>Lenovo Legion 5Pi 10th Gen Intel Core i7 15.6\"...</td>\n",
       "      <td>4.8 out of 5</td>\n",
       "      <td>₹ 87,990.00</td>\n",
       "    </tr>\n",
       "    <tr>\n",
       "      <th>9</th>\n",
       "      <td>HP 14 Thin &amp; Light 14\" (35.56cms) FHD Laptop (...</td>\n",
       "      <td>3 out of 5</td>\n",
       "      <td>₹ 83,000.00</td>\n",
       "    </tr>\n",
       "  </tbody>\n",
       "</table>\n",
       "</div>"
      ],
      "text/plain": [
       "                                               Title       Ratings  \\\n",
       "0  Lenovo IdeaPad Flex 5 11th Gen Intel Core i7 1...  4.2 out of 5   \n",
       "1  Lenovo Yoga 7 11th Gen Intel Core i7 14\" (35.5...  4.6 out of 5   \n",
       "2  HP Pavilion Gaming 10th Gen Intel Core i7 Proc...  3.6 out of 5   \n",
       "3  Mi Notebook Horizon Edition 14 Intel Core i5-1...  4.4 out of 5   \n",
       "4  (Renewed) Dell Latitude E6420 14 Inch Laptop (...    3 out of 5   \n",
       "5  Life Digital Laptop 15.6-inch (39.62 cms) (Int...  3.7 out of 5   \n",
       "6  ASUS ROG G703GI-E5148T 17.3\" (43.94 cms) FHD 1...  4.4 out of 5   \n",
       "7  HP Pavilion (2021) Thin & Light 11th Gen Core ...  4.4 out of 5   \n",
       "8  Lenovo Legion 5Pi 10th Gen Intel Core i7 15.6\"...  4.8 out of 5   \n",
       "9  HP 14 Thin & Light 14\" (35.56cms) FHD Laptop (...    3 out of 5   \n",
       "\n",
       "           Price  \n",
       "0    ₹ 92,890.00  \n",
       "1  ₹ 1,07,990.00  \n",
       "2    ₹ 53,219.00  \n",
       "3    ₹ 35,000.00  \n",
       "4    ₹ 29,990.00  \n",
       "5    ₹ 46,290.00  \n",
       "6  ₹ 2,01,524.00  \n",
       "7  ₹ 2,67,364.00  \n",
       "8    ₹ 87,990.00  \n",
       "9    ₹ 83,000.00  "
      ]
     },
     "execution_count": 88,
     "metadata": {},
     "output_type": "execute_result"
    }
   ],
   "source": [
    "#Loading Data into DataFrame\n",
    "\n",
    "Laptop10 = pd.DataFrame({})\n",
    "\n",
    "Laptop10['Title'] = title[:10]\n",
    "Laptop10['Ratings'] = rating[:10]\n",
    "Laptop10['Price'] = price[:10]\n",
    "\n",
    "Laptop10"
   ]
  }
 ],
 "metadata": {
  "kernelspec": {
   "display_name": "Python 3",
   "language": "python",
   "name": "python3"
  },
  "language_info": {
   "codemirror_mode": {
    "name": "ipython",
    "version": 3
   },
   "file_extension": ".py",
   "mimetype": "text/x-python",
   "name": "python",
   "nbconvert_exporter": "python",
   "pygments_lexer": "ipython3",
   "version": "3.8.5"
  }
 },
 "nbformat": 4,
 "nbformat_minor": 4
}
